{
 "cells": [
  {
   "cell_type": "markdown",
   "metadata": {},
   "source": [
    "# Geopandas\n"
   ]
  },
  {
   "cell_type": "markdown",
   "metadata": {},
   "source": [
    "instalación\n",
    "* ubuntu: pip install geopandas\n",
    "* windows: conda install -c conda-forge geopandas"
   ]
  },
  {
   "cell_type": "markdown",
   "metadata": {},
   "source": [
    "Documentación: http://geopandas.org"
   ]
  },
  {
   "cell_type": "code",
   "execution_count": 1,
   "metadata": {
    "collapsed": true
   },
   "outputs": [],
   "source": [
    "import geopandas as gpd\n",
    "import pandas as pd\n",
    "import numpy as np\n",
    "import matplotlib.pyplot as plt\n",
    "% matplotlib inline\n"
   ]
  },
  {
   "cell_type": "code",
   "execution_count": 2,
   "metadata": {},
   "outputs": [
    {
     "data": {
      "text/html": [
       "<div>\n",
       "<style>\n",
       "    .dataframe thead tr:only-child th {\n",
       "        text-align: right;\n",
       "    }\n",
       "\n",
       "    .dataframe thead th {\n",
       "        text-align: left;\n",
       "    }\n",
       "\n",
       "    .dataframe tbody tr th {\n",
       "        vertical-align: top;\n",
       "    }\n",
       "</style>\n",
       "<table border=\"1\" class=\"dataframe\">\n",
       "  <thead>\n",
       "    <tr style=\"text-align: right;\">\n",
       "      <th></th>\n",
       "      <th>CVE_ENT</th>\n",
       "      <th>CVE_MUN</th>\n",
       "      <th>NOM_MUN</th>\n",
       "      <th>OID</th>\n",
       "      <th>geometry</th>\n",
       "    </tr>\n",
       "  </thead>\n",
       "  <tbody>\n",
       "    <tr>\n",
       "      <th>0</th>\n",
       "      <td>09</td>\n",
       "      <td>012</td>\n",
       "      <td>Tlalpan</td>\n",
       "      <td>1</td>\n",
       "      <td>POLYGON ((-99.1967110331436 19.30240497001839,...</td>\n",
       "    </tr>\n",
       "    <tr>\n",
       "      <th>1</th>\n",
       "      <td>09</td>\n",
       "      <td>013</td>\n",
       "      <td>Xochimilco</td>\n",
       "      <td>2</td>\n",
       "      <td>POLYGON ((-99.13301433831455 19.21009500703628...</td>\n",
       "    </tr>\n",
       "    <tr>\n",
       "      <th>2</th>\n",
       "      <td>09</td>\n",
       "      <td>008</td>\n",
       "      <td>La Magdalena Contreras</td>\n",
       "      <td>3</td>\n",
       "      <td>POLYGON ((-99.24488741070159 19.27620941570171...</td>\n",
       "    </tr>\n",
       "    <tr>\n",
       "      <th>3</th>\n",
       "      <td>09</td>\n",
       "      <td>002</td>\n",
       "      <td>Azcapotzalco</td>\n",
       "      <td>4</td>\n",
       "      <td>POLYGON ((-99.15718110621088 19.50284888316681...</td>\n",
       "    </tr>\n",
       "    <tr>\n",
       "      <th>4</th>\n",
       "      <td>09</td>\n",
       "      <td>014</td>\n",
       "      <td>Benito Ju�rez</td>\n",
       "      <td>5</td>\n",
       "      <td>POLYGON ((-99.14349968483091 19.35724145471904...</td>\n",
       "    </tr>\n",
       "  </tbody>\n",
       "</table>\n",
       "</div>"
      ],
      "text/plain": [
       "  CVE_ENT CVE_MUN                 NOM_MUN  OID  \\\n",
       "0      09     012                 Tlalpan    1   \n",
       "1      09     013              Xochimilco    2   \n",
       "2      09     008  La Magdalena Contreras    3   \n",
       "3      09     002            Azcapotzalco    4   \n",
       "4      09     014           Benito Ju�rez    5   \n",
       "\n",
       "                                            geometry  \n",
       "0  POLYGON ((-99.1967110331436 19.30240497001839,...  \n",
       "1  POLYGON ((-99.13301433831455 19.21009500703628...  \n",
       "2  POLYGON ((-99.24488741070159 19.27620941570171...  \n",
       "3  POLYGON ((-99.15718110621088 19.50284888316681...  \n",
       "4  POLYGON ((-99.14349968483091 19.35724145471904...  "
      ]
     },
     "execution_count": 2,
     "metadata": {},
     "output_type": "execute_result"
    }
   ],
   "source": [
    "gdf = gpd.read_file('data/Municipios/')\n",
    "gdf.head()\n"
   ]
  },
  {
   "cell_type": "code",
   "execution_count": 3,
   "metadata": {},
   "outputs": [
    {
     "data": {
      "text/plain": [
       "geopandas.geodataframe.GeoDataFrame"
      ]
     },
     "execution_count": 3,
     "metadata": {},
     "output_type": "execute_result"
    }
   ],
   "source": [
    "type(gdf)"
   ]
  },
  {
   "cell_type": "code",
   "execution_count": 4,
   "metadata": {},
   "outputs": [
    {
     "data": {
      "text/plain": [
       "pandas.core.frame.DataFrame"
      ]
     },
     "execution_count": 4,
     "metadata": {},
     "output_type": "execute_result"
    }
   ],
   "source": [
    "type(gdf[['CVE_ENT','CVE_MUN','OID']])"
   ]
  },
  {
   "cell_type": "code",
   "execution_count": 5,
   "metadata": {},
   "outputs": [
    {
     "name": "stdout",
     "output_type": "stream",
     "text": [
      "<class 'geopandas.geodataframe.GeoDataFrame'>\n",
      "RangeIndex: 2456 entries, 0 to 2455\n",
      "Data columns (total 5 columns):\n",
      "CVE_ENT     2456 non-null object\n",
      "CVE_MUN     2456 non-null object\n",
      "NOM_MUN     2456 non-null object\n",
      "OID         2456 non-null int64\n",
      "geometry    2456 non-null object\n",
      "dtypes: int64(1), object(4)\n",
      "memory usage: 96.0+ KB\n"
     ]
    }
   ],
   "source": [
    "gdf.info()"
   ]
  },
  {
   "cell_type": "code",
   "execution_count": 6,
   "metadata": {},
   "outputs": [
    {
     "data": {
      "text/plain": [
       "geopandas.geoseries.GeoSeries"
      ]
     },
     "execution_count": 6,
     "metadata": {},
     "output_type": "execute_result"
    }
   ],
   "source": [
    "type(gdf.geometry)"
   ]
  },
  {
   "cell_type": "code",
   "execution_count": 7,
   "metadata": {},
   "outputs": [
    {
     "data": {
      "text/plain": [
       "<matplotlib.axes._subplots.AxesSubplot at 0x7f7cd54e30f0>"
      ]
     },
     "execution_count": 7,
     "metadata": {},
     "output_type": "execute_result"
    },
    {
     "data": {
      "image/png": "[encoded data removed]",
      "text/plain": [
       "<matplotlib.figure.Figure at 0x7f7cd545feb8>"
      ]
     },
     "metadata": {},
     "output_type": "display_data"
    }
   ],
   "source": [
    "gdf.plot(column='OID')"
   ]
  },
  {
   "cell_type": "code",
   "execution_count": 8,
   "metadata": {},
   "outputs": [
    {
     "data": {
      "text/plain": [
       "<matplotlib.axes._subplots.AxesSubplot at 0x7f7cd54ce710>"
      ]
     },
     "execution_count": 8,
     "metadata": {},
     "output_type": "execute_result"
    },
    {
     "data": {
      "image/png": "[encoded data removed]",
      "text/plain": [
       "<matplotlib.figure.Figure at 0x7f7cd54cf6a0>"
      ]
     },
     "metadata": {},
     "output_type": "display_data"
    }
   ],
   "source": [
    "\n",
    "gdf = gdf.loc[gdf.CVE_ENT=='05',:]\n",
    "gdf.plot(column='OID')\n"
   ]
  },
  {
   "cell_type": "markdown",
   "metadata": {},
   "source": [
    "## Lectura\n",
    "\n",
    "Casi cualquier formato de información geoespacial vectorial"
   ]
  },
  {
   "cell_type": "code",
   "execution_count": 9,
   "metadata": {},
   "outputs": [
    {
     "data": {
      "text/plain": [
       "{'ARCGEN': 'r',\n",
       " 'AeronavFAA': 'r',\n",
       " 'BNA': 'raw',\n",
       " 'DGN': 'raw',\n",
       " 'DXF': 'raw',\n",
       " 'ESRI Shapefile': 'raw',\n",
       " 'GPSTrackMaker': 'raw',\n",
       " 'GPX': 'raw',\n",
       " 'GeoJSON': 'rw',\n",
       " 'Idrisi': 'r',\n",
       " 'MapInfo File': 'raw',\n",
       " 'OpenFileGDB': 'r',\n",
       " 'PCIDSK': 'r',\n",
       " 'SEGY': 'r',\n",
       " 'SUA': 'r'}"
      ]
     },
     "execution_count": 9,
     "metadata": {},
     "output_type": "execute_result"
    }
   ],
   "source": [
    "import fiona; fiona.supported_drivers"
   ]
  },
  {
   "cell_type": "code",
   "execution_count": 10,
   "metadata": {},
   "outputs": [
    {
     "data": {
      "text/html": [
       "<div>\n",
       "<style>\n",
       "    .dataframe thead tr:only-child th {\n",
       "        text-align: right;\n",
       "    }\n",
       "\n",
       "    .dataframe thead th {\n",
       "        text-align: left;\n",
       "    }\n",
       "\n",
       "    .dataframe tbody tr th {\n",
       "        vertical-align: top;\n",
       "    }\n",
       "</style>\n",
       "<table border=\"1\" class=\"dataframe\">\n",
       "  <thead>\n",
       "    <tr style=\"text-align: right;\">\n",
       "      <th></th>\n",
       "      <th>cvegeo</th>\n",
       "      <th>municipio</th>\n",
       "      <th>geometry</th>\n",
       "    </tr>\n",
       "  </thead>\n",
       "  <tbody>\n",
       "    <tr>\n",
       "      <th>0</th>\n",
       "      <td>9010</td>\n",
       "      <td>ALVARO OBREGON</td>\n",
       "      <td>POLYGON ((-99.26899687 19.30463712, -99.269029...</td>\n",
       "    </tr>\n",
       "    <tr>\n",
       "      <th>1</th>\n",
       "      <td>9002</td>\n",
       "      <td>AZCAPOTZALCO</td>\n",
       "      <td>POLYGON ((-99.20688081 19.47120497, -99.207120...</td>\n",
       "    </tr>\n",
       "    <tr>\n",
       "      <th>2</th>\n",
       "      <td>9014</td>\n",
       "      <td>BENITO JUAREZ</td>\n",
       "      <td>POLYGON ((-99.18894424 19.39556665, -99.187556...</td>\n",
       "    </tr>\n",
       "    <tr>\n",
       "      <th>3</th>\n",
       "      <td>9003</td>\n",
       "      <td>COYOACAN</td>\n",
       "      <td>POLYGON ((-99.10069169 19.29984584, -99.103266...</td>\n",
       "    </tr>\n",
       "    <tr>\n",
       "      <th>4</th>\n",
       "      <td>9004</td>\n",
       "      <td>CUAJIMALPA</td>\n",
       "      <td>POLYGON ((-99.25561125999999 19.40427641, -99....</td>\n",
       "    </tr>\n",
       "    <tr>\n",
       "      <th>5</th>\n",
       "      <td>9015</td>\n",
       "      <td>CUAUHTEMOC</td>\n",
       "      <td>POLYGON ((-99.12572428 19.40425509, -99.127240...</td>\n",
       "    </tr>\n",
       "    <tr>\n",
       "      <th>6</th>\n",
       "      <td>9005</td>\n",
       "      <td>GUSTAVO A MADERO</td>\n",
       "      <td>POLYGON ((-99.07539946999999 19.44866099, -99....</td>\n",
       "    </tr>\n",
       "    <tr>\n",
       "      <th>7</th>\n",
       "      <td>9006</td>\n",
       "      <td>IZTACALCO</td>\n",
       "      <td>POLYGON ((-99.13541011 19.37723098, -99.134945...</td>\n",
       "    </tr>\n",
       "    <tr>\n",
       "      <th>8</th>\n",
       "      <td>9007</td>\n",
       "      <td>IZTAPALAPA</td>\n",
       "      <td>POLYGON ((-99.06164945 19.29332949, -99.061707...</td>\n",
       "    </tr>\n",
       "    <tr>\n",
       "      <th>9</th>\n",
       "      <td>9008</td>\n",
       "      <td>MAGDALENA CONTRERAS</td>\n",
       "      <td>POLYGON ((-99.24178889 19.28882408, -99.241656...</td>\n",
       "    </tr>\n",
       "    <tr>\n",
       "      <th>10</th>\n",
       "      <td>9016</td>\n",
       "      <td>MIGUEL HIDALGO</td>\n",
       "      <td>POLYGON ((-99.24743779000001 19.38620603, -99....</td>\n",
       "    </tr>\n",
       "    <tr>\n",
       "      <th>11</th>\n",
       "      <td>9009</td>\n",
       "      <td>MILPA ALTA</td>\n",
       "      <td>(POLYGON ((-99.10503988000001 19.19542955, -99...</td>\n",
       "    </tr>\n",
       "    <tr>\n",
       "      <th>12</th>\n",
       "      <td>9011</td>\n",
       "      <td>TLAHUAC</td>\n",
       "      <td>(POLYGON ((-98.97854073000001 19.21483156, -98...</td>\n",
       "    </tr>\n",
       "    <tr>\n",
       "      <th>13</th>\n",
       "      <td>9012</td>\n",
       "      <td>TLALPAN</td>\n",
       "      <td>POLYGON ((-99.25211046 19.26683074, -99.252667...</td>\n",
       "    </tr>\n",
       "    <tr>\n",
       "      <th>14</th>\n",
       "      <td>9017</td>\n",
       "      <td>VENUSTIANO CARRANZA</td>\n",
       "      <td>POLYGON ((-99.12572428 19.40425509, -99.126292...</td>\n",
       "    </tr>\n",
       "    <tr>\n",
       "      <th>15</th>\n",
       "      <td>9013</td>\n",
       "      <td>XOCHIMILCO</td>\n",
       "      <td>POLYGON ((-99.14924243 19.2442199, -99.1483972...</td>\n",
       "    </tr>\n",
       "  </tbody>\n",
       "</table>\n",
       "</div>"
      ],
      "text/plain": [
       "    cvegeo            municipio  \\\n",
       "0     9010       ALVARO OBREGON   \n",
       "1     9002         AZCAPOTZALCO   \n",
       "2     9014        BENITO JUAREZ   \n",
       "3     9003             COYOACAN   \n",
       "4     9004           CUAJIMALPA   \n",
       "5     9015           CUAUHTEMOC   \n",
       "6     9005     GUSTAVO A MADERO   \n",
       "7     9006            IZTACALCO   \n",
       "8     9007           IZTAPALAPA   \n",
       "9     9008  MAGDALENA CONTRERAS   \n",
       "10    9016       MIGUEL HIDALGO   \n",
       "11    9009           MILPA ALTA   \n",
       "12    9011              TLAHUAC   \n",
       "13    9012              TLALPAN   \n",
       "14    9017  VENUSTIANO CARRANZA   \n",
       "15    9013           XOCHIMILCO   \n",
       "\n",
       "                                             geometry  \n",
       "0   POLYGON ((-99.26899687 19.30463712, -99.269029...  \n",
       "1   POLYGON ((-99.20688081 19.47120497, -99.207120...  \n",
       "2   POLYGON ((-99.18894424 19.39556665, -99.187556...  \n",
       "3   POLYGON ((-99.10069169 19.29984584, -99.103266...  \n",
       "4   POLYGON ((-99.25561125999999 19.40427641, -99....  \n",
       "5   POLYGON ((-99.12572428 19.40425509, -99.127240...  \n",
       "6   POLYGON ((-99.07539946999999 19.44866099, -99....  \n",
       "7   POLYGON ((-99.13541011 19.37723098, -99.134945...  \n",
       "8   POLYGON ((-99.06164945 19.29332949, -99.061707...  \n",
       "9   POLYGON ((-99.24178889 19.28882408, -99.241656...  \n",
       "10  POLYGON ((-99.24743779000001 19.38620603, -99....  \n",
       "11  (POLYGON ((-99.10503988000001 19.19542955, -99...  \n",
       "12  (POLYGON ((-98.97854073000001 19.21483156, -98...  \n",
       "13  POLYGON ((-99.25211046 19.26683074, -99.252667...  \n",
       "14  POLYGON ((-99.12572428 19.40425509, -99.126292...  \n",
       "15  POLYGON ((-99.14924243 19.2442199, -99.1483972...  "
      ]
     },
     "execution_count": 10,
     "metadata": {},
     "output_type": "execute_result"
    }
   ],
   "source": [
    "gpd.read_file('data/delegaciones.json')"
   ]
  },
  {
   "cell_type": "markdown",
   "metadata": {},
   "source": [
    "## Administrando proyecciones, CRS (Coordinate Reference Systems)"
   ]
  },
  {
   "cell_type": "code",
   "execution_count": 22,
   "metadata": {},
   "outputs": [
    {
     "data": {
      "text/html": [
       "<div>\n",
       "<style>\n",
       "    .dataframe thead tr:only-child th {\n",
       "        text-align: right;\n",
       "    }\n",
       "\n",
       "    .dataframe thead th {\n",
       "        text-align: left;\n",
       "    }\n",
       "\n",
       "    .dataframe tbody tr th {\n",
       "        vertical-align: top;\n",
       "    }\n",
       "</style>\n",
       "<table border=\"1\" class=\"dataframe\">\n",
       "  <thead>\n",
       "    <tr style=\"text-align: right;\">\n",
       "      <th></th>\n",
       "      <th>pop_est</th>\n",
       "      <th>continent</th>\n",
       "      <th>name</th>\n",
       "      <th>iso_a3</th>\n",
       "      <th>gdp_md_est</th>\n",
       "      <th>geometry</th>\n",
       "    </tr>\n",
       "  </thead>\n",
       "  <tbody>\n",
       "    <tr>\n",
       "      <th>0</th>\n",
       "      <td>28400000.0</td>\n",
       "      <td>Asia</td>\n",
       "      <td>Afghanistan</td>\n",
       "      <td>AFG</td>\n",
       "      <td>22270.0</td>\n",
       "      <td>POLYGON ((61.21081709172574 35.65007233330923,...</td>\n",
       "    </tr>\n",
       "    <tr>\n",
       "      <th>1</th>\n",
       "      <td>12799293.0</td>\n",
       "      <td>Africa</td>\n",
       "      <td>Angola</td>\n",
       "      <td>AGO</td>\n",
       "      <td>110300.0</td>\n",
       "      <td>(POLYGON ((16.32652835456705 -5.87747039146621...</td>\n",
       "    </tr>\n",
       "    <tr>\n",
       "      <th>2</th>\n",
       "      <td>3639453.0</td>\n",
       "      <td>Europe</td>\n",
       "      <td>Albania</td>\n",
       "      <td>ALB</td>\n",
       "      <td>21810.0</td>\n",
       "      <td>POLYGON ((20.59024743010491 41.85540416113361,...</td>\n",
       "    </tr>\n",
       "    <tr>\n",
       "      <th>3</th>\n",
       "      <td>4798491.0</td>\n",
       "      <td>Asia</td>\n",
       "      <td>United Arab Emirates</td>\n",
       "      <td>ARE</td>\n",
       "      <td>184300.0</td>\n",
       "      <td>POLYGON ((51.57951867046327 24.24549713795111,...</td>\n",
       "    </tr>\n",
       "    <tr>\n",
       "      <th>4</th>\n",
       "      <td>40913584.0</td>\n",
       "      <td>South America</td>\n",
       "      <td>Argentina</td>\n",
       "      <td>ARG</td>\n",
       "      <td>573900.0</td>\n",
       "      <td>(POLYGON ((-65.50000000000003 -55.199999999999...</td>\n",
       "    </tr>\n",
       "  </tbody>\n",
       "</table>\n",
       "</div>"
      ],
      "text/plain": [
       "      pop_est      continent                  name iso_a3  gdp_md_est  \\\n",
       "0  28400000.0           Asia           Afghanistan    AFG     22270.0   \n",
       "1  12799293.0         Africa                Angola    AGO    110300.0   \n",
       "2   3639453.0         Europe               Albania    ALB     21810.0   \n",
       "3   4798491.0           Asia  United Arab Emirates    ARE    184300.0   \n",
       "4  40913584.0  South America             Argentina    ARG    573900.0   \n",
       "\n",
       "                                            geometry  \n",
       "0  POLYGON ((61.21081709172574 35.65007233330923,...  \n",
       "1  (POLYGON ((16.32652835456705 -5.87747039146621...  \n",
       "2  POLYGON ((20.59024743010491 41.85540416113361,...  \n",
       "3  POLYGON ((51.57951867046327 24.24549713795111,...  \n",
       "4  (POLYGON ((-65.50000000000003 -55.199999999999...  "
      ]
     },
     "execution_count": 22,
     "metadata": {},
     "output_type": "execute_result"
    }
   ],
   "source": [
    "world = gpd.read_file(gpd.datasets.get_path('naturalearth_lowres'))\n",
    "world = world[(world.name != \"Antarctica\") & (world.name != \"Fr. S. Antarctic Lands\")]\n",
    "world.head()"
   ]
  },
  {
   "cell_type": "code",
   "execution_count": 23,
   "metadata": {},
   "outputs": [
    {
     "data": {
      "text/plain": [
       "Text(0.5,1,'WGS84 (lat/lon)')"
      ]
     },
     "execution_count": 23,
     "metadata": {},
     "output_type": "execute_result"
    },
    {
     "data": {
      "image/png": "[encoded data removed]",
      "text/plain": [
       "<matplotlib.figure.Figure at 0x7f7cd524f7f0>"
      ]
     },
     "metadata": {},
     "output_type": "display_data"
    }
   ],
   "source": [
    "ax = world.plot()\n",
    "ax.set_title(\"WGS84 (lat/lon)\")"
   ]
  },
  {
   "cell_type": "code",
   "execution_count": 24,
   "metadata": {},
   "outputs": [
    {
     "data": {
      "text/plain": [
       "{'init': 'epsg:4326'}"
      ]
     },
     "execution_count": 24,
     "metadata": {},
     "output_type": "execute_result"
    }
   ],
   "source": [
    "world.crs"
   ]
  },
  {
   "cell_type": "code",
   "execution_count": null,
   "metadata": {
    "collapsed": true
   },
   "outputs": [],
   "source": [
    "# Re asignación\n",
    "#world.crs = {'init' :'epsg:4326'}"
   ]
  },
  {
   "cell_type": "code",
   "execution_count": 25,
   "metadata": {},
   "outputs": [
    {
     "data": {
      "text/plain": [
       "{'init': 'epsg:3395'}"
      ]
     },
     "execution_count": 25,
     "metadata": {},
     "output_type": "execute_result"
    }
   ],
   "source": [
    "## Re-proyeción\n",
    "world = world.to_crs({'init': 'epsg:3395'})\n",
    "world.crs\n"
   ]
  },
  {
   "cell_type": "code",
   "execution_count": 26,
   "metadata": {},
   "outputs": [
    {
     "data": {
      "text/plain": [
       "Text(0.5,1,'Mercator')"
      ]
     },
     "execution_count": 26,
     "metadata": {},
     "output_type": "execute_result"
    },
    {
     "data": {
      "image/png": "[encoded data removed]",
      "text/plain": [
       "<matplotlib.figure.Figure at 0x7f7cd542b940>"
      ]
     },
     "metadata": {},
     "output_type": "display_data"
    }
   ],
   "source": [
    "ax = world.plot()\n",
    "ax.set_title(\"Mercator\")"
   ]
  },
  {
   "cell_type": "code",
   "execution_count": 27,
   "metadata": {},
   "outputs": [
    {
     "data": {
      "text/html": [
       "<div>\n",
       "<style>\n",
       "    .dataframe thead tr:only-child th {\n",
       "        text-align: right;\n",
       "    }\n",
       "\n",
       "    .dataframe thead th {\n",
       "        text-align: left;\n",
       "    }\n",
       "\n",
       "    .dataframe tbody tr th {\n",
       "        vertical-align: top;\n",
       "    }\n",
       "</style>\n",
       "<table border=\"1\" class=\"dataframe\">\n",
       "  <thead>\n",
       "    <tr style=\"text-align: right;\">\n",
       "      <th></th>\n",
       "      <th>pop_est</th>\n",
       "      <th>continent</th>\n",
       "      <th>name</th>\n",
       "      <th>iso_a3</th>\n",
       "      <th>gdp_md_est</th>\n",
       "      <th>geometry</th>\n",
       "    </tr>\n",
       "  </thead>\n",
       "  <tbody>\n",
       "    <tr>\n",
       "      <th>0</th>\n",
       "      <td>28400000.0</td>\n",
       "      <td>Asia</td>\n",
       "      <td>Afghanistan</td>\n",
       "      <td>AFG</td>\n",
       "      <td>22270.0</td>\n",
       "      <td>POLYGON ((6813956.989691116 4227673.561898688,...</td>\n",
       "    </tr>\n",
       "    <tr>\n",
       "      <th>1</th>\n",
       "      <td>12799293.0</td>\n",
       "      <td>Africa</td>\n",
       "      <td>Angola</td>\n",
       "      <td>AGO</td>\n",
       "      <td>110300.0</td>\n",
       "      <td>(POLYGON ((1817460.822852346 -651055.117933030...</td>\n",
       "    </tr>\n",
       "    <tr>\n",
       "      <th>2</th>\n",
       "      <td>3639453.0</td>\n",
       "      <td>Europe</td>\n",
       "      <td>Albania</td>\n",
       "      <td>ALB</td>\n",
       "      <td>21810.0</td>\n",
       "      <td>POLYGON ((2292095.859226788 5110825.730490864,...</td>\n",
       "    </tr>\n",
       "    <tr>\n",
       "      <th>3</th>\n",
       "      <td>4798491.0</td>\n",
       "      <td>Asia</td>\n",
       "      <td>United Arab Emirates</td>\n",
       "      <td>ARE</td>\n",
       "      <td>184300.0</td>\n",
       "      <td>POLYGON ((5741805.753758118 2765811.384651244,...</td>\n",
       "    </tr>\n",
       "    <tr>\n",
       "      <th>4</th>\n",
       "      <td>40913584.0</td>\n",
       "      <td>South America</td>\n",
       "      <td>Argentina</td>\n",
       "      <td>ARG</td>\n",
       "      <td>573900.0</td>\n",
       "      <td>(POLYGON ((-7291426.646959423 -7365665.1311332...</td>\n",
       "    </tr>\n",
       "  </tbody>\n",
       "</table>\n",
       "</div>"
      ],
      "text/plain": [
       "      pop_est      continent                  name iso_a3  gdp_md_est  \\\n",
       "0  28400000.0           Asia           Afghanistan    AFG     22270.0   \n",
       "1  12799293.0         Africa                Angola    AGO    110300.0   \n",
       "2   3639453.0         Europe               Albania    ALB     21810.0   \n",
       "3   4798491.0           Asia  United Arab Emirates    ARE    184300.0   \n",
       "4  40913584.0  South America             Argentina    ARG    573900.0   \n",
       "\n",
       "                                            geometry  \n",
       "0  POLYGON ((6813956.989691116 4227673.561898688,...  \n",
       "1  (POLYGON ((1817460.822852346 -651055.117933030...  \n",
       "2  POLYGON ((2292095.859226788 5110825.730490864,...  \n",
       "3  POLYGON ((5741805.753758118 2765811.384651244,...  \n",
       "4  (POLYGON ((-7291426.646959423 -7365665.1311332...  "
      ]
     },
     "execution_count": 27,
     "metadata": {},
     "output_type": "execute_result"
    }
   ],
   "source": [
    "world.head()"
   ]
  },
  {
   "cell_type": "code",
   "execution_count": null,
   "metadata": {
    "collapsed": true
   },
   "outputs": [],
   "source": []
  },
  {
   "cell_type": "code",
   "execution_count": 28,
   "metadata": {},
   "outputs": [
    {
     "data": {
      "text/plain": [
       "<matplotlib.axes._subplots.AxesSubplot at 0x7f7cd53b2eb8>"
      ]
     },
     "execution_count": 28,
     "metadata": {},
     "output_type": "execute_result"
    },
    {
     "data": {
      "image/png": "[encoded data removed]",
      "text/plain": [
       "<matplotlib.figure.Figure at 0x7f7cd51e6390>"
      ]
     },
     "metadata": {},
     "output_type": "display_data"
    }
   ],
   "source": [
    "# Transverse mercator\n",
    "world.to_crs({'proj': 'tmerc'}).plot()"
   ]
  },
  {
   "cell_type": "code",
   "execution_count": 29,
   "metadata": {},
   "outputs": [
    {
     "data": {
      "text/plain": [
       "<matplotlib.axes._subplots.AxesSubplot at 0x7f7cd4fcfeb8>"
      ]
     },
     "execution_count": 29,
     "metadata": {},
     "output_type": "execute_result"
    },
    {
     "data": {
      "image/png": "[encoded data removed]",
      "text/plain": [
       "<matplotlib.figure.Figure at 0x7f7cd501ccc0>"
      ]
     },
     "metadata": {},
     "output_type": "display_data"
    }
   ],
   "source": [
    "#Albert Equal Area\n",
    "world.to_crs({'proj': 'aea'}).plot()"
   ]
  },
  {
   "cell_type": "code",
   "execution_count": null,
   "metadata": {
    "collapsed": true
   },
   "outputs": [],
   "source": []
  },
  {
   "cell_type": "markdown",
   "metadata": {},
   "source": [
    "CRS are referred to using codes called proj4 strings. You can find the codes for most commonly used projections from www.spatialreference.org or remotesensing.org."
   ]
  },
  {
   "cell_type": "markdown",
   "metadata": {},
   "source": [
    "## Ok, qué es una geoserie?"
   ]
  },
  {
   "cell_type": "code",
   "execution_count": 5,
   "metadata": {
    "collapsed": true
   },
   "outputs": [],
   "source": [
    "from shapely.geometry import Point, LineString, \\\n",
    "            MultiPoint, MultiLineString, Polygon, MultiPolygon"
   ]
  },
  {
   "cell_type": "code",
   "execution_count": 13,
   "metadata": {},
   "outputs": [
    {
     "data": {
      "text/plain": [
       "<matplotlib.axes._subplots.AxesSubplot at 0x7f7cd54c1080>"
      ]
     },
     "execution_count": 13,
     "metadata": {},
     "output_type": "execute_result"
    },
    {
     "data": {
      "image/png": "[encoded data removed]",
      "text/plain": [
       "<matplotlib.figure.Figure at 0x7f7cd5446438>"
      ]
     },
     "metadata": {},
     "output_type": "display_data"
    }
   ],
   "source": [
    "p1 = Point([0,0])\n",
    "p2 = Point([0,1])\n",
    "p3 = Point([1,1])\n",
    "gpd.GeoSeries([p1,p2,p3]).plot()"
   ]
  },
  {
   "cell_type": "code",
   "execution_count": 15,
   "metadata": {},
   "outputs": [
    {
     "data": {
      "text/plain": [
       "0    LINESTRING (1 2, 2 0, 2 1)\n",
       "1         LINESTRING (3 1, 4 3)\n",
       "dtype: object"
      ]
     },
     "execution_count": 15,
     "metadata": {},
     "output_type": "execute_result"
    }
   ],
   "source": [
    "l1 = LineString([[1,2],[2,0],[2,1]])\n",
    "l2 = LineString([[3,1],[4,3]])\n",
    "gpd.GeoSeries([l1,l2])"
   ]
  },
  {
   "cell_type": "code",
   "execution_count": 16,
   "metadata": {},
   "outputs": [
    {
     "data": {
      "text/plain": [
       "<matplotlib.axes._subplots.AxesSubplot at 0x7f7cd5286748>"
      ]
     },
     "execution_count": 16,
     "metadata": {},
     "output_type": "execute_result"
    },
    {
     "data": {
      "image/png": "[encoded data removed]",
      "text/plain": [
       "<matplotlib.figure.Figure at 0x7f7cd543d470>"
      ]
     },
     "metadata": {},
     "output_type": "display_data"
    }
   ],
   "source": [
    "P1 = Polygon([[3,4],[4,3],[4,4]])\n",
    "P2 = Polygon([[5,0],[6,-1],[7,-1],[8,0],[7,1],[6,1]])\n",
    "gpd.GeoSeries([P1,P2]).plot()"
   ]
  },
  {
   "cell_type": "code",
   "execution_count": null,
   "metadata": {
    "collapsed": true
   },
   "outputs": [],
   "source": []
  },
  {
   "cell_type": "code",
   "execution_count": 18,
   "metadata": {},
   "outputs": [
    {
     "data": {
      "text/plain": [
       "<matplotlib.axes._subplots.AxesSubplot at 0x7f7cd52bf5f8>"
      ]
     },
     "execution_count": 18,
     "metadata": {},
     "output_type": "execute_result"
    },
    {
     "data": {
      "image/png": "[encoded data removed]",
      "text/plain": [
       "<matplotlib.figure.Figure at 0x7f7cd5369a20>"
      ]
     },
     "metadata": {},
     "output_type": "display_data"
    }
   ],
   "source": [
    "mp = MultiPoint([p1,p2,p3])\n",
    "ml = MultiLineString([l1,l2])\n",
    "mP = MultiPolygon([P1,P2])\n",
    "gpd.GeoSeries([mp,ml,mP]).plot()"
   ]
  },
  {
   "cell_type": "code",
   "execution_count": 19,
   "metadata": {},
   "outputs": [
    {
     "data": {
      "text/plain": [
       "0              (POINT (0 0), POINT (0 1), POINT (1 1))\n",
       "1    (LINESTRING (1 2, 2 0, 2 1), LINESTRING (3 1, ...\n",
       "2    (POLYGON ((3 4, 4 3, 4 4, 3 4)), POLYGON ((5 0...\n",
       "dtype: object"
      ]
     },
     "execution_count": 19,
     "metadata": {},
     "output_type": "execute_result"
    }
   ],
   "source": [
    "gpd.GeoSeries([mp,ml,mP])"
   ]
  },
  {
   "cell_type": "code",
   "execution_count": 20,
   "metadata": {},
   "outputs": [
    {
     "data": {
      "text/html": [
       "<div>\n",
       "<style>\n",
       "    .dataframe thead tr:only-child th {\n",
       "        text-align: right;\n",
       "    }\n",
       "\n",
       "    .dataframe thead th {\n",
       "        text-align: left;\n",
       "    }\n",
       "\n",
       "    .dataframe tbody tr th {\n",
       "        vertical-align: top;\n",
       "    }\n",
       "</style>\n",
       "<table border=\"1\" class=\"dataframe\">\n",
       "  <thead>\n",
       "    <tr style=\"text-align: right;\">\n",
       "      <th></th>\n",
       "      <th>A</th>\n",
       "      <th>B</th>\n",
       "      <th>C</th>\n",
       "    </tr>\n",
       "  </thead>\n",
       "  <tbody>\n",
       "    <tr>\n",
       "      <th>0</th>\n",
       "      <td>0.253508</td>\n",
       "      <td>0.284346</td>\n",
       "      <td>0.575920</td>\n",
       "    </tr>\n",
       "    <tr>\n",
       "      <th>1</th>\n",
       "      <td>0.517631</td>\n",
       "      <td>0.046070</td>\n",
       "      <td>0.299513</td>\n",
       "    </tr>\n",
       "    <tr>\n",
       "      <th>2</th>\n",
       "      <td>0.731640</td>\n",
       "      <td>0.498955</td>\n",
       "      <td>0.890522</td>\n",
       "    </tr>\n",
       "  </tbody>\n",
       "</table>\n",
       "</div>"
      ],
      "text/plain": [
       "          A         B         C\n",
       "0  0.253508  0.284346  0.575920\n",
       "1  0.517631  0.046070  0.299513\n",
       "2  0.731640  0.498955  0.890522"
      ]
     },
     "execution_count": 20,
     "metadata": {},
     "output_type": "execute_result"
    }
   ],
   "source": [
    "## qué es un GeoDataFrame?\n",
    "\n",
    "u = pd.DataFrame(np.random.random(size=[3,3]),columns=['A','B','C'])\n",
    "u"
   ]
  },
  {
   "cell_type": "code",
   "execution_count": 21,
   "metadata": {},
   "outputs": [
    {
     "data": {
      "text/html": [
       "<div>\n",
       "<style>\n",
       "    .dataframe thead tr:only-child th {\n",
       "        text-align: right;\n",
       "    }\n",
       "\n",
       "    .dataframe thead th {\n",
       "        text-align: left;\n",
       "    }\n",
       "\n",
       "    .dataframe tbody tr th {\n",
       "        vertical-align: top;\n",
       "    }\n",
       "</style>\n",
       "<table border=\"1\" class=\"dataframe\">\n",
       "  <thead>\n",
       "    <tr style=\"text-align: right;\">\n",
       "      <th></th>\n",
       "      <th>A</th>\n",
       "      <th>B</th>\n",
       "      <th>C</th>\n",
       "      <th>geometry</th>\n",
       "    </tr>\n",
       "  </thead>\n",
       "  <tbody>\n",
       "    <tr>\n",
       "      <th>0</th>\n",
       "      <td>0.253508</td>\n",
       "      <td>0.284346</td>\n",
       "      <td>0.575920</td>\n",
       "      <td>(POINT (0 0), POINT (0 1), POINT (1 1))</td>\n",
       "    </tr>\n",
       "    <tr>\n",
       "      <th>1</th>\n",
       "      <td>0.517631</td>\n",
       "      <td>0.046070</td>\n",
       "      <td>0.299513</td>\n",
       "      <td>(LINESTRING (1 2, 2 0, 2 1), LINESTRING (3 1, ...</td>\n",
       "    </tr>\n",
       "    <tr>\n",
       "      <th>2</th>\n",
       "      <td>0.731640</td>\n",
       "      <td>0.498955</td>\n",
       "      <td>0.890522</td>\n",
       "      <td>(POLYGON ((3 4, 4 3, 4 4, 3 4)), POLYGON ((5 0...</td>\n",
       "    </tr>\n",
       "  </tbody>\n",
       "</table>\n",
       "</div>"
      ],
      "text/plain": [
       "          A         B         C  \\\n",
       "0  0.253508  0.284346  0.575920   \n",
       "1  0.517631  0.046070  0.299513   \n",
       "2  0.731640  0.498955  0.890522   \n",
       "\n",
       "                                            geometry  \n",
       "0            (POINT (0 0), POINT (0 1), POINT (1 1))  \n",
       "1  (LINESTRING (1 2, 2 0, 2 1), LINESTRING (3 1, ...  \n",
       "2  (POLYGON ((3 4, 4 3, 4 4, 3 4)), POLYGON ((5 0...  "
      ]
     },
     "execution_count": 21,
     "metadata": {},
     "output_type": "execute_result"
    }
   ],
   "source": [
    "u = gpd.GeoDataFrame(u, geometry = gpd.GeoSeries([mp,ml,mP]))\n",
    "u\n"
   ]
  },
  {
   "cell_type": "code",
   "execution_count": 3,
   "metadata": {},
   "outputs": [
    {
     "data": {
      "text/html": [
       "<div>\n",
       "<style>\n",
       "    .dataframe thead tr:only-child th {\n",
       "        text-align: right;\n",
       "    }\n",
       "\n",
       "    .dataframe thead th {\n",
       "        text-align: left;\n",
       "    }\n",
       "\n",
       "    .dataframe tbody tr th {\n",
       "        vertical-align: top;\n",
       "    }\n",
       "</style>\n",
       "<table border=\"1\" class=\"dataframe\">\n",
       "  <thead>\n",
       "    <tr style=\"text-align: right;\">\n",
       "      <th></th>\n",
       "      <th>Unnamed: 0</th>\n",
       "      <th>timestamp</th>\n",
       "      <th>x</th>\n",
       "      <th>y</th>\n",
       "      <th>speed</th>\n",
       "      <th>provider</th>\n",
       "    </tr>\n",
       "  </thead>\n",
       "  <tbody>\n",
       "    <tr>\n",
       "      <th>739955</th>\n",
       "      <td>2111925</td>\n",
       "      <td>2017-03-30T03:54:43Z</td>\n",
       "      <td>-92.272708</td>\n",
       "      <td>14.901634</td>\n",
       "      <td>0.0</td>\n",
       "      <td>1</td>\n",
       "    </tr>\n",
       "    <tr>\n",
       "      <th>329245</th>\n",
       "      <td>481111</td>\n",
       "      <td>2017-03-30T00:45:46Z</td>\n",
       "      <td>-97.659204</td>\n",
       "      <td>18.874581</td>\n",
       "      <td>0.0</td>\n",
       "      <td>1</td>\n",
       "    </tr>\n",
       "    <tr>\n",
       "      <th>34264</th>\n",
       "      <td>11128068</td>\n",
       "      <td>2017-03-30T22:35:51Z</td>\n",
       "      <td>-103.326460</td>\n",
       "      <td>20.587517</td>\n",
       "      <td>0.0</td>\n",
       "      <td>4</td>\n",
       "    </tr>\n",
       "    <tr>\n",
       "      <th>567242</th>\n",
       "      <td>4993557</td>\n",
       "      <td>2017-03-30T12:52:17Z</td>\n",
       "      <td>-98.944279</td>\n",
       "      <td>19.374716</td>\n",
       "      <td>11.0</td>\n",
       "      <td>1</td>\n",
       "    </tr>\n",
       "    <tr>\n",
       "      <th>584615</th>\n",
       "      <td>2005017</td>\n",
       "      <td>2017-03-30T03:40:26Z</td>\n",
       "      <td>-99.172634</td>\n",
       "      <td>19.483471</td>\n",
       "      <td>10.0</td>\n",
       "      <td>1</td>\n",
       "    </tr>\n",
       "  </tbody>\n",
       "</table>\n",
       "</div>"
      ],
      "text/plain": [
       "        Unnamed: 0             timestamp           x          y  speed  \\\n",
       "739955     2111925  2017-03-30T03:54:43Z  -92.272708  14.901634    0.0   \n",
       "329245      481111  2017-03-30T00:45:46Z  -97.659204  18.874581    0.0   \n",
       "34264     11128068  2017-03-30T22:35:51Z -103.326460  20.587517    0.0   \n",
       "567242     4993557  2017-03-30T12:52:17Z  -98.944279  19.374716   11.0   \n",
       "584615     2005017  2017-03-30T03:40:26Z  -99.172634  19.483471   10.0   \n",
       "\n",
       "        provider  \n",
       "739955         1  \n",
       "329245         1  \n",
       "34264          4  \n",
       "567242         1  \n",
       "584615         1  "
      ]
     },
     "execution_count": 3,
     "metadata": {},
     "output_type": "execute_result"
    }
   ],
   "source": [
    "df = pd.read_csv('data/probe.probe').sample(10000)\n",
    "df.head()"
   ]
  },
  {
   "cell_type": "code",
   "execution_count": 6,
   "metadata": {},
   "outputs": [],
   "source": [
    "def hacer_punto(row):\n",
    "    p = Point(row.x,row.y)\n",
    "    return p\n",
    "df['geometry'] = df.apply(hacer_punto,axis=1)\n",
    "df = gpd.GeoDataFrame(df,geometry='geometry')"
   ]
  },
  {
   "cell_type": "code",
   "execution_count": 32,
   "metadata": {},
   "outputs": [
    {
     "data": {
      "text/plain": [
       "geopandas.geodataframe.GeoDataFrame"
      ]
     },
     "execution_count": 32,
     "metadata": {},
     "output_type": "execute_result"
    }
   ],
   "source": [
    "type(df)"
   ]
  },
  {
   "cell_type": "code",
   "execution_count": 33,
   "metadata": {},
   "outputs": [
    {
     "data": {
      "text/plain": [
       "<matplotlib.axes._subplots.AxesSubplot at 0x7f7cd2251198>"
      ]
     },
     "execution_count": 33,
     "metadata": {},
     "output_type": "execute_result"
    },
    {
     "data": {
      "image/png": "[encoded data removed]",
      "text/plain": [
       "<matplotlib.figure.Figure at 0x7f7cd4f29c18>"
      ]
     },
     "metadata": {},
     "output_type": "display_data"
    }
   ],
   "source": [
    "df.plot()"
   ]
  },
  {
   "cell_type": "code",
   "execution_count": 22,
   "metadata": {
    "collapsed": true
   },
   "outputs": [],
   "source": [
    "df.crs = {'init' :'epsg:4326'}"
   ]
  },
  {
   "cell_type": "markdown",
   "metadata": {},
   "source": [
    "# Manipulaciones geometricas"
   ]
  },
  {
   "cell_type": "code",
   "execution_count": 36,
   "metadata": {},
   "outputs": [
    {
     "data": {
      "text/html": [
       "<div>\n",
       "<style>\n",
       "    .dataframe thead tr:only-child th {\n",
       "        text-align: right;\n",
       "    }\n",
       "\n",
       "    .dataframe thead th {\n",
       "        text-align: left;\n",
       "    }\n",
       "\n",
       "    .dataframe tbody tr th {\n",
       "        vertical-align: top;\n",
       "    }\n",
       "</style>\n",
       "<table border=\"1\" class=\"dataframe\">\n",
       "  <thead>\n",
       "    <tr style=\"text-align: right;\">\n",
       "      <th></th>\n",
       "      <th>CVE_ENT</th>\n",
       "      <th>CVE_MUN</th>\n",
       "      <th>NOM_MUN</th>\n",
       "      <th>OID</th>\n",
       "      <th>geometry</th>\n",
       "    </tr>\n",
       "  </thead>\n",
       "  <tbody>\n",
       "    <tr>\n",
       "      <th>0</th>\n",
       "      <td>05</td>\n",
       "      <td>035</td>\n",
       "      <td>Torre�n</td>\n",
       "      <td>2250</td>\n",
       "      <td>(POLYGON ((-103.4279682574413 25.3010926774777...</td>\n",
       "    </tr>\n",
       "    <tr>\n",
       "      <th>1</th>\n",
       "      <td>05</td>\n",
       "      <td>024</td>\n",
       "      <td>Parras</td>\n",
       "      <td>2251</td>\n",
       "      <td>POLYGON ((-102.150401292488 26.42176909598752,...</td>\n",
       "    </tr>\n",
       "    <tr>\n",
       "      <th>2</th>\n",
       "      <td>05</td>\n",
       "      <td>017</td>\n",
       "      <td>Matamoros</td>\n",
       "      <td>2252</td>\n",
       "      <td>POLYGON ((-103.2225245672591 25.75687150448032...</td>\n",
       "    </tr>\n",
       "    <tr>\n",
       "      <th>3</th>\n",
       "      <td>05</td>\n",
       "      <td>038</td>\n",
       "      <td>Zaragoza</td>\n",
       "      <td>2253</td>\n",
       "      <td>POLYGON ((-101.8846877927711 28.7959789025173,...</td>\n",
       "    </tr>\n",
       "    <tr>\n",
       "      <th>4</th>\n",
       "      <td>05</td>\n",
       "      <td>037</td>\n",
       "      <td>Villa Uni�n</td>\n",
       "      <td>2254</td>\n",
       "      <td>POLYGON ((-100.6635448364334 28.22782077655265...</td>\n",
       "    </tr>\n",
       "  </tbody>\n",
       "</table>\n",
       "</div>"
      ],
      "text/plain": [
       "  CVE_ENT CVE_MUN      NOM_MUN   OID  \\\n",
       "0      05     035      Torre�n  2250   \n",
       "1      05     024       Parras  2251   \n",
       "2      05     017    Matamoros  2252   \n",
       "3      05     038     Zaragoza  2253   \n",
       "4      05     037  Villa Uni�n  2254   \n",
       "\n",
       "                                            geometry  \n",
       "0  (POLYGON ((-103.4279682574413 25.3010926774777...  \n",
       "1  POLYGON ((-102.150401292488 26.42176909598752,...  \n",
       "2  POLYGON ((-103.2225245672591 25.75687150448032...  \n",
       "3  POLYGON ((-101.8846877927711 28.7959789025173,...  \n",
       "4  POLYGON ((-100.6635448364334 28.22782077655265...  "
      ]
     },
     "execution_count": 36,
     "metadata": {},
     "output_type": "execute_result"
    }
   ],
   "source": [
    "u = pd.DataFrame(gdf.values, columns= gdf.columns)\n",
    "u.head()"
   ]
  },
  {
   "cell_type": "code",
   "execution_count": 37,
   "metadata": {},
   "outputs": [
    {
     "data": {
      "text/plain": [
       "<matplotlib.axes._subplots.AxesSubplot at 0x7f7cd168ed30>"
      ]
     },
     "execution_count": 37,
     "metadata": {},
     "output_type": "execute_result"
    },
    {
     "data": {
      "image/png": "[encoded data removed]",
      "text/plain": [
       "<matplotlib.figure.Figure at 0x7f7cd1fe3e10>"
      ]
     },
     "metadata": {},
     "output_type": "display_data"
    }
   ],
   "source": [
    "gdf.plot()"
   ]
  },
  {
   "cell_type": "code",
   "execution_count": 39,
   "metadata": {},
   "outputs": [
    {
     "name": "stdout",
     "output_type": "stream",
     "text": [
      "     CVE_ENT CVE_MUN   NOM_MUN   OID  \\\n",
      "2270      05     018  Monclova  2271   \n",
      "\n",
      "                                               geometry  \n",
      "2270  POLYGON ((-101.1170613923369 26.6996873077993,...  \n"
     ]
    },
    {
     "data": {
      "text/plain": [
       "<matplotlib.axes._subplots.AxesSubplot at 0x7f7cce863668>"
      ]
     },
     "execution_count": 39,
     "metadata": {},
     "output_type": "execute_result"
    },
    {
     "data": {
      "image/png": "[encoded data removed]",
      "text/plain": [
       "<matplotlib.figure.Figure at 0x7f7cd0c58cf8>"
      ]
     },
     "metadata": {},
     "output_type": "display_data"
    }
   ],
   "source": [
    "print(gdf.loc[gdf.NOM_MUN=='Monclova',:])\n",
    "gdf.loc[gdf.NOM_MUN=='Monclova',:].plot()"
   ]
  },
  {
   "cell_type": "code",
   "execution_count": 40,
   "metadata": {},
   "outputs": [
    {
     "data": {
      "text/plain": [
       "<matplotlib.axes._subplots.AxesSubplot at 0x7f7cce04ecf8>"
      ]
     },
     "execution_count": 40,
     "metadata": {},
     "output_type": "execute_result"
    },
    {
     "data": {
      "image/png": "[encoded data removed]",
      "text/plain": [
       "<matplotlib.figure.Figure at 0x7f7cce33dcc0>"
      ]
     },
     "metadata": {},
     "output_type": "display_data"
    }
   ],
   "source": [
    "u = pd.DataFrame(gdf.values, columns= gdf.columns)\n",
    "u = gpd.GeoDataFrame(u,geometry = u.geometry)\n",
    "u.geometry = u.convex_hull\n",
    "u.plot(column='OID')"
   ]
  },
  {
   "cell_type": "code",
   "execution_count": null,
   "metadata": {
    "collapsed": true
   },
   "outputs": [],
   "source": []
  },
  {
   "cell_type": "code",
   "execution_count": 41,
   "metadata": {},
   "outputs": [
    {
     "data": {
      "text/plain": [
       "<matplotlib.axes._subplots.AxesSubplot at 0x7f7cce015860>"
      ]
     },
     "execution_count": 41,
     "metadata": {},
     "output_type": "execute_result"
    },
    {
     "data": {
      "image/png": "[encoded data removed]",
      "text/plain": [
       "<matplotlib.figure.Figure at 0x7f7cd522d240>"
      ]
     },
     "metadata": {},
     "output_type": "display_data"
    }
   ],
   "source": [
    "u = pd.DataFrame(gdf.values, columns= gdf.columns)\n",
    "u = gpd.GeoDataFrame(u,geometry = u.geometry)\n",
    "u.geometry = u.buffer(0.01)\n",
    "u.plot(column='OID')"
   ]
  },
  {
   "cell_type": "code",
   "execution_count": 42,
   "metadata": {},
   "outputs": [
    {
     "data": {
      "text/plain": [
       "<matplotlib.axes._subplots.AxesSubplot at 0x7f7cce7e7a58>"
      ]
     },
     "execution_count": 42,
     "metadata": {},
     "output_type": "execute_result"
    },
    {
     "data": {
      "image/png": "[encoded data removed]",
      "text/plain": [
       "<matplotlib.figure.Figure at 0x7f7cd240f710>"
      ]
     },
     "metadata": {},
     "output_type": "display_data"
    }
   ],
   "source": [
    "u = pd.DataFrame(gdf.values, columns= gdf.columns)\n",
    "u = gpd.GeoDataFrame(u,geometry = u.geometry)\n",
    "u.geometry = u.centroid\n",
    "u.plot(column='OID')"
   ]
  },
  {
   "cell_type": "code",
   "execution_count": 43,
   "metadata": {},
   "outputs": [
    {
     "data": {
      "text/plain": [
       "<matplotlib.axes._subplots.AxesSubplot at 0x7f7cd0b57710>"
      ]
     },
     "execution_count": 43,
     "metadata": {},
     "output_type": "execute_result"
    },
    {
     "data": {
      "image/png": "[encoded data removed]",
      "text/plain": [
       "<matplotlib.figure.Figure at 0x7f7cd240a470>"
      ]
     },
     "metadata": {},
     "output_type": "display_data"
    }
   ],
   "source": [
    "u = pd.DataFrame(gdf.values, columns= gdf.columns)\n",
    "u = gpd.GeoDataFrame(u,geometry = u.geometry)\n",
    "u.geometry = u.representative_point()\n",
    "u.plot(column='OID')"
   ]
  },
  {
   "cell_type": "code",
   "execution_count": 44,
   "metadata": {},
   "outputs": [
    {
     "data": {
      "text/plain": [
       "<matplotlib.axes._subplots.AxesSubplot at 0x7f7cd216af60>"
      ]
     },
     "execution_count": 44,
     "metadata": {},
     "output_type": "execute_result"
    },
    {
     "data": {
      "image/png": "[encoded data removed]",
      "text/plain": [
       "<matplotlib.figure.Figure at 0x7f7cd0b7cc18>"
      ]
     },
     "metadata": {},
     "output_type": "display_data"
    }
   ],
   "source": [
    "u = pd.DataFrame(gdf.values, columns= gdf.columns)\n",
    "u = gpd.GeoDataFrame(u,geometry = u.geometry)\n",
    "u.geometry = u.envelope\n",
    "u.plot(column='OID')"
   ]
  },
  {
   "cell_type": "code",
   "execution_count": 47,
   "metadata": {},
   "outputs": [
    {
     "data": {
      "text/plain": [
       "<matplotlib.axes._subplots.AxesSubplot at 0x7f7cd0bf9eb8>"
      ]
     },
     "execution_count": 47,
     "metadata": {},
     "output_type": "execute_result"
    },
    {
     "data": {
      "image/png": "[encoded data removed]",
      "text/plain": [
       "<matplotlib.figure.Figure at 0x7f7ccdf6f748>"
      ]
     },
     "metadata": {},
     "output_type": "display_data"
    }
   ],
   "source": [
    "u = pd.DataFrame(gdf.values, columns= gdf.columns)\n",
    "u = gpd.GeoDataFrame(u,geometry = u.geometry)\n",
    "u.geometry = u.simplify(0.01\n",
    "                       )\n",
    "u.plot(column='OID')"
   ]
  },
  {
   "cell_type": "markdown",
   "metadata": {
    "collapsed": true
   },
   "source": [
    "## Atributos\n"
   ]
  },
  {
   "cell_type": "code",
   "execution_count": 48,
   "metadata": {},
   "outputs": [
    {
     "data": {
      "text/plain": [
       "2249    0.114866\n",
       "2250    0.953628\n",
       "2251    0.072407\n",
       "2252    0.733791\n",
       "2253    0.170286\n",
       "dtype: float64"
      ]
     },
     "execution_count": 48,
     "metadata": {},
     "output_type": "execute_result"
    }
   ],
   "source": [
    "gdf.area.head()   ### Unidades?"
   ]
  },
  {
   "cell_type": "code",
   "execution_count": 49,
   "metadata": {},
   "outputs": [
    {
     "data": {
      "text/plain": [
       "2249    2.965858\n",
       "2250    7.543374\n",
       "2251    1.757637\n",
       "2252    4.264889\n",
       "2253    2.081274\n",
       "dtype: float64"
      ]
     },
     "execution_count": 49,
     "metadata": {},
     "output_type": "execute_result"
    }
   ],
   "source": [
    "gdf.length.head()"
   ]
  },
  {
   "cell_type": "code",
   "execution_count": 50,
   "metadata": {},
   "outputs": [
    {
     "data": {
      "text/html": [
       "<div>\n",
       "<style>\n",
       "    .dataframe thead tr:only-child th {\n",
       "        text-align: right;\n",
       "    }\n",
       "\n",
       "    .dataframe thead th {\n",
       "        text-align: left;\n",
       "    }\n",
       "\n",
       "    .dataframe tbody tr th {\n",
       "        vertical-align: top;\n",
       "    }\n",
       "</style>\n",
       "<table border=\"1\" class=\"dataframe\">\n",
       "  <thead>\n",
       "    <tr style=\"text-align: right;\">\n",
       "      <th></th>\n",
       "      <th>minx</th>\n",
       "      <th>miny</th>\n",
       "      <th>maxx</th>\n",
       "      <th>maxy</th>\n",
       "    </tr>\n",
       "  </thead>\n",
       "  <tbody>\n",
       "    <tr>\n",
       "      <th>2249</th>\n",
       "      <td>-103.510937</td>\n",
       "      <td>24.793104</td>\n",
       "      <td>-102.956807</td>\n",
       "      <td>25.691387</td>\n",
       "    </tr>\n",
       "    <tr>\n",
       "      <th>2250</th>\n",
       "      <td>-102.904713</td>\n",
       "      <td>24.754397</td>\n",
       "      <td>-101.379252</td>\n",
       "      <td>26.421769</td>\n",
       "    </tr>\n",
       "    <tr>\n",
       "      <th>2251</th>\n",
       "      <td>-103.366155</td>\n",
       "      <td>25.371074</td>\n",
       "      <td>-103.030470</td>\n",
       "      <td>25.776177</td>\n",
       "    </tr>\n",
       "    <tr>\n",
       "      <th>2252</th>\n",
       "      <td>-101.997202</td>\n",
       "      <td>28.376462</td>\n",
       "      <td>-100.603667</td>\n",
       "      <td>29.371842</td>\n",
       "    </tr>\n",
       "    <tr>\n",
       "      <th>2253</th>\n",
       "      <td>-101.033033</td>\n",
       "      <td>27.821439</td>\n",
       "      <td>-100.538123</td>\n",
       "      <td>28.377465</td>\n",
       "    </tr>\n",
       "  </tbody>\n",
       "</table>\n",
       "</div>"
      ],
      "text/plain": [
       "            minx       miny        maxx       maxy\n",
       "2249 -103.510937  24.793104 -102.956807  25.691387\n",
       "2250 -102.904713  24.754397 -101.379252  26.421769\n",
       "2251 -103.366155  25.371074 -103.030470  25.776177\n",
       "2252 -101.997202  28.376462 -100.603667  29.371842\n",
       "2253 -101.033033  27.821439 -100.538123  28.377465"
      ]
     },
     "execution_count": 50,
     "metadata": {},
     "output_type": "execute_result"
    }
   ],
   "source": [
    "gdf.bounds.head()"
   ]
  },
  {
   "cell_type": "code",
   "execution_count": 51,
   "metadata": {},
   "outputs": [
    {
     "data": {
      "text/plain": [
       "array([-103.96000192,   24.54268407,  -99.84311981,   29.88002429])"
      ]
     },
     "execution_count": 51,
     "metadata": {},
     "output_type": "execute_result"
    }
   ],
   "source": [
    "gdf.total_bounds"
   ]
  },
  {
   "cell_type": "code",
   "execution_count": 52,
   "metadata": {},
   "outputs": [
    {
     "data": {
      "text/plain": [
       "2249    MultiPolygon\n",
       "2250         Polygon\n",
       "2251         Polygon\n",
       "2252         Polygon\n",
       "2253         Polygon\n",
       "dtype: object"
      ]
     },
     "execution_count": 52,
     "metadata": {},
     "output_type": "execute_result"
    }
   ],
   "source": [
    "gdf.geom_type.head()"
   ]
  },
  {
   "cell_type": "code",
   "execution_count": 53,
   "metadata": {},
   "outputs": [
    {
     "data": {
      "text/plain": [
       "2249    True\n",
       "2250    True\n",
       "2251    True\n",
       "2252    True\n",
       "2253    True\n",
       "dtype: bool"
      ]
     },
     "execution_count": 53,
     "metadata": {},
     "output_type": "execute_result"
    }
   ],
   "source": [
    "gdf.is_valid.head()"
   ]
  },
  {
   "cell_type": "code",
   "execution_count": 54,
   "metadata": {},
   "outputs": [
    {
     "data": {
      "text/plain": [
       "2249    2.262429\n",
       "2250    0.772827\n",
       "2251    2.061688\n",
       "2252    2.385896\n",
       "2253    1.853173\n",
       "2254    1.709656\n",
       "2255    2.200562\n",
       "2256    0.871975\n",
       "2257    1.892639\n",
       "2258    1.138397\n",
       "2259    0.479489\n",
       "2260    1.103808\n",
       "2261    1.647383\n",
       "2262    0.000000\n",
       "2263    1.026286\n",
       "2264    2.662027\n",
       "2265    1.581155\n",
       "2266    2.367662\n",
       "2267    1.123463\n",
       "2268    1.658605\n",
       "2269    2.239846\n",
       "2270    0.706706\n",
       "2271    1.255599\n",
       "2272    1.446850\n",
       "2273    2.730375\n",
       "2274    1.872356\n",
       "2275    1.852547\n",
       "2276    0.436741\n",
       "2277    0.991356\n",
       "2278    1.901151\n",
       "2279    1.097964\n",
       "2280    0.608372\n",
       "2281    0.212516\n",
       "2282    0.545837\n",
       "2283    0.491334\n",
       "2284    2.193902\n",
       "2285    3.142070\n",
       "2286    1.022938\n",
       "dtype: float64"
      ]
     },
     "execution_count": 54,
     "metadata": {},
     "output_type": "execute_result"
    }
   ],
   "source": [
    "gdf.distance(Point(-101,26))"
   ]
  },
  {
   "cell_type": "code",
   "execution_count": 55,
   "metadata": {},
   "outputs": [
    {
     "data": {
      "text/plain": [
       "2249    False\n",
       "2250    False\n",
       "2251    False\n",
       "2252    False\n",
       "2253    False\n",
       "2254    False\n",
       "2255    False\n",
       "2256    False\n",
       "2257    False\n",
       "2258    False\n",
       "2259    False\n",
       "2260    False\n",
       "2261    False\n",
       "2262     True\n",
       "2263    False\n",
       "2264    False\n",
       "2265    False\n",
       "2266    False\n",
       "2267    False\n",
       "2268    False\n",
       "2269    False\n",
       "2270    False\n",
       "2271    False\n",
       "2272    False\n",
       "2273    False\n",
       "2274    False\n",
       "2275    False\n",
       "2276    False\n",
       "2277    False\n",
       "2278    False\n",
       "2279    False\n",
       "2280    False\n",
       "2281    False\n",
       "2282    False\n",
       "2283    False\n",
       "2284    False\n",
       "2285    False\n",
       "2286    False\n",
       "dtype: bool"
      ]
     },
     "execution_count": 55,
     "metadata": {},
     "output_type": "execute_result"
    }
   ],
   "source": [
    "gdf.contains(Point(-101,26))"
   ]
  },
  {
   "cell_type": "code",
   "execution_count": 56,
   "metadata": {},
   "outputs": [
    {
     "data": {
      "text/plain": [
       "2249    False\n",
       "2250    False\n",
       "2251    False\n",
       "2252    False\n",
       "2253    False\n",
       "2254    False\n",
       "2255    False\n",
       "2256    False\n",
       "2257    False\n",
       "2258    False\n",
       "2259    False\n",
       "2260    False\n",
       "2261    False\n",
       "2262     True\n",
       "2263    False\n",
       "2264    False\n",
       "2265    False\n",
       "2266    False\n",
       "2267    False\n",
       "2268    False\n",
       "2269    False\n",
       "2270    False\n",
       "2271    False\n",
       "2272    False\n",
       "2273    False\n",
       "2274    False\n",
       "2275    False\n",
       "2276    False\n",
       "2277    False\n",
       "2278    False\n",
       "2279    False\n",
       "2280    False\n",
       "2281    False\n",
       "2282    False\n",
       "2283    False\n",
       "2284    False\n",
       "2285    False\n",
       "2286    False\n",
       "dtype: bool"
      ]
     },
     "execution_count": 56,
     "metadata": {},
     "output_type": "execute_result"
    }
   ],
   "source": [
    "gdf.intersects(Point(-101,26))"
   ]
  },
  {
   "cell_type": "markdown",
   "metadata": {
    "collapsed": true
   },
   "source": [
    "## Dissolve"
   ]
  },
  {
   "cell_type": "code",
   "execution_count": 17,
   "metadata": {},
   "outputs": [
    {
     "data": {
      "text/plain": [
       "<matplotlib.axes._subplots.AxesSubplot at 0x7f73030a7320>"
      ]
     },
     "execution_count": 17,
     "metadata": {},
     "output_type": "execute_result"
    },
    {
     "data": {
      "image/png": "[encoded data removed]",
      "text/plain": [
       "<matplotlib.figure.Figure at 0x7f7303154c18>"
      ]
     },
     "metadata": {},
     "output_type": "display_data"
    }
   ],
   "source": [
    "gdf = gpd.read_file('data/Municipios/')\n",
    "gdf.plot()"
   ]
  },
  {
   "cell_type": "code",
   "execution_count": 9,
   "metadata": {},
   "outputs": [
    {
     "data": {
      "text/html": [
       "<div>\n",
       "<style>\n",
       "    .dataframe thead tr:only-child th {\n",
       "        text-align: right;\n",
       "    }\n",
       "\n",
       "    .dataframe thead th {\n",
       "        text-align: left;\n",
       "    }\n",
       "\n",
       "    .dataframe tbody tr th {\n",
       "        vertical-align: top;\n",
       "    }\n",
       "</style>\n",
       "<table border=\"1\" class=\"dataframe\">\n",
       "  <thead>\n",
       "    <tr style=\"text-align: right;\">\n",
       "      <th></th>\n",
       "      <th>CVE_ENT</th>\n",
       "      <th>CVE_MUN</th>\n",
       "      <th>NOM_MUN</th>\n",
       "      <th>OID</th>\n",
       "      <th>geometry</th>\n",
       "    </tr>\n",
       "  </thead>\n",
       "  <tbody>\n",
       "    <tr>\n",
       "      <th>0</th>\n",
       "      <td>09</td>\n",
       "      <td>012</td>\n",
       "      <td>Tlalpan</td>\n",
       "      <td>1</td>\n",
       "      <td>POLYGON ((-99.1967110331436 19.30240497001839,...</td>\n",
       "    </tr>\n",
       "    <tr>\n",
       "      <th>1</th>\n",
       "      <td>09</td>\n",
       "      <td>013</td>\n",
       "      <td>Xochimilco</td>\n",
       "      <td>2</td>\n",
       "      <td>POLYGON ((-99.13301433831455 19.21009500703628...</td>\n",
       "    </tr>\n",
       "    <tr>\n",
       "      <th>2</th>\n",
       "      <td>09</td>\n",
       "      <td>008</td>\n",
       "      <td>La Magdalena Contreras</td>\n",
       "      <td>3</td>\n",
       "      <td>POLYGON ((-99.24488741070159 19.27620941570171...</td>\n",
       "    </tr>\n",
       "    <tr>\n",
       "      <th>3</th>\n",
       "      <td>09</td>\n",
       "      <td>002</td>\n",
       "      <td>Azcapotzalco</td>\n",
       "      <td>4</td>\n",
       "      <td>POLYGON ((-99.15718110621088 19.50284888316681...</td>\n",
       "    </tr>\n",
       "    <tr>\n",
       "      <th>4</th>\n",
       "      <td>09</td>\n",
       "      <td>014</td>\n",
       "      <td>Benito Ju�rez</td>\n",
       "      <td>5</td>\n",
       "      <td>POLYGON ((-99.14349968483091 19.35724145471904...</td>\n",
       "    </tr>\n",
       "  </tbody>\n",
       "</table>\n",
       "</div>"
      ],
      "text/plain": [
       "  CVE_ENT CVE_MUN                 NOM_MUN  OID  \\\n",
       "0      09     012                 Tlalpan    1   \n",
       "1      09     013              Xochimilco    2   \n",
       "2      09     008  La Magdalena Contreras    3   \n",
       "3      09     002            Azcapotzalco    4   \n",
       "4      09     014           Benito Ju�rez    5   \n",
       "\n",
       "                                            geometry  \n",
       "0  POLYGON ((-99.1967110331436 19.30240497001839,...  \n",
       "1  POLYGON ((-99.13301433831455 19.21009500703628...  \n",
       "2  POLYGON ((-99.24488741070159 19.27620941570171...  \n",
       "3  POLYGON ((-99.15718110621088 19.50284888316681...  \n",
       "4  POLYGON ((-99.14349968483091 19.35724145471904...  "
      ]
     },
     "execution_count": 9,
     "metadata": {},
     "output_type": "execute_result"
    }
   ],
   "source": [
    "gdf.head()"
   ]
  },
  {
   "cell_type": "code",
   "execution_count": 10,
   "metadata": {},
   "outputs": [
    {
     "data": {
      "image/png": "[encoded data removed]",
      "text/plain": [
       "<matplotlib.figure.Figure at 0x7f7302917630>"
      ]
     },
     "metadata": {},
     "output_type": "display_data"
    }
   ],
   "source": [
    "gdf.dissolve('CVE_ENT', aggfunc='sum').plot(column='OID')\n"
   ]
  },
  {
   "cell_type": "code",
   "execution_count": 11,
   "metadata": {},
   "outputs": [
    {
     "data": {
      "text/plain": [
       "<matplotlib.axes._subplots.AxesSubplot at 0x7f73030cc358>"
      ]
     },
     "execution_count": 11,
     "metadata": {},
     "output_type": "execute_result"
    },
    {
     "data": {
      "image/png": "[encoded data removed]",
      "text/plain": [
       "<matplotlib.figure.Figure at 0x7f73034e27f0>"
      ]
     },
     "metadata": {},
     "output_type": "display_data"
    }
   ],
   "source": [
    "gdf['x']='x'\n",
    "gdf.dissolve('x').plot(column='OID')"
   ]
  },
  {
   "cell_type": "code",
   "execution_count": 18,
   "metadata": {},
   "outputs": [
    {
     "data": {
      "text/plain": [
       "<matplotlib.axes._subplots.AxesSubplot at 0x7f73030cd4e0>"
      ]
     },
     "execution_count": 18,
     "metadata": {},
     "output_type": "execute_result"
    },
    {
     "data": {
      "image/png": "[encoded data removed]",
      "text/plain": [
       "<matplotlib.figure.Figure at 0x7f730317ec50>"
      ]
     },
     "metadata": {},
     "output_type": "display_data"
    }
   ],
   "source": [
    "\n",
    "gdf = gdf.loc[gdf.CVE_ENT=='09',:]\n",
    "gdf.plot(column='OID')\n"
   ]
  },
  {
   "cell_type": "markdown",
   "metadata": {
    "collapsed": true
   },
   "source": [
    "### Joins espaciales"
   ]
  },
  {
   "cell_type": "code",
   "execution_count": 19,
   "metadata": {},
   "outputs": [
    {
     "data": {
      "text/html": [
       "<div>\n",
       "<style>\n",
       "    .dataframe thead tr:only-child th {\n",
       "        text-align: right;\n",
       "    }\n",
       "\n",
       "    .dataframe thead th {\n",
       "        text-align: left;\n",
       "    }\n",
       "\n",
       "    .dataframe tbody tr th {\n",
       "        vertical-align: top;\n",
       "    }\n",
       "</style>\n",
       "<table border=\"1\" class=\"dataframe\">\n",
       "  <thead>\n",
       "    <tr style=\"text-align: right;\">\n",
       "      <th></th>\n",
       "      <th>Unnamed: 0</th>\n",
       "      <th>timestamp</th>\n",
       "      <th>x</th>\n",
       "      <th>y</th>\n",
       "      <th>speed</th>\n",
       "      <th>provider</th>\n",
       "      <th>geometry</th>\n",
       "    </tr>\n",
       "  </thead>\n",
       "  <tbody>\n",
       "    <tr>\n",
       "      <th>739955</th>\n",
       "      <td>2111925</td>\n",
       "      <td>2017-03-30T03:54:43Z</td>\n",
       "      <td>-92.272708</td>\n",
       "      <td>14.901634</td>\n",
       "      <td>0.0</td>\n",
       "      <td>1</td>\n",
       "      <td>POINT (-92.27270799999999 14.901634)</td>\n",
       "    </tr>\n",
       "    <tr>\n",
       "      <th>329245</th>\n",
       "      <td>481111</td>\n",
       "      <td>2017-03-30T00:45:46Z</td>\n",
       "      <td>-97.659204</td>\n",
       "      <td>18.874581</td>\n",
       "      <td>0.0</td>\n",
       "      <td>1</td>\n",
       "      <td>POINT (-97.659204 18.874581)</td>\n",
       "    </tr>\n",
       "    <tr>\n",
       "      <th>34264</th>\n",
       "      <td>11128068</td>\n",
       "      <td>2017-03-30T22:35:51Z</td>\n",
       "      <td>-103.326460</td>\n",
       "      <td>20.587517</td>\n",
       "      <td>0.0</td>\n",
       "      <td>4</td>\n",
       "      <td>POINT (-103.32646 20.587517)</td>\n",
       "    </tr>\n",
       "    <tr>\n",
       "      <th>567242</th>\n",
       "      <td>4993557</td>\n",
       "      <td>2017-03-30T12:52:17Z</td>\n",
       "      <td>-98.944279</td>\n",
       "      <td>19.374716</td>\n",
       "      <td>11.0</td>\n",
       "      <td>1</td>\n",
       "      <td>POINT (-98.94427899999999 19.374716)</td>\n",
       "    </tr>\n",
       "    <tr>\n",
       "      <th>584615</th>\n",
       "      <td>2005017</td>\n",
       "      <td>2017-03-30T03:40:26Z</td>\n",
       "      <td>-99.172634</td>\n",
       "      <td>19.483471</td>\n",
       "      <td>10.0</td>\n",
       "      <td>1</td>\n",
       "      <td>POINT (-99.172634 19.483471)</td>\n",
       "    </tr>\n",
       "  </tbody>\n",
       "</table>\n",
       "</div>"
      ],
      "text/plain": [
       "        Unnamed: 0             timestamp           x          y  speed  \\\n",
       "739955     2111925  2017-03-30T03:54:43Z  -92.272708  14.901634    0.0   \n",
       "329245      481111  2017-03-30T00:45:46Z  -97.659204  18.874581    0.0   \n",
       "34264     11128068  2017-03-30T22:35:51Z -103.326460  20.587517    0.0   \n",
       "567242     4993557  2017-03-30T12:52:17Z  -98.944279  19.374716   11.0   \n",
       "584615     2005017  2017-03-30T03:40:26Z  -99.172634  19.483471   10.0   \n",
       "\n",
       "        provider                              geometry  \n",
       "739955         1  POINT (-92.27270799999999 14.901634)  \n",
       "329245         1          POINT (-97.659204 18.874581)  \n",
       "34264          4          POINT (-103.32646 20.587517)  \n",
       "567242         1  POINT (-98.94427899999999 19.374716)  \n",
       "584615         1          POINT (-99.172634 19.483471)  "
      ]
     },
     "execution_count": 19,
     "metadata": {},
     "output_type": "execute_result"
    }
   ],
   "source": [
    "df.head()"
   ]
  },
  {
   "cell_type": "code",
   "execution_count": 20,
   "metadata": {},
   "outputs": [
    {
     "data": {
      "text/html": [
       "<div>\n",
       "<style>\n",
       "    .dataframe thead tr:only-child th {\n",
       "        text-align: right;\n",
       "    }\n",
       "\n",
       "    .dataframe thead th {\n",
       "        text-align: left;\n",
       "    }\n",
       "\n",
       "    .dataframe tbody tr th {\n",
       "        vertical-align: top;\n",
       "    }\n",
       "</style>\n",
       "<table border=\"1\" class=\"dataframe\">\n",
       "  <thead>\n",
       "    <tr style=\"text-align: right;\">\n",
       "      <th></th>\n",
       "      <th>CVE_ENT</th>\n",
       "      <th>CVE_MUN</th>\n",
       "      <th>NOM_MUN</th>\n",
       "      <th>OID</th>\n",
       "      <th>geometry</th>\n",
       "    </tr>\n",
       "  </thead>\n",
       "  <tbody>\n",
       "    <tr>\n",
       "      <th>0</th>\n",
       "      <td>09</td>\n",
       "      <td>012</td>\n",
       "      <td>Tlalpan</td>\n",
       "      <td>1</td>\n",
       "      <td>POLYGON ((-99.1967110331436 19.30240497001839,...</td>\n",
       "    </tr>\n",
       "    <tr>\n",
       "      <th>1</th>\n",
       "      <td>09</td>\n",
       "      <td>013</td>\n",
       "      <td>Xochimilco</td>\n",
       "      <td>2</td>\n",
       "      <td>POLYGON ((-99.13301433831455 19.21009500703628...</td>\n",
       "    </tr>\n",
       "    <tr>\n",
       "      <th>2</th>\n",
       "      <td>09</td>\n",
       "      <td>008</td>\n",
       "      <td>La Magdalena Contreras</td>\n",
       "      <td>3</td>\n",
       "      <td>POLYGON ((-99.24488741070159 19.27620941570171...</td>\n",
       "    </tr>\n",
       "    <tr>\n",
       "      <th>3</th>\n",
       "      <td>09</td>\n",
       "      <td>002</td>\n",
       "      <td>Azcapotzalco</td>\n",
       "      <td>4</td>\n",
       "      <td>POLYGON ((-99.15718110621088 19.50284888316681...</td>\n",
       "    </tr>\n",
       "    <tr>\n",
       "      <th>4</th>\n",
       "      <td>09</td>\n",
       "      <td>014</td>\n",
       "      <td>Benito Ju�rez</td>\n",
       "      <td>5</td>\n",
       "      <td>POLYGON ((-99.14349968483091 19.35724145471904...</td>\n",
       "    </tr>\n",
       "  </tbody>\n",
       "</table>\n",
       "</div>"
      ],
      "text/plain": [
       "  CVE_ENT CVE_MUN                 NOM_MUN  OID  \\\n",
       "0      09     012                 Tlalpan    1   \n",
       "1      09     013              Xochimilco    2   \n",
       "2      09     008  La Magdalena Contreras    3   \n",
       "3      09     002            Azcapotzalco    4   \n",
       "4      09     014           Benito Ju�rez    5   \n",
       "\n",
       "                                            geometry  \n",
       "0  POLYGON ((-99.1967110331436 19.30240497001839,...  \n",
       "1  POLYGON ((-99.13301433831455 19.21009500703628...  \n",
       "2  POLYGON ((-99.24488741070159 19.27620941570171...  \n",
       "3  POLYGON ((-99.15718110621088 19.50284888316681...  \n",
       "4  POLYGON ((-99.14349968483091 19.35724145471904...  "
      ]
     },
     "execution_count": 20,
     "metadata": {},
     "output_type": "execute_result"
    }
   ],
   "source": [
    "gdf.head()"
   ]
  },
  {
   "cell_type": "code",
   "execution_count": 29,
   "metadata": {},
   "outputs": [
    {
     "data": {
      "text/html": [
       "<div>\n",
       "<style>\n",
       "    .dataframe thead tr:only-child th {\n",
       "        text-align: right;\n",
       "    }\n",
       "\n",
       "    .dataframe thead th {\n",
       "        text-align: left;\n",
       "    }\n",
       "\n",
       "    .dataframe tbody tr th {\n",
       "        vertical-align: top;\n",
       "    }\n",
       "</style>\n",
       "<table border=\"1\" class=\"dataframe\">\n",
       "  <thead>\n",
       "    <tr style=\"text-align: right;\">\n",
       "      <th></th>\n",
       "      <th>CVE_ENT</th>\n",
       "      <th>CVE_MUN</th>\n",
       "      <th>NOM_MUN</th>\n",
       "      <th>OID</th>\n",
       "      <th>geometry</th>\n",
       "      <th>index_right</th>\n",
       "      <th>Unnamed: 0</th>\n",
       "      <th>timestamp</th>\n",
       "      <th>x</th>\n",
       "      <th>y</th>\n",
       "      <th>speed</th>\n",
       "      <th>provider</th>\n",
       "    </tr>\n",
       "  </thead>\n",
       "  <tbody>\n",
       "    <tr>\n",
       "      <th>0</th>\n",
       "      <td>09</td>\n",
       "      <td>012</td>\n",
       "      <td>Tlalpan</td>\n",
       "      <td>1</td>\n",
       "      <td>POLYGON ((-99.1967110331436 19.30240497001839,...</td>\n",
       "      <td>618881</td>\n",
       "      <td>7589678</td>\n",
       "      <td>2017-03-30T16:57:33Z</td>\n",
       "      <td>-99.225950</td>\n",
       "      <td>19.294440</td>\n",
       "      <td>16.09340</td>\n",
       "      <td>5</td>\n",
       "    </tr>\n",
       "    <tr>\n",
       "      <th>0</th>\n",
       "      <td>09</td>\n",
       "      <td>012</td>\n",
       "      <td>Tlalpan</td>\n",
       "      <td>1</td>\n",
       "      <td>POLYGON ((-99.1967110331436 19.30240497001839,...</td>\n",
       "      <td>978918</td>\n",
       "      <td>503540</td>\n",
       "      <td>2017-03-30T00:46:49Z</td>\n",
       "      <td>-99.220900</td>\n",
       "      <td>19.311060</td>\n",
       "      <td>34.00000</td>\n",
       "      <td>2</td>\n",
       "    </tr>\n",
       "    <tr>\n",
       "      <th>0</th>\n",
       "      <td>09</td>\n",
       "      <td>012</td>\n",
       "      <td>Tlalpan</td>\n",
       "      <td>1</td>\n",
       "      <td>POLYGON ((-99.1967110331436 19.30240497001839,...</td>\n",
       "      <td>373454</td>\n",
       "      <td>10414987</td>\n",
       "      <td>2017-03-30T21:20:19Z</td>\n",
       "      <td>-99.155050</td>\n",
       "      <td>19.248340</td>\n",
       "      <td>66.00000</td>\n",
       "      <td>1</td>\n",
       "    </tr>\n",
       "    <tr>\n",
       "      <th>0</th>\n",
       "      <td>09</td>\n",
       "      <td>012</td>\n",
       "      <td>Tlalpan</td>\n",
       "      <td>1</td>\n",
       "      <td>POLYGON ((-99.1967110331436 19.30240497001839,...</td>\n",
       "      <td>79284</td>\n",
       "      <td>8147661</td>\n",
       "      <td>2017-03-30T17:50:08Z</td>\n",
       "      <td>-99.173980</td>\n",
       "      <td>19.249930</td>\n",
       "      <td>0.00000</td>\n",
       "      <td>2</td>\n",
       "    </tr>\n",
       "    <tr>\n",
       "      <th>0</th>\n",
       "      <td>09</td>\n",
       "      <td>012</td>\n",
       "      <td>Tlalpan</td>\n",
       "      <td>1</td>\n",
       "      <td>POLYGON ((-99.1967110331436 19.30240497001839,...</td>\n",
       "      <td>775157</td>\n",
       "      <td>2033682</td>\n",
       "      <td>2017-03-30T03:41:27Z</td>\n",
       "      <td>-99.160430</td>\n",
       "      <td>19.256710</td>\n",
       "      <td>0.00000</td>\n",
       "      <td>2</td>\n",
       "    </tr>\n",
       "    <tr>\n",
       "      <th>0</th>\n",
       "      <td>09</td>\n",
       "      <td>012</td>\n",
       "      <td>Tlalpan</td>\n",
       "      <td>1</td>\n",
       "      <td>POLYGON ((-99.1967110331436 19.30240497001839,...</td>\n",
       "      <td>64167</td>\n",
       "      <td>54146</td>\n",
       "      <td>2017-03-30T00:04:36Z</td>\n",
       "      <td>-99.173530</td>\n",
       "      <td>19.259232</td>\n",
       "      <td>0.00000</td>\n",
       "      <td>4</td>\n",
       "    </tr>\n",
       "    <tr>\n",
       "      <th>0</th>\n",
       "      <td>09</td>\n",
       "      <td>012</td>\n",
       "      <td>Tlalpan</td>\n",
       "      <td>1</td>\n",
       "      <td>POLYGON ((-99.1967110331436 19.30240497001839,...</td>\n",
       "      <td>484975</td>\n",
       "      <td>2177880</td>\n",
       "      <td>2017-03-30T04:04:36Z</td>\n",
       "      <td>-99.165223</td>\n",
       "      <td>19.266035</td>\n",
       "      <td>39.00000</td>\n",
       "      <td>1</td>\n",
       "    </tr>\n",
       "    <tr>\n",
       "      <th>0</th>\n",
       "      <td>09</td>\n",
       "      <td>012</td>\n",
       "      <td>Tlalpan</td>\n",
       "      <td>1</td>\n",
       "      <td>POLYGON ((-99.1967110331436 19.30240497001839,...</td>\n",
       "      <td>398486</td>\n",
       "      <td>406901</td>\n",
       "      <td>2017-03-30T00:37:26Z</td>\n",
       "      <td>-99.170900</td>\n",
       "      <td>19.267170</td>\n",
       "      <td>0.00000</td>\n",
       "      <td>2</td>\n",
       "    </tr>\n",
       "    <tr>\n",
       "      <th>0</th>\n",
       "      <td>09</td>\n",
       "      <td>012</td>\n",
       "      <td>Tlalpan</td>\n",
       "      <td>1</td>\n",
       "      <td>POLYGON ((-99.1967110331436 19.30240497001839,...</td>\n",
       "      <td>835362</td>\n",
       "      <td>6295932</td>\n",
       "      <td>2017-03-30T14:59:44Z</td>\n",
       "      <td>-99.175125</td>\n",
       "      <td>19.268028</td>\n",
       "      <td>7.00000</td>\n",
       "      <td>1</td>\n",
       "    </tr>\n",
       "    <tr>\n",
       "      <th>0</th>\n",
       "      <td>09</td>\n",
       "      <td>012</td>\n",
       "      <td>Tlalpan</td>\n",
       "      <td>1</td>\n",
       "      <td>POLYGON ((-99.1967110331436 19.30240497001839,...</td>\n",
       "      <td>102624</td>\n",
       "      <td>2821941</td>\n",
       "      <td>2017-03-30T05:54:03Z</td>\n",
       "      <td>-99.163320</td>\n",
       "      <td>19.272610</td>\n",
       "      <td>53.10822</td>\n",
       "      <td>5</td>\n",
       "    </tr>\n",
       "    <tr>\n",
       "      <th>0</th>\n",
       "      <td>09</td>\n",
       "      <td>012</td>\n",
       "      <td>Tlalpan</td>\n",
       "      <td>1</td>\n",
       "      <td>POLYGON ((-99.1967110331436 19.30240497001839,...</td>\n",
       "      <td>71083</td>\n",
       "      <td>6859271</td>\n",
       "      <td>2017-03-30T15:52:41Z</td>\n",
       "      <td>-99.167133</td>\n",
       "      <td>19.280170</td>\n",
       "      <td>0.00000</td>\n",
       "      <td>1</td>\n",
       "    </tr>\n",
       "    <tr>\n",
       "      <th>0</th>\n",
       "      <td>09</td>\n",
       "      <td>012</td>\n",
       "      <td>Tlalpan</td>\n",
       "      <td>1</td>\n",
       "      <td>POLYGON ((-99.1967110331436 19.30240497001839,...</td>\n",
       "      <td>548787</td>\n",
       "      <td>11487244</td>\n",
       "      <td>2017-03-30T23:13:36Z</td>\n",
       "      <td>-99.150290</td>\n",
       "      <td>19.280283</td>\n",
       "      <td>2.37600</td>\n",
       "      <td>4</td>\n",
       "    </tr>\n",
       "    <tr>\n",
       "      <th>0</th>\n",
       "      <td>09</td>\n",
       "      <td>012</td>\n",
       "      <td>Tlalpan</td>\n",
       "      <td>1</td>\n",
       "      <td>POLYGON ((-99.1967110331436 19.30240497001839,...</td>\n",
       "      <td>524339</td>\n",
       "      <td>5486565</td>\n",
       "      <td>2017-03-30T13:46:47Z</td>\n",
       "      <td>-99.199809</td>\n",
       "      <td>19.280631</td>\n",
       "      <td>17.00000</td>\n",
       "      <td>1</td>\n",
       "    </tr>\n",
       "    <tr>\n",
       "      <th>0</th>\n",
       "      <td>09</td>\n",
       "      <td>012</td>\n",
       "      <td>Tlalpan</td>\n",
       "      <td>1</td>\n",
       "      <td>POLYGON ((-99.1967110331436 19.30240497001839,...</td>\n",
       "      <td>757436</td>\n",
       "      <td>3317761</td>\n",
       "      <td>2017-03-30T07:33:33Z</td>\n",
       "      <td>-99.142330</td>\n",
       "      <td>19.281520</td>\n",
       "      <td>0.00000</td>\n",
       "      <td>2</td>\n",
       "    </tr>\n",
       "    <tr>\n",
       "      <th>0</th>\n",
       "      <td>09</td>\n",
       "      <td>012</td>\n",
       "      <td>Tlalpan</td>\n",
       "      <td>1</td>\n",
       "      <td>POLYGON ((-99.1967110331436 19.30240497001839,...</td>\n",
       "      <td>553580</td>\n",
       "      <td>5736900</td>\n",
       "      <td>2017-03-30T14:11:11Z</td>\n",
       "      <td>-99.142887</td>\n",
       "      <td>19.282335</td>\n",
       "      <td>0.00000</td>\n",
       "      <td>1</td>\n",
       "    </tr>\n",
       "    <tr>\n",
       "      <th>0</th>\n",
       "      <td>09</td>\n",
       "      <td>012</td>\n",
       "      <td>Tlalpan</td>\n",
       "      <td>1</td>\n",
       "      <td>POLYGON ((-99.1967110331436 19.30240497001839,...</td>\n",
       "      <td>20130</td>\n",
       "      <td>523653</td>\n",
       "      <td>2017-03-30T00:47:10Z</td>\n",
       "      <td>-99.156990</td>\n",
       "      <td>19.286440</td>\n",
       "      <td>45.00000</td>\n",
       "      <td>2</td>\n",
       "    </tr>\n",
       "    <tr>\n",
       "      <th>0</th>\n",
       "      <td>09</td>\n",
       "      <td>012</td>\n",
       "      <td>Tlalpan</td>\n",
       "      <td>1</td>\n",
       "      <td>POLYGON ((-99.1967110331436 19.30240497001839,...</td>\n",
       "      <td>797737</td>\n",
       "      <td>2367680</td>\n",
       "      <td>2017-03-30T04:33:33Z</td>\n",
       "      <td>-99.157610</td>\n",
       "      <td>19.286690</td>\n",
       "      <td>0.00000</td>\n",
       "      <td>5</td>\n",
       "    </tr>\n",
       "    <tr>\n",
       "      <th>0</th>\n",
       "      <td>09</td>\n",
       "      <td>012</td>\n",
       "      <td>Tlalpan</td>\n",
       "      <td>1</td>\n",
       "      <td>POLYGON ((-99.1967110331436 19.30240497001839,...</td>\n",
       "      <td>916402</td>\n",
       "      <td>38793</td>\n",
       "      <td>2017-03-30T00:01:38Z</td>\n",
       "      <td>-99.139300</td>\n",
       "      <td>19.287100</td>\n",
       "      <td>35.00000</td>\n",
       "      <td>2</td>\n",
       "    </tr>\n",
       "    <tr>\n",
       "      <th>0</th>\n",
       "      <td>09</td>\n",
       "      <td>012</td>\n",
       "      <td>Tlalpan</td>\n",
       "      <td>1</td>\n",
       "      <td>POLYGON ((-99.1967110331436 19.30240497001839,...</td>\n",
       "      <td>599877</td>\n",
       "      <td>2483686</td>\n",
       "      <td>2017-03-30T04:52:36Z</td>\n",
       "      <td>-99.147340</td>\n",
       "      <td>19.289470</td>\n",
       "      <td>0.00000</td>\n",
       "      <td>2</td>\n",
       "    </tr>\n",
       "    <tr>\n",
       "      <th>0</th>\n",
       "      <td>09</td>\n",
       "      <td>012</td>\n",
       "      <td>Tlalpan</td>\n",
       "      <td>1</td>\n",
       "      <td>POLYGON ((-99.1967110331436 19.30240497001839,...</td>\n",
       "      <td>911577</td>\n",
       "      <td>6295721</td>\n",
       "      <td>2017-03-30T15:00:03Z</td>\n",
       "      <td>-99.153367</td>\n",
       "      <td>19.293000</td>\n",
       "      <td>7.00000</td>\n",
       "      <td>7</td>\n",
       "    </tr>\n",
       "    <tr>\n",
       "      <th>0</th>\n",
       "      <td>09</td>\n",
       "      <td>012</td>\n",
       "      <td>Tlalpan</td>\n",
       "      <td>1</td>\n",
       "      <td>POLYGON ((-99.1967110331436 19.30240497001839,...</td>\n",
       "      <td>436038</td>\n",
       "      <td>6933522</td>\n",
       "      <td>2017-03-30T15:58:35Z</td>\n",
       "      <td>-99.145800</td>\n",
       "      <td>19.293027</td>\n",
       "      <td>26.00000</td>\n",
       "      <td>1</td>\n",
       "    </tr>\n",
       "    <tr>\n",
       "      <th>0</th>\n",
       "      <td>09</td>\n",
       "      <td>012</td>\n",
       "      <td>Tlalpan</td>\n",
       "      <td>1</td>\n",
       "      <td>POLYGON ((-99.1967110331436 19.30240497001839,...</td>\n",
       "      <td>81655</td>\n",
       "      <td>4305558</td>\n",
       "      <td>2017-03-30T11:12:25Z</td>\n",
       "      <td>-99.135506</td>\n",
       "      <td>19.295222</td>\n",
       "      <td>33.00000</td>\n",
       "      <td>1</td>\n",
       "    </tr>\n",
       "    <tr>\n",
       "      <th>0</th>\n",
       "      <td>09</td>\n",
       "      <td>012</td>\n",
       "      <td>Tlalpan</td>\n",
       "      <td>1</td>\n",
       "      <td>POLYGON ((-99.1967110331436 19.30240497001839,...</td>\n",
       "      <td>735059</td>\n",
       "      <td>2647252</td>\n",
       "      <td>2017-03-30T05:21:13Z</td>\n",
       "      <td>-99.155420</td>\n",
       "      <td>19.295260</td>\n",
       "      <td>2.00000</td>\n",
       "      <td>2</td>\n",
       "    </tr>\n",
       "    <tr>\n",
       "      <th>0</th>\n",
       "      <td>09</td>\n",
       "      <td>012</td>\n",
       "      <td>Tlalpan</td>\n",
       "      <td>1</td>\n",
       "      <td>POLYGON ((-99.1967110331436 19.30240497001839,...</td>\n",
       "      <td>72135</td>\n",
       "      <td>5078764</td>\n",
       "      <td>2017-03-30T13:01:34Z</td>\n",
       "      <td>-99.136870</td>\n",
       "      <td>19.296470</td>\n",
       "      <td>0.00000</td>\n",
       "      <td>5</td>\n",
       "    </tr>\n",
       "    <tr>\n",
       "      <th>0</th>\n",
       "      <td>09</td>\n",
       "      <td>012</td>\n",
       "      <td>Tlalpan</td>\n",
       "      <td>1</td>\n",
       "      <td>POLYGON ((-99.1967110331436 19.30240497001839,...</td>\n",
       "      <td>935246</td>\n",
       "      <td>175413</td>\n",
       "      <td>2017-03-30T00:17:34Z</td>\n",
       "      <td>-99.142105</td>\n",
       "      <td>19.299502</td>\n",
       "      <td>35.00000</td>\n",
       "      <td>1</td>\n",
       "    </tr>\n",
       "    <tr>\n",
       "      <th>0</th>\n",
       "      <td>09</td>\n",
       "      <td>012</td>\n",
       "      <td>Tlalpan</td>\n",
       "      <td>1</td>\n",
       "      <td>POLYGON ((-99.1967110331436 19.30240497001839,...</td>\n",
       "      <td>428112</td>\n",
       "      <td>10561814</td>\n",
       "      <td>2017-03-30T21:34:31Z</td>\n",
       "      <td>-99.133665</td>\n",
       "      <td>19.301026</td>\n",
       "      <td>0.00000</td>\n",
       "      <td>1</td>\n",
       "    </tr>\n",
       "    <tr>\n",
       "      <th>0</th>\n",
       "      <td>09</td>\n",
       "      <td>012</td>\n",
       "      <td>Tlalpan</td>\n",
       "      <td>1</td>\n",
       "      <td>POLYGON ((-99.1967110331436 19.30240497001839,...</td>\n",
       "      <td>475606</td>\n",
       "      <td>6509931</td>\n",
       "      <td>2017-03-30T15:19:40Z</td>\n",
       "      <td>-99.208600</td>\n",
       "      <td>19.301280</td>\n",
       "      <td>1.00000</td>\n",
       "      <td>2</td>\n",
       "    </tr>\n",
       "    <tr>\n",
       "      <th>0</th>\n",
       "      <td>09</td>\n",
       "      <td>012</td>\n",
       "      <td>Tlalpan</td>\n",
       "      <td>1</td>\n",
       "      <td>POLYGON ((-99.1967110331436 19.30240497001839,...</td>\n",
       "      <td>430763</td>\n",
       "      <td>8352134</td>\n",
       "      <td>2017-03-30T18:07:18Z</td>\n",
       "      <td>-99.237120</td>\n",
       "      <td>19.266210</td>\n",
       "      <td>0.00000</td>\n",
       "      <td>2</td>\n",
       "    </tr>\n",
       "    <tr>\n",
       "      <th>0</th>\n",
       "      <td>09</td>\n",
       "      <td>012</td>\n",
       "      <td>Tlalpan</td>\n",
       "      <td>1</td>\n",
       "      <td>POLYGON ((-99.1967110331436 19.30240497001839,...</td>\n",
       "      <td>438112</td>\n",
       "      <td>4382611</td>\n",
       "      <td>2017-03-30T11:26:21Z</td>\n",
       "      <td>-99.230840</td>\n",
       "      <td>19.272678</td>\n",
       "      <td>0.00000</td>\n",
       "      <td>4</td>\n",
       "    </tr>\n",
       "    <tr>\n",
       "      <th>0</th>\n",
       "      <td>09</td>\n",
       "      <td>012</td>\n",
       "      <td>Tlalpan</td>\n",
       "      <td>1</td>\n",
       "      <td>POLYGON ((-99.1967110331436 19.30240497001839,...</td>\n",
       "      <td>423857</td>\n",
       "      <td>7412271</td>\n",
       "      <td>2017-03-30T16:42:56Z</td>\n",
       "      <td>-99.228990</td>\n",
       "      <td>19.276892</td>\n",
       "      <td>0.00000</td>\n",
       "      <td>4</td>\n",
       "    </tr>\n",
       "    <tr>\n",
       "      <th>...</th>\n",
       "      <td>...</td>\n",
       "      <td>...</td>\n",
       "      <td>...</td>\n",
       "      <td>...</td>\n",
       "      <td>...</td>\n",
       "      <td>...</td>\n",
       "      <td>...</td>\n",
       "      <td>...</td>\n",
       "      <td>...</td>\n",
       "      <td>...</td>\n",
       "      <td>...</td>\n",
       "      <td>...</td>\n",
       "    </tr>\n",
       "    <tr>\n",
       "      <th>14</th>\n",
       "      <td>09</td>\n",
       "      <td>007</td>\n",
       "      <td>Iztapalapa</td>\n",
       "      <td>15</td>\n",
       "      <td>POLYGON ((-99.0581328804774 19.40071958054631,...</td>\n",
       "      <td>200306</td>\n",
       "      <td>7083146</td>\n",
       "      <td>2017-03-30T16:13:29Z</td>\n",
       "      <td>-99.108980</td>\n",
       "      <td>19.357880</td>\n",
       "      <td>1.60934</td>\n",
       "      <td>5</td>\n",
       "    </tr>\n",
       "    <tr>\n",
       "      <th>14</th>\n",
       "      <td>09</td>\n",
       "      <td>007</td>\n",
       "      <td>Iztapalapa</td>\n",
       "      <td>15</td>\n",
       "      <td>POLYGON ((-99.0581328804774 19.40071958054631,...</td>\n",
       "      <td>11223</td>\n",
       "      <td>145564</td>\n",
       "      <td>2017-03-30T00:13:47Z</td>\n",
       "      <td>-99.124160</td>\n",
       "      <td>19.357930</td>\n",
       "      <td>1.00000</td>\n",
       "      <td>2</td>\n",
       "    </tr>\n",
       "    <tr>\n",
       "      <th>14</th>\n",
       "      <td>09</td>\n",
       "      <td>007</td>\n",
       "      <td>Iztapalapa</td>\n",
       "      <td>15</td>\n",
       "      <td>POLYGON ((-99.0581328804774 19.40071958054631,...</td>\n",
       "      <td>956764</td>\n",
       "      <td>10624338</td>\n",
       "      <td>2017-03-30T21:38:53Z</td>\n",
       "      <td>-99.070220</td>\n",
       "      <td>19.360840</td>\n",
       "      <td>0.00000</td>\n",
       "      <td>2</td>\n",
       "    </tr>\n",
       "    <tr>\n",
       "      <th>14</th>\n",
       "      <td>09</td>\n",
       "      <td>007</td>\n",
       "      <td>Iztapalapa</td>\n",
       "      <td>15</td>\n",
       "      <td>POLYGON ((-99.0581328804774 19.40071958054631,...</td>\n",
       "      <td>500701</td>\n",
       "      <td>951248</td>\n",
       "      <td>2017-03-30T01:32:08Z</td>\n",
       "      <td>-99.091780</td>\n",
       "      <td>19.360910</td>\n",
       "      <td>11.00000</td>\n",
       "      <td>2</td>\n",
       "    </tr>\n",
       "    <tr>\n",
       "      <th>14</th>\n",
       "      <td>09</td>\n",
       "      <td>007</td>\n",
       "      <td>Iztapalapa</td>\n",
       "      <td>15</td>\n",
       "      <td>POLYGON ((-99.0581328804774 19.40071958054631,...</td>\n",
       "      <td>323247</td>\n",
       "      <td>11706010</td>\n",
       "      <td>2017-03-30T23:23:04Z</td>\n",
       "      <td>-99.075680</td>\n",
       "      <td>19.361329</td>\n",
       "      <td>19.00000</td>\n",
       "      <td>1</td>\n",
       "    </tr>\n",
       "    <tr>\n",
       "      <th>14</th>\n",
       "      <td>09</td>\n",
       "      <td>007</td>\n",
       "      <td>Iztapalapa</td>\n",
       "      <td>15</td>\n",
       "      <td>POLYGON ((-99.0581328804774 19.40071958054631,...</td>\n",
       "      <td>201305</td>\n",
       "      <td>2970565</td>\n",
       "      <td>2017-03-30T06:23:41Z</td>\n",
       "      <td>-99.048935</td>\n",
       "      <td>19.362314</td>\n",
       "      <td>3.70800</td>\n",
       "      <td>4</td>\n",
       "    </tr>\n",
       "    <tr>\n",
       "      <th>14</th>\n",
       "      <td>09</td>\n",
       "      <td>007</td>\n",
       "      <td>Iztapalapa</td>\n",
       "      <td>15</td>\n",
       "      <td>POLYGON ((-99.0581328804774 19.40071958054631,...</td>\n",
       "      <td>395871</td>\n",
       "      <td>2198206</td>\n",
       "      <td>2017-03-30T03:45:11Z</td>\n",
       "      <td>-99.106900</td>\n",
       "      <td>19.362350</td>\n",
       "      <td>0.00000</td>\n",
       "      <td>5</td>\n",
       "    </tr>\n",
       "    <tr>\n",
       "      <th>14</th>\n",
       "      <td>09</td>\n",
       "      <td>007</td>\n",
       "      <td>Iztapalapa</td>\n",
       "      <td>15</td>\n",
       "      <td>POLYGON ((-99.0581328804774 19.40071958054631,...</td>\n",
       "      <td>850484</td>\n",
       "      <td>6444755</td>\n",
       "      <td>2017-03-30T15:15:07Z</td>\n",
       "      <td>-99.078190</td>\n",
       "      <td>19.362490</td>\n",
       "      <td>0.00000</td>\n",
       "      <td>5</td>\n",
       "    </tr>\n",
       "    <tr>\n",
       "      <th>14</th>\n",
       "      <td>09</td>\n",
       "      <td>007</td>\n",
       "      <td>Iztapalapa</td>\n",
       "      <td>15</td>\n",
       "      <td>POLYGON ((-99.0581328804774 19.40071958054631,...</td>\n",
       "      <td>311328</td>\n",
       "      <td>10088454</td>\n",
       "      <td>2017-03-30T20:49:40Z</td>\n",
       "      <td>-99.073560</td>\n",
       "      <td>19.364240</td>\n",
       "      <td>3.21868</td>\n",
       "      <td>5</td>\n",
       "    </tr>\n",
       "    <tr>\n",
       "      <th>14</th>\n",
       "      <td>09</td>\n",
       "      <td>007</td>\n",
       "      <td>Iztapalapa</td>\n",
       "      <td>15</td>\n",
       "      <td>POLYGON ((-99.0581328804774 19.40071958054631,...</td>\n",
       "      <td>390411</td>\n",
       "      <td>870782</td>\n",
       "      <td>2017-03-30T01:25:27Z</td>\n",
       "      <td>-99.108980</td>\n",
       "      <td>19.364350</td>\n",
       "      <td>0.00000</td>\n",
       "      <td>5</td>\n",
       "    </tr>\n",
       "    <tr>\n",
       "      <th>14</th>\n",
       "      <td>09</td>\n",
       "      <td>007</td>\n",
       "      <td>Iztapalapa</td>\n",
       "      <td>15</td>\n",
       "      <td>POLYGON ((-99.0581328804774 19.40071958054631,...</td>\n",
       "      <td>563020</td>\n",
       "      <td>11732767</td>\n",
       "      <td>2017-03-30T23:35:45Z</td>\n",
       "      <td>-99.108940</td>\n",
       "      <td>19.364420</td>\n",
       "      <td>6.43736</td>\n",
       "      <td>5</td>\n",
       "    </tr>\n",
       "    <tr>\n",
       "      <th>14</th>\n",
       "      <td>09</td>\n",
       "      <td>007</td>\n",
       "      <td>Iztapalapa</td>\n",
       "      <td>15</td>\n",
       "      <td>POLYGON ((-99.0581328804774 19.40071958054631,...</td>\n",
       "      <td>986630</td>\n",
       "      <td>7825534</td>\n",
       "      <td>2017-03-30T17:18:02Z</td>\n",
       "      <td>-99.107030</td>\n",
       "      <td>19.364610</td>\n",
       "      <td>17.70274</td>\n",
       "      <td>5</td>\n",
       "    </tr>\n",
       "    <tr>\n",
       "      <th>14</th>\n",
       "      <td>09</td>\n",
       "      <td>007</td>\n",
       "      <td>Iztapalapa</td>\n",
       "      <td>15</td>\n",
       "      <td>POLYGON ((-99.0581328804774 19.40071958054631,...</td>\n",
       "      <td>432934</td>\n",
       "      <td>9569625</td>\n",
       "      <td>2017-03-30T19:58:19Z</td>\n",
       "      <td>-99.108740</td>\n",
       "      <td>19.365690</td>\n",
       "      <td>0.00000</td>\n",
       "      <td>5</td>\n",
       "    </tr>\n",
       "    <tr>\n",
       "      <th>14</th>\n",
       "      <td>09</td>\n",
       "      <td>007</td>\n",
       "      <td>Iztapalapa</td>\n",
       "      <td>15</td>\n",
       "      <td>POLYGON ((-99.0581328804774 19.40071958054631,...</td>\n",
       "      <td>27855</td>\n",
       "      <td>7498901</td>\n",
       "      <td>2017-03-30T16:49:19Z</td>\n",
       "      <td>-99.107710</td>\n",
       "      <td>19.366030</td>\n",
       "      <td>0.00000</td>\n",
       "      <td>5</td>\n",
       "    </tr>\n",
       "    <tr>\n",
       "      <th>14</th>\n",
       "      <td>09</td>\n",
       "      <td>007</td>\n",
       "      <td>Iztapalapa</td>\n",
       "      <td>15</td>\n",
       "      <td>POLYGON ((-99.0581328804774 19.40071958054631,...</td>\n",
       "      <td>401528</td>\n",
       "      <td>5742527</td>\n",
       "      <td>2017-03-30T14:07:09Z</td>\n",
       "      <td>-99.103910</td>\n",
       "      <td>19.366500</td>\n",
       "      <td>0.00000</td>\n",
       "      <td>2</td>\n",
       "    </tr>\n",
       "    <tr>\n",
       "      <th>14</th>\n",
       "      <td>09</td>\n",
       "      <td>007</td>\n",
       "      <td>Iztapalapa</td>\n",
       "      <td>15</td>\n",
       "      <td>POLYGON ((-99.0581328804774 19.40071958054631,...</td>\n",
       "      <td>993812</td>\n",
       "      <td>1039585</td>\n",
       "      <td>2017-03-30T01:41:40Z</td>\n",
       "      <td>-99.080270</td>\n",
       "      <td>19.299950</td>\n",
       "      <td>0.00000</td>\n",
       "      <td>2</td>\n",
       "    </tr>\n",
       "    <tr>\n",
       "      <th>14</th>\n",
       "      <td>09</td>\n",
       "      <td>007</td>\n",
       "      <td>Iztapalapa</td>\n",
       "      <td>15</td>\n",
       "      <td>POLYGON ((-99.0581328804774 19.40071958054631,...</td>\n",
       "      <td>934900</td>\n",
       "      <td>6461676</td>\n",
       "      <td>2017-03-30T15:07:40Z</td>\n",
       "      <td>-99.063582</td>\n",
       "      <td>19.305794</td>\n",
       "      <td>46.00000</td>\n",
       "      <td>1</td>\n",
       "    </tr>\n",
       "    <tr>\n",
       "      <th>14</th>\n",
       "      <td>09</td>\n",
       "      <td>007</td>\n",
       "      <td>Iztapalapa</td>\n",
       "      <td>15</td>\n",
       "      <td>POLYGON ((-99.0581328804774 19.40071958054631,...</td>\n",
       "      <td>614574</td>\n",
       "      <td>9850188</td>\n",
       "      <td>2017-03-30T20:23:03Z</td>\n",
       "      <td>-99.083080</td>\n",
       "      <td>19.305870</td>\n",
       "      <td>0.00000</td>\n",
       "      <td>2</td>\n",
       "    </tr>\n",
       "    <tr>\n",
       "      <th>14</th>\n",
       "      <td>09</td>\n",
       "      <td>007</td>\n",
       "      <td>Iztapalapa</td>\n",
       "      <td>15</td>\n",
       "      <td>POLYGON ((-99.0581328804774 19.40071958054631,...</td>\n",
       "      <td>724413</td>\n",
       "      <td>861389</td>\n",
       "      <td>2017-03-30T01:24:29Z</td>\n",
       "      <td>-99.066563</td>\n",
       "      <td>19.306972</td>\n",
       "      <td>0.00000</td>\n",
       "      <td>1</td>\n",
       "    </tr>\n",
       "    <tr>\n",
       "      <th>14</th>\n",
       "      <td>09</td>\n",
       "      <td>007</td>\n",
       "      <td>Iztapalapa</td>\n",
       "      <td>15</td>\n",
       "      <td>POLYGON ((-99.0581328804774 19.40071958054631,...</td>\n",
       "      <td>488795</td>\n",
       "      <td>9331856</td>\n",
       "      <td>2017-03-30T19:39:26Z</td>\n",
       "      <td>-99.069900</td>\n",
       "      <td>19.313526</td>\n",
       "      <td>0.00000</td>\n",
       "      <td>4</td>\n",
       "    </tr>\n",
       "    <tr>\n",
       "      <th>14</th>\n",
       "      <td>09</td>\n",
       "      <td>007</td>\n",
       "      <td>Iztapalapa</td>\n",
       "      <td>15</td>\n",
       "      <td>POLYGON ((-99.0581328804774 19.40071958054631,...</td>\n",
       "      <td>619616</td>\n",
       "      <td>6283869</td>\n",
       "      <td>2017-03-30T15:01:13Z</td>\n",
       "      <td>-99.071717</td>\n",
       "      <td>19.314081</td>\n",
       "      <td>0.00000</td>\n",
       "      <td>1</td>\n",
       "    </tr>\n",
       "    <tr>\n",
       "      <th>14</th>\n",
       "      <td>09</td>\n",
       "      <td>007</td>\n",
       "      <td>Iztapalapa</td>\n",
       "      <td>15</td>\n",
       "      <td>POLYGON ((-99.0581328804774 19.40071958054631,...</td>\n",
       "      <td>42516</td>\n",
       "      <td>6391799</td>\n",
       "      <td>2017-03-30T15:06:34Z</td>\n",
       "      <td>-99.086040</td>\n",
       "      <td>19.315090</td>\n",
       "      <td>0.00000</td>\n",
       "      <td>2</td>\n",
       "    </tr>\n",
       "    <tr>\n",
       "      <th>15</th>\n",
       "      <td>09</td>\n",
       "      <td>009</td>\n",
       "      <td>Milpa Alta</td>\n",
       "      <td>16</td>\n",
       "      <td>POLYGON ((-98.99717700329619 19.22747257151561...</td>\n",
       "      <td>101881</td>\n",
       "      <td>11344098</td>\n",
       "      <td>2017-03-30T22:57:51Z</td>\n",
       "      <td>-99.068910</td>\n",
       "      <td>19.177540</td>\n",
       "      <td>0.00000</td>\n",
       "      <td>2</td>\n",
       "    </tr>\n",
       "    <tr>\n",
       "      <th>15</th>\n",
       "      <td>09</td>\n",
       "      <td>009</td>\n",
       "      <td>Milpa Alta</td>\n",
       "      <td>16</td>\n",
       "      <td>POLYGON ((-98.99717700329619 19.22747257151561...</td>\n",
       "      <td>301938</td>\n",
       "      <td>10495996</td>\n",
       "      <td>2017-03-30T21:27:18Z</td>\n",
       "      <td>-99.023360</td>\n",
       "      <td>19.194760</td>\n",
       "      <td>0.00000</td>\n",
       "      <td>2</td>\n",
       "    </tr>\n",
       "    <tr>\n",
       "      <th>15</th>\n",
       "      <td>09</td>\n",
       "      <td>009</td>\n",
       "      <td>Milpa Alta</td>\n",
       "      <td>16</td>\n",
       "      <td>POLYGON ((-98.99717700329619 19.22747257151561...</td>\n",
       "      <td>801964</td>\n",
       "      <td>8465594</td>\n",
       "      <td>2017-03-30T18:15:43Z</td>\n",
       "      <td>-99.033844</td>\n",
       "      <td>19.196147</td>\n",
       "      <td>0.00000</td>\n",
       "      <td>1</td>\n",
       "    </tr>\n",
       "    <tr>\n",
       "      <th>15</th>\n",
       "      <td>09</td>\n",
       "      <td>009</td>\n",
       "      <td>Milpa Alta</td>\n",
       "      <td>16</td>\n",
       "      <td>POLYGON ((-98.99717700329619 19.22747257151561...</td>\n",
       "      <td>352399</td>\n",
       "      <td>6137096</td>\n",
       "      <td>2017-03-29T17:54:03Z</td>\n",
       "      <td>-99.050960</td>\n",
       "      <td>19.196820</td>\n",
       "      <td>0.00000</td>\n",
       "      <td>5</td>\n",
       "    </tr>\n",
       "    <tr>\n",
       "      <th>15</th>\n",
       "      <td>09</td>\n",
       "      <td>009</td>\n",
       "      <td>Milpa Alta</td>\n",
       "      <td>16</td>\n",
       "      <td>POLYGON ((-98.99717700329619 19.22747257151561...</td>\n",
       "      <td>176570</td>\n",
       "      <td>5985421</td>\n",
       "      <td>2017-03-27T02:22:56Z</td>\n",
       "      <td>-99.050960</td>\n",
       "      <td>19.196820</td>\n",
       "      <td>0.00000</td>\n",
       "      <td>5</td>\n",
       "    </tr>\n",
       "    <tr>\n",
       "      <th>15</th>\n",
       "      <td>09</td>\n",
       "      <td>009</td>\n",
       "      <td>Milpa Alta</td>\n",
       "      <td>16</td>\n",
       "      <td>POLYGON ((-98.99717700329619 19.22747257151561...</td>\n",
       "      <td>75863</td>\n",
       "      <td>5542250</td>\n",
       "      <td>2017-03-22T22:47:57Z</td>\n",
       "      <td>-99.015970</td>\n",
       "      <td>19.197570</td>\n",
       "      <td>4.82802</td>\n",
       "      <td>5</td>\n",
       "    </tr>\n",
       "    <tr>\n",
       "      <th>15</th>\n",
       "      <td>09</td>\n",
       "      <td>009</td>\n",
       "      <td>Milpa Alta</td>\n",
       "      <td>16</td>\n",
       "      <td>POLYGON ((-98.99717700329619 19.22747257151561...</td>\n",
       "      <td>91785</td>\n",
       "      <td>471179</td>\n",
       "      <td>2017-03-30T00:44:28Z</td>\n",
       "      <td>-99.045675</td>\n",
       "      <td>19.202779</td>\n",
       "      <td>0.00000</td>\n",
       "      <td>1</td>\n",
       "    </tr>\n",
       "    <tr>\n",
       "      <th>15</th>\n",
       "      <td>09</td>\n",
       "      <td>009</td>\n",
       "      <td>Milpa Alta</td>\n",
       "      <td>16</td>\n",
       "      <td>POLYGON ((-98.99717700329619 19.22747257151561...</td>\n",
       "      <td>8967</td>\n",
       "      <td>5552961</td>\n",
       "      <td>2017-03-22T23:20:04Z</td>\n",
       "      <td>-99.047770</td>\n",
       "      <td>19.205150</td>\n",
       "      <td>8.04670</td>\n",
       "      <td>5</td>\n",
       "    </tr>\n",
       "  </tbody>\n",
       "</table>\n",
       "<p>954 rows × 12 columns</p>\n",
       "</div>"
      ],
      "text/plain": [
       "   CVE_ENT CVE_MUN     NOM_MUN  OID  \\\n",
       "0       09     012     Tlalpan    1   \n",
       "0       09     012     Tlalpan    1   \n",
       "0       09     012     Tlalpan    1   \n",
       "0       09     012     Tlalpan    1   \n",
       "0       09     012     Tlalpan    1   \n",
       "0       09     012     Tlalpan    1   \n",
       "0       09     012     Tlalpan    1   \n",
       "0       09     012     Tlalpan    1   \n",
       "0       09     012     Tlalpan    1   \n",
       "0       09     012     Tlalpan    1   \n",
       "0       09     012     Tlalpan    1   \n",
       "0       09     012     Tlalpan    1   \n",
       "0       09     012     Tlalpan    1   \n",
       "0       09     012     Tlalpan    1   \n",
       "0       09     012     Tlalpan    1   \n",
       "0       09     012     Tlalpan    1   \n",
       "0       09     012     Tlalpan    1   \n",
       "0       09     012     Tlalpan    1   \n",
       "0       09     012     Tlalpan    1   \n",
       "0       09     012     Tlalpan    1   \n",
       "0       09     012     Tlalpan    1   \n",
       "0       09     012     Tlalpan    1   \n",
       "0       09     012     Tlalpan    1   \n",
       "0       09     012     Tlalpan    1   \n",
       "0       09     012     Tlalpan    1   \n",
       "0       09     012     Tlalpan    1   \n",
       "0       09     012     Tlalpan    1   \n",
       "0       09     012     Tlalpan    1   \n",
       "0       09     012     Tlalpan    1   \n",
       "0       09     012     Tlalpan    1   \n",
       "..     ...     ...         ...  ...   \n",
       "14      09     007  Iztapalapa   15   \n",
       "14      09     007  Iztapalapa   15   \n",
       "14      09     007  Iztapalapa   15   \n",
       "14      09     007  Iztapalapa   15   \n",
       "14      09     007  Iztapalapa   15   \n",
       "14      09     007  Iztapalapa   15   \n",
       "14      09     007  Iztapalapa   15   \n",
       "14      09     007  Iztapalapa   15   \n",
       "14      09     007  Iztapalapa   15   \n",
       "14      09     007  Iztapalapa   15   \n",
       "14      09     007  Iztapalapa   15   \n",
       "14      09     007  Iztapalapa   15   \n",
       "14      09     007  Iztapalapa   15   \n",
       "14      09     007  Iztapalapa   15   \n",
       "14      09     007  Iztapalapa   15   \n",
       "14      09     007  Iztapalapa   15   \n",
       "14      09     007  Iztapalapa   15   \n",
       "14      09     007  Iztapalapa   15   \n",
       "14      09     007  Iztapalapa   15   \n",
       "14      09     007  Iztapalapa   15   \n",
       "14      09     007  Iztapalapa   15   \n",
       "14      09     007  Iztapalapa   15   \n",
       "15      09     009  Milpa Alta   16   \n",
       "15      09     009  Milpa Alta   16   \n",
       "15      09     009  Milpa Alta   16   \n",
       "15      09     009  Milpa Alta   16   \n",
       "15      09     009  Milpa Alta   16   \n",
       "15      09     009  Milpa Alta   16   \n",
       "15      09     009  Milpa Alta   16   \n",
       "15      09     009  Milpa Alta   16   \n",
       "\n",
       "                                             geometry  index_right  \\\n",
       "0   POLYGON ((-99.1967110331436 19.30240497001839,...       618881   \n",
       "0   POLYGON ((-99.1967110331436 19.30240497001839,...       978918   \n",
       "0   POLYGON ((-99.1967110331436 19.30240497001839,...       373454   \n",
       "0   POLYGON ((-99.1967110331436 19.30240497001839,...        79284   \n",
       "0   POLYGON ((-99.1967110331436 19.30240497001839,...       775157   \n",
       "0   POLYGON ((-99.1967110331436 19.30240497001839,...        64167   \n",
       "0   POLYGON ((-99.1967110331436 19.30240497001839,...       484975   \n",
       "0   POLYGON ((-99.1967110331436 19.30240497001839,...       398486   \n",
       "0   POLYGON ((-99.1967110331436 19.30240497001839,...       835362   \n",
       "0   POLYGON ((-99.1967110331436 19.30240497001839,...       102624   \n",
       "0   POLYGON ((-99.1967110331436 19.30240497001839,...        71083   \n",
       "0   POLYGON ((-99.1967110331436 19.30240497001839,...       548787   \n",
       "0   POLYGON ((-99.1967110331436 19.30240497001839,...       524339   \n",
       "0   POLYGON ((-99.1967110331436 19.30240497001839,...       757436   \n",
       "0   POLYGON ((-99.1967110331436 19.30240497001839,...       553580   \n",
       "0   POLYGON ((-99.1967110331436 19.30240497001839,...        20130   \n",
       "0   POLYGON ((-99.1967110331436 19.30240497001839,...       797737   \n",
       "0   POLYGON ((-99.1967110331436 19.30240497001839,...       916402   \n",
       "0   POLYGON ((-99.1967110331436 19.30240497001839,...       599877   \n",
       "0   POLYGON ((-99.1967110331436 19.30240497001839,...       911577   \n",
       "0   POLYGON ((-99.1967110331436 19.30240497001839,...       436038   \n",
       "0   POLYGON ((-99.1967110331436 19.30240497001839,...        81655   \n",
       "0   POLYGON ((-99.1967110331436 19.30240497001839,...       735059   \n",
       "0   POLYGON ((-99.1967110331436 19.30240497001839,...        72135   \n",
       "0   POLYGON ((-99.1967110331436 19.30240497001839,...       935246   \n",
       "0   POLYGON ((-99.1967110331436 19.30240497001839,...       428112   \n",
       "0   POLYGON ((-99.1967110331436 19.30240497001839,...       475606   \n",
       "0   POLYGON ((-99.1967110331436 19.30240497001839,...       430763   \n",
       "0   POLYGON ((-99.1967110331436 19.30240497001839,...       438112   \n",
       "0   POLYGON ((-99.1967110331436 19.30240497001839,...       423857   \n",
       "..                                                ...          ...   \n",
       "14  POLYGON ((-99.0581328804774 19.40071958054631,...       200306   \n",
       "14  POLYGON ((-99.0581328804774 19.40071958054631,...        11223   \n",
       "14  POLYGON ((-99.0581328804774 19.40071958054631,...       956764   \n",
       "14  POLYGON ((-99.0581328804774 19.40071958054631,...       500701   \n",
       "14  POLYGON ((-99.0581328804774 19.40071958054631,...       323247   \n",
       "14  POLYGON ((-99.0581328804774 19.40071958054631,...       201305   \n",
       "14  POLYGON ((-99.0581328804774 19.40071958054631,...       395871   \n",
       "14  POLYGON ((-99.0581328804774 19.40071958054631,...       850484   \n",
       "14  POLYGON ((-99.0581328804774 19.40071958054631,...       311328   \n",
       "14  POLYGON ((-99.0581328804774 19.40071958054631,...       390411   \n",
       "14  POLYGON ((-99.0581328804774 19.40071958054631,...       563020   \n",
       "14  POLYGON ((-99.0581328804774 19.40071958054631,...       986630   \n",
       "14  POLYGON ((-99.0581328804774 19.40071958054631,...       432934   \n",
       "14  POLYGON ((-99.0581328804774 19.40071958054631,...        27855   \n",
       "14  POLYGON ((-99.0581328804774 19.40071958054631,...       401528   \n",
       "14  POLYGON ((-99.0581328804774 19.40071958054631,...       993812   \n",
       "14  POLYGON ((-99.0581328804774 19.40071958054631,...       934900   \n",
       "14  POLYGON ((-99.0581328804774 19.40071958054631,...       614574   \n",
       "14  POLYGON ((-99.0581328804774 19.40071958054631,...       724413   \n",
       "14  POLYGON ((-99.0581328804774 19.40071958054631,...       488795   \n",
       "14  POLYGON ((-99.0581328804774 19.40071958054631,...       619616   \n",
       "14  POLYGON ((-99.0581328804774 19.40071958054631,...        42516   \n",
       "15  POLYGON ((-98.99717700329619 19.22747257151561...       101881   \n",
       "15  POLYGON ((-98.99717700329619 19.22747257151561...       301938   \n",
       "15  POLYGON ((-98.99717700329619 19.22747257151561...       801964   \n",
       "15  POLYGON ((-98.99717700329619 19.22747257151561...       352399   \n",
       "15  POLYGON ((-98.99717700329619 19.22747257151561...       176570   \n",
       "15  POLYGON ((-98.99717700329619 19.22747257151561...        75863   \n",
       "15  POLYGON ((-98.99717700329619 19.22747257151561...        91785   \n",
       "15  POLYGON ((-98.99717700329619 19.22747257151561...         8967   \n",
       "\n",
       "    Unnamed: 0             timestamp          x          y     speed  provider  \n",
       "0      7589678  2017-03-30T16:57:33Z -99.225950  19.294440  16.09340         5  \n",
       "0       503540  2017-03-30T00:46:49Z -99.220900  19.311060  34.00000         2  \n",
       "0     10414987  2017-03-30T21:20:19Z -99.155050  19.248340  66.00000         1  \n",
       "0      8147661  2017-03-30T17:50:08Z -99.173980  19.249930   0.00000         2  \n",
       "0      2033682  2017-03-30T03:41:27Z -99.160430  19.256710   0.00000         2  \n",
       "0        54146  2017-03-30T00:04:36Z -99.173530  19.259232   0.00000         4  \n",
       "0      2177880  2017-03-30T04:04:36Z -99.165223  19.266035  39.00000         1  \n",
       "0       406901  2017-03-30T00:37:26Z -99.170900  19.267170   0.00000         2  \n",
       "0      6295932  2017-03-30T14:59:44Z -99.175125  19.268028   7.00000         1  \n",
       "0      2821941  2017-03-30T05:54:03Z -99.163320  19.272610  53.10822         5  \n",
       "0      6859271  2017-03-30T15:52:41Z -99.167133  19.280170   0.00000         1  \n",
       "0     11487244  2017-03-30T23:13:36Z -99.150290  19.280283   2.37600         4  \n",
       "0      5486565  2017-03-30T13:46:47Z -99.199809  19.280631  17.00000         1  \n",
       "0      3317761  2017-03-30T07:33:33Z -99.142330  19.281520   0.00000         2  \n",
       "0      5736900  2017-03-30T14:11:11Z -99.142887  19.282335   0.00000         1  \n",
       "0       523653  2017-03-30T00:47:10Z -99.156990  19.286440  45.00000         2  \n",
       "0      2367680  2017-03-30T04:33:33Z -99.157610  19.286690   0.00000         5  \n",
       "0        38793  2017-03-30T00:01:38Z -99.139300  19.287100  35.00000         2  \n",
       "0      2483686  2017-03-30T04:52:36Z -99.147340  19.289470   0.00000         2  \n",
       "0      6295721  2017-03-30T15:00:03Z -99.153367  19.293000   7.00000         7  \n",
       "0      6933522  2017-03-30T15:58:35Z -99.145800  19.293027  26.00000         1  \n",
       "0      4305558  2017-03-30T11:12:25Z -99.135506  19.295222  33.00000         1  \n",
       "0      2647252  2017-03-30T05:21:13Z -99.155420  19.295260   2.00000         2  \n",
       "0      5078764  2017-03-30T13:01:34Z -99.136870  19.296470   0.00000         5  \n",
       "0       175413  2017-03-30T00:17:34Z -99.142105  19.299502  35.00000         1  \n",
       "0     10561814  2017-03-30T21:34:31Z -99.133665  19.301026   0.00000         1  \n",
       "0      6509931  2017-03-30T15:19:40Z -99.208600  19.301280   1.00000         2  \n",
       "0      8352134  2017-03-30T18:07:18Z -99.237120  19.266210   0.00000         2  \n",
       "0      4382611  2017-03-30T11:26:21Z -99.230840  19.272678   0.00000         4  \n",
       "0      7412271  2017-03-30T16:42:56Z -99.228990  19.276892   0.00000         4  \n",
       "..         ...                   ...        ...        ...       ...       ...  \n",
       "14     7083146  2017-03-30T16:13:29Z -99.108980  19.357880   1.60934         5  \n",
       "14      145564  2017-03-30T00:13:47Z -99.124160  19.357930   1.00000         2  \n",
       "14    10624338  2017-03-30T21:38:53Z -99.070220  19.360840   0.00000         2  \n",
       "14      951248  2017-03-30T01:32:08Z -99.091780  19.360910  11.00000         2  \n",
       "14    11706010  2017-03-30T23:23:04Z -99.075680  19.361329  19.00000         1  \n",
       "14     2970565  2017-03-30T06:23:41Z -99.048935  19.362314   3.70800         4  \n",
       "14     2198206  2017-03-30T03:45:11Z -99.106900  19.362350   0.00000         5  \n",
       "14     6444755  2017-03-30T15:15:07Z -99.078190  19.362490   0.00000         5  \n",
       "14    10088454  2017-03-30T20:49:40Z -99.073560  19.364240   3.21868         5  \n",
       "14      870782  2017-03-30T01:25:27Z -99.108980  19.364350   0.00000         5  \n",
       "14    11732767  2017-03-30T23:35:45Z -99.108940  19.364420   6.43736         5  \n",
       "14     7825534  2017-03-30T17:18:02Z -99.107030  19.364610  17.70274         5  \n",
       "14     9569625  2017-03-30T19:58:19Z -99.108740  19.365690   0.00000         5  \n",
       "14     7498901  2017-03-30T16:49:19Z -99.107710  19.366030   0.00000         5  \n",
       "14     5742527  2017-03-30T14:07:09Z -99.103910  19.366500   0.00000         2  \n",
       "14     1039585  2017-03-30T01:41:40Z -99.080270  19.299950   0.00000         2  \n",
       "14     6461676  2017-03-30T15:07:40Z -99.063582  19.305794  46.00000         1  \n",
       "14     9850188  2017-03-30T20:23:03Z -99.083080  19.305870   0.00000         2  \n",
       "14      861389  2017-03-30T01:24:29Z -99.066563  19.306972   0.00000         1  \n",
       "14     9331856  2017-03-30T19:39:26Z -99.069900  19.313526   0.00000         4  \n",
       "14     6283869  2017-03-30T15:01:13Z -99.071717  19.314081   0.00000         1  \n",
       "14     6391799  2017-03-30T15:06:34Z -99.086040  19.315090   0.00000         2  \n",
       "15    11344098  2017-03-30T22:57:51Z -99.068910  19.177540   0.00000         2  \n",
       "15    10495996  2017-03-30T21:27:18Z -99.023360  19.194760   0.00000         2  \n",
       "15     8465594  2017-03-30T18:15:43Z -99.033844  19.196147   0.00000         1  \n",
       "15     6137096  2017-03-29T17:54:03Z -99.050960  19.196820   0.00000         5  \n",
       "15     5985421  2017-03-27T02:22:56Z -99.050960  19.196820   0.00000         5  \n",
       "15     5542250  2017-03-22T22:47:57Z -99.015970  19.197570   4.82802         5  \n",
       "15      471179  2017-03-30T00:44:28Z -99.045675  19.202779   0.00000         1  \n",
       "15     5552961  2017-03-22T23:20:04Z -99.047770  19.205150   8.04670         5  \n",
       "\n",
       "[954 rows x 12 columns]"
      ]
     },
     "execution_count": 29,
     "metadata": {},
     "output_type": "execute_result"
    }
   ],
   "source": [
    "u = gpd.sjoin(gdf,df,how='inner',op='intersects')\n",
    "u"
   ]
  },
  {
   "cell_type": "code",
   "execution_count": null,
   "metadata": {
    "collapsed": true
   },
   "outputs": [],
   "source": []
  },
  {
   "cell_type": "code",
   "execution_count": null,
   "metadata": {
    "collapsed": true
   },
   "outputs": [],
   "source": [
    "pip install rtree\n",
    "conda install -c conda-forge rtree"
   ]
  },
  {
   "cell_type": "markdown",
   "metadata": {},
   "source": [
    "instalación \n",
    "\n",
    "Ubuntu: \n",
    "    \n",
    "- Descargar spatialindex de http://download.osgeo.org/libspatialindex/spatialindex-src-1.7.0.tar.gz\n",
    "- descomprimir\n",
    "- cambiar al directorio\n",
    "- sudo su\n",
    "- ./configue\n",
    "- make\n",
    "- make install\n",
    "- ldconfig\n",
    "- easy_install Rtree\n",
    "\n",
    "Windows:\n",
    "\n",
    "- conda install -c conda-forge rtree\n",
    "\n",
    "info: http://toblerity.org/rtree/"
   ]
  },
  {
   "cell_type": "code",
   "execution_count": 30,
   "metadata": {},
   "outputs": [
    {
     "data": {
      "text/plain": [
       "{'init': 'epsg:4326'}"
      ]
     },
     "execution_count": 30,
     "metadata": {},
     "output_type": "execute_result"
    }
   ],
   "source": [
    "df = u\n",
    "df.crs"
   ]
  },
  {
   "cell_type": "code",
   "execution_count": 31,
   "metadata": {},
   "outputs": [
    {
     "data": {
      "text/html": [
       "<div>\n",
       "<style>\n",
       "    .dataframe thead tr:only-child th {\n",
       "        text-align: right;\n",
       "    }\n",
       "\n",
       "    .dataframe thead th {\n",
       "        text-align: left;\n",
       "    }\n",
       "\n",
       "    .dataframe tbody tr th {\n",
       "        vertical-align: top;\n",
       "    }\n",
       "</style>\n",
       "<table border=\"1\" class=\"dataframe\">\n",
       "  <thead>\n",
       "    <tr style=\"text-align: right;\">\n",
       "      <th></th>\n",
       "      <th>CVE_ENT</th>\n",
       "      <th>CVE_MUN</th>\n",
       "      <th>NOM_MUN</th>\n",
       "      <th>OID</th>\n",
       "      <th>geometry</th>\n",
       "      <th>index_right</th>\n",
       "      <th>Unnamed: 0</th>\n",
       "      <th>timestamp</th>\n",
       "      <th>x</th>\n",
       "      <th>y</th>\n",
       "      <th>speed</th>\n",
       "      <th>provider</th>\n",
       "    </tr>\n",
       "  </thead>\n",
       "  <tbody>\n",
       "    <tr>\n",
       "      <th>0</th>\n",
       "      <td>09</td>\n",
       "      <td>012</td>\n",
       "      <td>Tlalpan</td>\n",
       "      <td>1</td>\n",
       "      <td>POLYGON ((-99.1967110331436 19.30240497001839,...</td>\n",
       "      <td>618881</td>\n",
       "      <td>7589678</td>\n",
       "      <td>2017-03-30T16:57:33Z</td>\n",
       "      <td>-99.22595</td>\n",
       "      <td>19.29444</td>\n",
       "      <td>16.0934</td>\n",
       "      <td>5</td>\n",
       "    </tr>\n",
       "    <tr>\n",
       "      <th>0</th>\n",
       "      <td>09</td>\n",
       "      <td>012</td>\n",
       "      <td>Tlalpan</td>\n",
       "      <td>1</td>\n",
       "      <td>POLYGON ((-99.1967110331436 19.30240497001839,...</td>\n",
       "      <td>978918</td>\n",
       "      <td>503540</td>\n",
       "      <td>2017-03-30T00:46:49Z</td>\n",
       "      <td>-99.22090</td>\n",
       "      <td>19.31106</td>\n",
       "      <td>34.0000</td>\n",
       "      <td>2</td>\n",
       "    </tr>\n",
       "    <tr>\n",
       "      <th>0</th>\n",
       "      <td>09</td>\n",
       "      <td>012</td>\n",
       "      <td>Tlalpan</td>\n",
       "      <td>1</td>\n",
       "      <td>POLYGON ((-99.1967110331436 19.30240497001839,...</td>\n",
       "      <td>373454</td>\n",
       "      <td>10414987</td>\n",
       "      <td>2017-03-30T21:20:19Z</td>\n",
       "      <td>-99.15505</td>\n",
       "      <td>19.24834</td>\n",
       "      <td>66.0000</td>\n",
       "      <td>1</td>\n",
       "    </tr>\n",
       "    <tr>\n",
       "      <th>0</th>\n",
       "      <td>09</td>\n",
       "      <td>012</td>\n",
       "      <td>Tlalpan</td>\n",
       "      <td>1</td>\n",
       "      <td>POLYGON ((-99.1967110331436 19.30240497001839,...</td>\n",
       "      <td>79284</td>\n",
       "      <td>8147661</td>\n",
       "      <td>2017-03-30T17:50:08Z</td>\n",
       "      <td>-99.17398</td>\n",
       "      <td>19.24993</td>\n",
       "      <td>0.0000</td>\n",
       "      <td>2</td>\n",
       "    </tr>\n",
       "    <tr>\n",
       "      <th>0</th>\n",
       "      <td>09</td>\n",
       "      <td>012</td>\n",
       "      <td>Tlalpan</td>\n",
       "      <td>1</td>\n",
       "      <td>POLYGON ((-99.1967110331436 19.30240497001839,...</td>\n",
       "      <td>775157</td>\n",
       "      <td>2033682</td>\n",
       "      <td>2017-03-30T03:41:27Z</td>\n",
       "      <td>-99.16043</td>\n",
       "      <td>19.25671</td>\n",
       "      <td>0.0000</td>\n",
       "      <td>2</td>\n",
       "    </tr>\n",
       "  </tbody>\n",
       "</table>\n",
       "</div>"
      ],
      "text/plain": [
       "  CVE_ENT CVE_MUN  NOM_MUN  OID  \\\n",
       "0      09     012  Tlalpan    1   \n",
       "0      09     012  Tlalpan    1   \n",
       "0      09     012  Tlalpan    1   \n",
       "0      09     012  Tlalpan    1   \n",
       "0      09     012  Tlalpan    1   \n",
       "\n",
       "                                            geometry  index_right  Unnamed: 0  \\\n",
       "0  POLYGON ((-99.1967110331436 19.30240497001839,...       618881     7589678   \n",
       "0  POLYGON ((-99.1967110331436 19.30240497001839,...       978918      503540   \n",
       "0  POLYGON ((-99.1967110331436 19.30240497001839,...       373454    10414987   \n",
       "0  POLYGON ((-99.1967110331436 19.30240497001839,...        79284     8147661   \n",
       "0  POLYGON ((-99.1967110331436 19.30240497001839,...       775157     2033682   \n",
       "\n",
       "              timestamp         x         y    speed  provider  \n",
       "0  2017-03-30T16:57:33Z -99.22595  19.29444  16.0934         5  \n",
       "0  2017-03-30T00:46:49Z -99.22090  19.31106  34.0000         2  \n",
       "0  2017-03-30T21:20:19Z -99.15505  19.24834  66.0000         1  \n",
       "0  2017-03-30T17:50:08Z -99.17398  19.24993   0.0000         2  \n",
       "0  2017-03-30T03:41:27Z -99.16043  19.25671   0.0000         2  "
      ]
     },
     "execution_count": 31,
     "metadata": {},
     "output_type": "execute_result"
    }
   ],
   "source": [
    "df.head()"
   ]
  },
  {
   "cell_type": "code",
   "execution_count": null,
   "metadata": {
    "collapsed": true
   },
   "outputs": [],
   "source": []
  },
  {
   "cell_type": "code",
   "execution_count": 58,
   "metadata": {},
   "outputs": [
    {
     "data": {
      "text/html": [
       "<div>\n",
       "<style>\n",
       "    .dataframe thead tr:only-child th {\n",
       "        text-align: right;\n",
       "    }\n",
       "\n",
       "    .dataframe thead th {\n",
       "        text-align: left;\n",
       "    }\n",
       "\n",
       "    .dataframe tbody tr th {\n",
       "        vertical-align: top;\n",
       "    }\n",
       "</style>\n",
       "<table border=\"1\" class=\"dataframe\">\n",
       "  <thead>\n",
       "    <tr style=\"text-align: right;\">\n",
       "      <th></th>\n",
       "      <th>Unnamed: 0</th>\n",
       "      <th>timestamp</th>\n",
       "      <th>x</th>\n",
       "      <th>y</th>\n",
       "      <th>speed</th>\n",
       "      <th>provider</th>\n",
       "      <th>geometry</th>\n",
       "    </tr>\n",
       "  </thead>\n",
       "  <tbody>\n",
       "    <tr>\n",
       "      <th>275637</th>\n",
       "      <td>8297823</td>\n",
       "      <td>2017-03-30T18:03:54Z</td>\n",
       "      <td>-99.318210</td>\n",
       "      <td>19.626100</td>\n",
       "      <td>0.0</td>\n",
       "      <td>2</td>\n",
       "      <td>POINT (-99.31820999999999 19.6261)</td>\n",
       "    </tr>\n",
       "    <tr>\n",
       "      <th>347647</th>\n",
       "      <td>1075981</td>\n",
       "      <td>2017-03-30T01:44:18Z</td>\n",
       "      <td>-98.140300</td>\n",
       "      <td>24.844090</td>\n",
       "      <td>0.0</td>\n",
       "      <td>2</td>\n",
       "      <td>POINT (-98.1403 24.84409)</td>\n",
       "    </tr>\n",
       "    <tr>\n",
       "      <th>680952</th>\n",
       "      <td>96924</td>\n",
       "      <td>2017-03-30T00:09:10Z</td>\n",
       "      <td>-99.083255</td>\n",
       "      <td>19.367040</td>\n",
       "      <td>0.0</td>\n",
       "      <td>1</td>\n",
       "      <td>POINT (-99.08325499999999 19.36704)</td>\n",
       "    </tr>\n",
       "    <tr>\n",
       "      <th>654055</th>\n",
       "      <td>9436404</td>\n",
       "      <td>2017-03-30T19:46:48Z</td>\n",
       "      <td>-99.310634</td>\n",
       "      <td>19.487589</td>\n",
       "      <td>71.0</td>\n",
       "      <td>1</td>\n",
       "      <td>POINT (-99.31063399999999 19.487589)</td>\n",
       "    </tr>\n",
       "    <tr>\n",
       "      <th>805096</th>\n",
       "      <td>570490</td>\n",
       "      <td>2017-03-30T00:54:08Z</td>\n",
       "      <td>-86.873860</td>\n",
       "      <td>21.042484</td>\n",
       "      <td>0.0</td>\n",
       "      <td>4</td>\n",
       "      <td>POINT (-86.87385999999999 21.042484)</td>\n",
       "    </tr>\n",
       "  </tbody>\n",
       "</table>\n",
       "</div>"
      ],
      "text/plain": [
       "        Unnamed: 0             timestamp          x          y  speed  \\\n",
       "275637     8297823  2017-03-30T18:03:54Z -99.318210  19.626100    0.0   \n",
       "347647     1075981  2017-03-30T01:44:18Z -98.140300  24.844090    0.0   \n",
       "680952       96924  2017-03-30T00:09:10Z -99.083255  19.367040    0.0   \n",
       "654055     9436404  2017-03-30T19:46:48Z -99.310634  19.487589   71.0   \n",
       "805096      570490  2017-03-30T00:54:08Z -86.873860  21.042484    0.0   \n",
       "\n",
       "        provider                              geometry  \n",
       "275637         2    POINT (-99.31820999999999 19.6261)  \n",
       "347647         2             POINT (-98.1403 24.84409)  \n",
       "680952         1   POINT (-99.08325499999999 19.36704)  \n",
       "654055         1  POINT (-99.31063399999999 19.487589)  \n",
       "805096         4  POINT (-86.87385999999999 21.042484)  "
      ]
     },
     "execution_count": 58,
     "metadata": {},
     "output_type": "execute_result"
    }
   ],
   "source": [
    "df.head()"
   ]
  },
  {
   "cell_type": "code",
   "execution_count": 32,
   "metadata": {
    "collapsed": true
   },
   "outputs": [],
   "source": [
    "df = df.to_crs({'init':'epsg:3395'})"
   ]
  },
  {
   "cell_type": "code",
   "execution_count": 33,
   "metadata": {},
   "outputs": [
    {
     "data": {
      "text/html": [
       "<div>\n",
       "<style>\n",
       "    .dataframe thead tr:only-child th {\n",
       "        text-align: right;\n",
       "    }\n",
       "\n",
       "    .dataframe thead th {\n",
       "        text-align: left;\n",
       "    }\n",
       "\n",
       "    .dataframe tbody tr th {\n",
       "        vertical-align: top;\n",
       "    }\n",
       "</style>\n",
       "<table border=\"1\" class=\"dataframe\">\n",
       "  <thead>\n",
       "    <tr style=\"text-align: right;\">\n",
       "      <th></th>\n",
       "      <th>CVE_ENT</th>\n",
       "      <th>CVE_MUN</th>\n",
       "      <th>NOM_MUN</th>\n",
       "      <th>OID</th>\n",
       "      <th>geometry</th>\n",
       "      <th>index_right</th>\n",
       "      <th>Unnamed: 0</th>\n",
       "      <th>timestamp</th>\n",
       "      <th>x</th>\n",
       "      <th>y</th>\n",
       "      <th>speed</th>\n",
       "      <th>provider</th>\n",
       "    </tr>\n",
       "  </thead>\n",
       "  <tbody>\n",
       "    <tr>\n",
       "      <th>0</th>\n",
       "      <td>09</td>\n",
       "      <td>012</td>\n",
       "      <td>Tlalpan</td>\n",
       "      <td>1</td>\n",
       "      <td>POLYGON ((-11042527.36057705 2176454.42710185,...</td>\n",
       "      <td>618881</td>\n",
       "      <td>7589678</td>\n",
       "      <td>2017-03-30T16:57:33Z</td>\n",
       "      <td>-99.22595</td>\n",
       "      <td>19.29444</td>\n",
       "      <td>16.0934</td>\n",
       "      <td>5</td>\n",
       "    </tr>\n",
       "    <tr>\n",
       "      <th>0</th>\n",
       "      <td>09</td>\n",
       "      <td>012</td>\n",
       "      <td>Tlalpan</td>\n",
       "      <td>1</td>\n",
       "      <td>POLYGON ((-11042527.36057705 2176454.42710185,...</td>\n",
       "      <td>978918</td>\n",
       "      <td>503540</td>\n",
       "      <td>2017-03-30T00:46:49Z</td>\n",
       "      <td>-99.22090</td>\n",
       "      <td>19.31106</td>\n",
       "      <td>34.0000</td>\n",
       "      <td>2</td>\n",
       "    </tr>\n",
       "    <tr>\n",
       "      <th>0</th>\n",
       "      <td>09</td>\n",
       "      <td>012</td>\n",
       "      <td>Tlalpan</td>\n",
       "      <td>1</td>\n",
       "      <td>POLYGON ((-11042527.36057705 2176454.42710185,...</td>\n",
       "      <td>373454</td>\n",
       "      <td>10414987</td>\n",
       "      <td>2017-03-30T21:20:19Z</td>\n",
       "      <td>-99.15505</td>\n",
       "      <td>19.24834</td>\n",
       "      <td>66.0000</td>\n",
       "      <td>1</td>\n",
       "    </tr>\n",
       "    <tr>\n",
       "      <th>0</th>\n",
       "      <td>09</td>\n",
       "      <td>012</td>\n",
       "      <td>Tlalpan</td>\n",
       "      <td>1</td>\n",
       "      <td>POLYGON ((-11042527.36057705 2176454.42710185,...</td>\n",
       "      <td>79284</td>\n",
       "      <td>8147661</td>\n",
       "      <td>2017-03-30T17:50:08Z</td>\n",
       "      <td>-99.17398</td>\n",
       "      <td>19.24993</td>\n",
       "      <td>0.0000</td>\n",
       "      <td>2</td>\n",
       "    </tr>\n",
       "    <tr>\n",
       "      <th>0</th>\n",
       "      <td>09</td>\n",
       "      <td>012</td>\n",
       "      <td>Tlalpan</td>\n",
       "      <td>1</td>\n",
       "      <td>POLYGON ((-11042527.36057705 2176454.42710185,...</td>\n",
       "      <td>775157</td>\n",
       "      <td>2033682</td>\n",
       "      <td>2017-03-30T03:41:27Z</td>\n",
       "      <td>-99.16043</td>\n",
       "      <td>19.25671</td>\n",
       "      <td>0.0000</td>\n",
       "      <td>2</td>\n",
       "    </tr>\n",
       "  </tbody>\n",
       "</table>\n",
       "</div>"
      ],
      "text/plain": [
       "  CVE_ENT CVE_MUN  NOM_MUN  OID  \\\n",
       "0      09     012  Tlalpan    1   \n",
       "0      09     012  Tlalpan    1   \n",
       "0      09     012  Tlalpan    1   \n",
       "0      09     012  Tlalpan    1   \n",
       "0      09     012  Tlalpan    1   \n",
       "\n",
       "                                            geometry  index_right  Unnamed: 0  \\\n",
       "0  POLYGON ((-11042527.36057705 2176454.42710185,...       618881     7589678   \n",
       "0  POLYGON ((-11042527.36057705 2176454.42710185,...       978918      503540   \n",
       "0  POLYGON ((-11042527.36057705 2176454.42710185,...       373454    10414987   \n",
       "0  POLYGON ((-11042527.36057705 2176454.42710185,...        79284     8147661   \n",
       "0  POLYGON ((-11042527.36057705 2176454.42710185,...       775157     2033682   \n",
       "\n",
       "              timestamp         x         y    speed  provider  \n",
       "0  2017-03-30T16:57:33Z -99.22595  19.29444  16.0934         5  \n",
       "0  2017-03-30T00:46:49Z -99.22090  19.31106  34.0000         2  \n",
       "0  2017-03-30T21:20:19Z -99.15505  19.24834  66.0000         1  \n",
       "0  2017-03-30T17:50:08Z -99.17398  19.24993   0.0000         2  \n",
       "0  2017-03-30T03:41:27Z -99.16043  19.25671   0.0000         2  "
      ]
     },
     "execution_count": 33,
     "metadata": {},
     "output_type": "execute_result"
    }
   ],
   "source": [
    "df.head()"
   ]
  },
  {
   "cell_type": "code",
   "execution_count": 34,
   "metadata": {
    "collapsed": true
   },
   "outputs": [],
   "source": [
    "df['AREA']=df.area  ## que onda con esto?\n"
   ]
  },
  {
   "cell_type": "code",
   "execution_count": 35,
   "metadata": {},
   "outputs": [],
   "source": [
    "u = df.groupby(['NOM_MUN','CVE_ENT','CVE_MUN'])\\\n",
    "                    .AREA.agg(['count','mean'])"
   ]
  },
  {
   "cell_type": "code",
   "execution_count": 37,
   "metadata": {},
   "outputs": [
    {
     "data": {
      "text/html": [
       "<div>\n",
       "<style>\n",
       "    .dataframe thead tr:only-child th {\n",
       "        text-align: right;\n",
       "    }\n",
       "\n",
       "    .dataframe thead th {\n",
       "        text-align: left;\n",
       "    }\n",
       "\n",
       "    .dataframe tbody tr th {\n",
       "        vertical-align: top;\n",
       "    }\n",
       "</style>\n",
       "<table border=\"1\" class=\"dataframe\">\n",
       "  <thead>\n",
       "    <tr style=\"text-align: right;\">\n",
       "      <th></th>\n",
       "      <th></th>\n",
       "      <th></th>\n",
       "      <th>count</th>\n",
       "      <th>mean</th>\n",
       "    </tr>\n",
       "    <tr>\n",
       "      <th>NOM_MUN</th>\n",
       "      <th>CVE_ENT</th>\n",
       "      <th>CVE_MUN</th>\n",
       "      <th></th>\n",
       "      <th></th>\n",
       "    </tr>\n",
       "  </thead>\n",
       "  <tbody>\n",
       "    <tr>\n",
       "      <th>Azcapotzalco</th>\n",
       "      <th>09</th>\n",
       "      <th>002</th>\n",
       "      <td>72</td>\n",
       "      <td>3.769174e+07</td>\n",
       "    </tr>\n",
       "    <tr>\n",
       "      <th>Benito Ju�rez</th>\n",
       "      <th>09</th>\n",
       "      <th>014</th>\n",
       "      <td>51</td>\n",
       "      <td>2.998339e+07</td>\n",
       "    </tr>\n",
       "    <tr>\n",
       "      <th>Coyoac�n</th>\n",
       "      <th>09</th>\n",
       "      <th>003</th>\n",
       "      <td>63</td>\n",
       "      <td>6.051081e+07</td>\n",
       "    </tr>\n",
       "    <tr>\n",
       "      <th>Cuajimalpa de Morelos</th>\n",
       "      <th>09</th>\n",
       "      <th>004</th>\n",
       "      <td>22</td>\n",
       "      <td>8.019867e+07</td>\n",
       "    </tr>\n",
       "    <tr>\n",
       "      <th>Cuauht�moc</th>\n",
       "      <th>09</th>\n",
       "      <th>015</th>\n",
       "      <td>109</td>\n",
       "      <td>3.654538e+07</td>\n",
       "    </tr>\n",
       "  </tbody>\n",
       "</table>\n",
       "</div>"
      ],
      "text/plain": [
       "                                       count          mean\n",
       "NOM_MUN               CVE_ENT CVE_MUN                     \n",
       "Azcapotzalco          09      002         72  3.769174e+07\n",
       "Benito Ju�rez         09      014         51  2.998339e+07\n",
       "Coyoac�n              09      003         63  6.051081e+07\n",
       "Cuajimalpa de Morelos 09      004         22  8.019867e+07\n",
       "Cuauht�moc            09      015        109  3.654538e+07"
      ]
     },
     "execution_count": 37,
     "metadata": {},
     "output_type": "execute_result"
    }
   ],
   "source": [
    "u.head()"
   ]
  },
  {
   "cell_type": "code",
   "execution_count": 39,
   "metadata": {},
   "outputs": [
    {
     "data": {
      "text/html": [
       "<div>\n",
       "<style>\n",
       "    .dataframe thead tr:only-child th {\n",
       "        text-align: right;\n",
       "    }\n",
       "\n",
       "    .dataframe thead th {\n",
       "        text-align: left;\n",
       "    }\n",
       "\n",
       "    .dataframe tbody tr th {\n",
       "        vertical-align: top;\n",
       "    }\n",
       "</style>\n",
       "<table border=\"1\" class=\"dataframe\">\n",
       "  <thead>\n",
       "    <tr style=\"text-align: right;\">\n",
       "      <th></th>\n",
       "      <th></th>\n",
       "      <th></th>\n",
       "      <th>numero de probes</th>\n",
       "      <th>area</th>\n",
       "    </tr>\n",
       "    <tr>\n",
       "      <th>NOM_MUN</th>\n",
       "      <th>CVE_ENT</th>\n",
       "      <th>CVE_MUN</th>\n",
       "      <th></th>\n",
       "      <th></th>\n",
       "    </tr>\n",
       "  </thead>\n",
       "  <tbody>\n",
       "    <tr>\n",
       "      <th>Azcapotzalco</th>\n",
       "      <th>09</th>\n",
       "      <th>002</th>\n",
       "      <td>72</td>\n",
       "      <td>3.769174e+07</td>\n",
       "    </tr>\n",
       "    <tr>\n",
       "      <th>Benito Ju�rez</th>\n",
       "      <th>09</th>\n",
       "      <th>014</th>\n",
       "      <td>51</td>\n",
       "      <td>2.998339e+07</td>\n",
       "    </tr>\n",
       "    <tr>\n",
       "      <th>Coyoac�n</th>\n",
       "      <th>09</th>\n",
       "      <th>003</th>\n",
       "      <td>63</td>\n",
       "      <td>6.051081e+07</td>\n",
       "    </tr>\n",
       "    <tr>\n",
       "      <th>Cuajimalpa de Morelos</th>\n",
       "      <th>09</th>\n",
       "      <th>004</th>\n",
       "      <td>22</td>\n",
       "      <td>8.019867e+07</td>\n",
       "    </tr>\n",
       "    <tr>\n",
       "      <th>Cuauht�moc</th>\n",
       "      <th>09</th>\n",
       "      <th>015</th>\n",
       "      <td>109</td>\n",
       "      <td>3.654538e+07</td>\n",
       "    </tr>\n",
       "  </tbody>\n",
       "</table>\n",
       "</div>"
      ],
      "text/plain": [
       "                                       numero de probes          area\n",
       "NOM_MUN               CVE_ENT CVE_MUN                                \n",
       "Azcapotzalco          09      002                    72  3.769174e+07\n",
       "Benito Ju�rez         09      014                    51  2.998339e+07\n",
       "Coyoac�n              09      003                    63  6.051081e+07\n",
       "Cuajimalpa de Morelos 09      004                    22  8.019867e+07\n",
       "Cuauht�moc            09      015                   109  3.654538e+07"
      ]
     },
     "execution_count": 39,
     "metadata": {},
     "output_type": "execute_result"
    }
   ],
   "source": [
    "u.columns = ['numero de probes','area']\n",
    "u.head()"
   ]
  },
  {
   "cell_type": "code",
   "execution_count": 41,
   "metadata": {},
   "outputs": [
    {
     "data": {
      "text/html": [
       "<div>\n",
       "<style>\n",
       "    .dataframe thead tr:only-child th {\n",
       "        text-align: right;\n",
       "    }\n",
       "\n",
       "    .dataframe thead th {\n",
       "        text-align: left;\n",
       "    }\n",
       "\n",
       "    .dataframe tbody tr th {\n",
       "        vertical-align: top;\n",
       "    }\n",
       "</style>\n",
       "<table border=\"1\" class=\"dataframe\">\n",
       "  <thead>\n",
       "    <tr style=\"text-align: right;\">\n",
       "      <th></th>\n",
       "      <th></th>\n",
       "      <th></th>\n",
       "      <th>numero de probes</th>\n",
       "      <th>area</th>\n",
       "      <th>densidad_probes</th>\n",
       "    </tr>\n",
       "    <tr>\n",
       "      <th>NOM_MUN</th>\n",
       "      <th>CVE_ENT</th>\n",
       "      <th>CVE_MUN</th>\n",
       "      <th></th>\n",
       "      <th></th>\n",
       "      <th></th>\n",
       "    </tr>\n",
       "  </thead>\n",
       "  <tbody>\n",
       "    <tr>\n",
       "      <th>Azcapotzalco</th>\n",
       "      <th>09</th>\n",
       "      <th>002</th>\n",
       "      <td>72</td>\n",
       "      <td>3.769174e+07</td>\n",
       "      <td>1.910233e-06</td>\n",
       "    </tr>\n",
       "    <tr>\n",
       "      <th>Benito Ju�rez</th>\n",
       "      <th>09</th>\n",
       "      <th>014</th>\n",
       "      <td>51</td>\n",
       "      <td>2.998339e+07</td>\n",
       "      <td>1.700942e-06</td>\n",
       "    </tr>\n",
       "    <tr>\n",
       "      <th>Coyoac�n</th>\n",
       "      <th>09</th>\n",
       "      <th>003</th>\n",
       "      <td>63</td>\n",
       "      <td>6.051081e+07</td>\n",
       "      <td>1.041136e-06</td>\n",
       "    </tr>\n",
       "    <tr>\n",
       "      <th>Cuajimalpa de Morelos</th>\n",
       "      <th>09</th>\n",
       "      <th>004</th>\n",
       "      <td>22</td>\n",
       "      <td>8.019867e+07</td>\n",
       "      <td>2.743188e-07</td>\n",
       "    </tr>\n",
       "    <tr>\n",
       "      <th>Cuauht�moc</th>\n",
       "      <th>09</th>\n",
       "      <th>015</th>\n",
       "      <td>109</td>\n",
       "      <td>3.654538e+07</td>\n",
       "      <td>2.982593e-06</td>\n",
       "    </tr>\n",
       "  </tbody>\n",
       "</table>\n",
       "</div>"
      ],
      "text/plain": [
       "                                       numero de probes          area  \\\n",
       "NOM_MUN               CVE_ENT CVE_MUN                                   \n",
       "Azcapotzalco          09      002                    72  3.769174e+07   \n",
       "Benito Ju�rez         09      014                    51  2.998339e+07   \n",
       "Coyoac�n              09      003                    63  6.051081e+07   \n",
       "Cuajimalpa de Morelos 09      004                    22  8.019867e+07   \n",
       "Cuauht�moc            09      015                   109  3.654538e+07   \n",
       "\n",
       "                                       densidad_probes  \n",
       "NOM_MUN               CVE_ENT CVE_MUN                   \n",
       "Azcapotzalco          09      002         1.910233e-06  \n",
       "Benito Ju�rez         09      014         1.700942e-06  \n",
       "Coyoac�n              09      003         1.041136e-06  \n",
       "Cuajimalpa de Morelos 09      004         2.743188e-07  \n",
       "Cuauht�moc            09      015         2.982593e-06  "
      ]
     },
     "execution_count": 41,
     "metadata": {},
     "output_type": "execute_result"
    }
   ],
   "source": [
    "u['densidad_probes']=u['numero de probes']/u['area']  # por qué no u.count/u.mean ?\n",
    "u.head()"
   ]
  },
  {
   "cell_type": "code",
   "execution_count": 42,
   "metadata": {},
   "outputs": [
    {
     "data": {
      "text/html": [
       "<div>\n",
       "<style>\n",
       "    .dataframe thead tr:only-child th {\n",
       "        text-align: right;\n",
       "    }\n",
       "\n",
       "    .dataframe thead th {\n",
       "        text-align: left;\n",
       "    }\n",
       "\n",
       "    .dataframe tbody tr th {\n",
       "        vertical-align: top;\n",
       "    }\n",
       "</style>\n",
       "<table border=\"1\" class=\"dataframe\">\n",
       "  <thead>\n",
       "    <tr style=\"text-align: right;\">\n",
       "      <th></th>\n",
       "      <th>NOM_MUN</th>\n",
       "      <th>CVE_ENT</th>\n",
       "      <th>CVE_MUN</th>\n",
       "      <th>numero de probes</th>\n",
       "      <th>area</th>\n",
       "      <th>densidad_probes</th>\n",
       "    </tr>\n",
       "  </thead>\n",
       "  <tbody>\n",
       "    <tr>\n",
       "      <th>0</th>\n",
       "      <td>Azcapotzalco</td>\n",
       "      <td>09</td>\n",
       "      <td>002</td>\n",
       "      <td>72</td>\n",
       "      <td>3.769174e+07</td>\n",
       "      <td>1.910233e-06</td>\n",
       "    </tr>\n",
       "    <tr>\n",
       "      <th>1</th>\n",
       "      <td>Benito Ju�rez</td>\n",
       "      <td>09</td>\n",
       "      <td>014</td>\n",
       "      <td>51</td>\n",
       "      <td>2.998339e+07</td>\n",
       "      <td>1.700942e-06</td>\n",
       "    </tr>\n",
       "    <tr>\n",
       "      <th>2</th>\n",
       "      <td>Coyoac�n</td>\n",
       "      <td>09</td>\n",
       "      <td>003</td>\n",
       "      <td>63</td>\n",
       "      <td>6.051081e+07</td>\n",
       "      <td>1.041136e-06</td>\n",
       "    </tr>\n",
       "    <tr>\n",
       "      <th>3</th>\n",
       "      <td>Cuajimalpa de Morelos</td>\n",
       "      <td>09</td>\n",
       "      <td>004</td>\n",
       "      <td>22</td>\n",
       "      <td>8.019867e+07</td>\n",
       "      <td>2.743188e-07</td>\n",
       "    </tr>\n",
       "    <tr>\n",
       "      <th>4</th>\n",
       "      <td>Cuauht�moc</td>\n",
       "      <td>09</td>\n",
       "      <td>015</td>\n",
       "      <td>109</td>\n",
       "      <td>3.654538e+07</td>\n",
       "      <td>2.982593e-06</td>\n",
       "    </tr>\n",
       "  </tbody>\n",
       "</table>\n",
       "</div>"
      ],
      "text/plain": [
       "                 NOM_MUN CVE_ENT CVE_MUN  numero de probes          area  \\\n",
       "0           Azcapotzalco      09     002                72  3.769174e+07   \n",
       "1          Benito Ju�rez      09     014                51  2.998339e+07   \n",
       "2               Coyoac�n      09     003                63  6.051081e+07   \n",
       "3  Cuajimalpa de Morelos      09     004                22  8.019867e+07   \n",
       "4             Cuauht�moc      09     015               109  3.654538e+07   \n",
       "\n",
       "   densidad_probes  \n",
       "0     1.910233e-06  \n",
       "1     1.700942e-06  \n",
       "2     1.041136e-06  \n",
       "3     2.743188e-07  \n",
       "4     2.982593e-06  "
      ]
     },
     "execution_count": 42,
     "metadata": {},
     "output_type": "execute_result"
    }
   ],
   "source": [
    "u = u.reset_index()\n",
    "u.head()"
   ]
  },
  {
   "cell_type": "code",
   "execution_count": 43,
   "metadata": {},
   "outputs": [
    {
     "data": {
      "text/html": [
       "<div>\n",
       "<style>\n",
       "    .dataframe thead tr:only-child th {\n",
       "        text-align: right;\n",
       "    }\n",
       "\n",
       "    .dataframe thead th {\n",
       "        text-align: left;\n",
       "    }\n",
       "\n",
       "    .dataframe tbody tr th {\n",
       "        vertical-align: top;\n",
       "    }\n",
       "</style>\n",
       "<table border=\"1\" class=\"dataframe\">\n",
       "  <thead>\n",
       "    <tr style=\"text-align: right;\">\n",
       "      <th></th>\n",
       "      <th>CVE_ENT</th>\n",
       "      <th>CVE_MUN</th>\n",
       "      <th>NOM_MUN</th>\n",
       "      <th>OID</th>\n",
       "      <th>geometry</th>\n",
       "    </tr>\n",
       "    <tr>\n",
       "      <th>index_left</th>\n",
       "      <th></th>\n",
       "      <th></th>\n",
       "      <th></th>\n",
       "      <th></th>\n",
       "      <th></th>\n",
       "    </tr>\n",
       "  </thead>\n",
       "  <tbody>\n",
       "    <tr>\n",
       "      <th>0</th>\n",
       "      <td>09</td>\n",
       "      <td>012</td>\n",
       "      <td>Tlalpan</td>\n",
       "      <td>1</td>\n",
       "      <td>POLYGON ((-99.1967110331436 19.30240497001839,...</td>\n",
       "    </tr>\n",
       "    <tr>\n",
       "      <th>1</th>\n",
       "      <td>09</td>\n",
       "      <td>013</td>\n",
       "      <td>Xochimilco</td>\n",
       "      <td>2</td>\n",
       "      <td>POLYGON ((-99.13301433831455 19.21009500703628...</td>\n",
       "    </tr>\n",
       "    <tr>\n",
       "      <th>2</th>\n",
       "      <td>09</td>\n",
       "      <td>008</td>\n",
       "      <td>La Magdalena Contreras</td>\n",
       "      <td>3</td>\n",
       "      <td>POLYGON ((-99.24488741070159 19.27620941570171...</td>\n",
       "    </tr>\n",
       "    <tr>\n",
       "      <th>3</th>\n",
       "      <td>09</td>\n",
       "      <td>002</td>\n",
       "      <td>Azcapotzalco</td>\n",
       "      <td>4</td>\n",
       "      <td>POLYGON ((-99.15718110621088 19.50284888316681...</td>\n",
       "    </tr>\n",
       "    <tr>\n",
       "      <th>4</th>\n",
       "      <td>09</td>\n",
       "      <td>014</td>\n",
       "      <td>Benito Ju�rez</td>\n",
       "      <td>5</td>\n",
       "      <td>POLYGON ((-99.14349968483091 19.35724145471904...</td>\n",
       "    </tr>\n",
       "  </tbody>\n",
       "</table>\n",
       "</div>"
      ],
      "text/plain": [
       "           CVE_ENT CVE_MUN                 NOM_MUN  OID  \\\n",
       "index_left                                                \n",
       "0               09     012                 Tlalpan    1   \n",
       "1               09     013              Xochimilco    2   \n",
       "2               09     008  La Magdalena Contreras    3   \n",
       "3               09     002            Azcapotzalco    4   \n",
       "4               09     014           Benito Ju�rez    5   \n",
       "\n",
       "                                                     geometry  \n",
       "index_left                                                     \n",
       "0           POLYGON ((-99.1967110331436 19.30240497001839,...  \n",
       "1           POLYGON ((-99.13301433831455 19.21009500703628...  \n",
       "2           POLYGON ((-99.24488741070159 19.27620941570171...  \n",
       "3           POLYGON ((-99.15718110621088 19.50284888316681...  \n",
       "4           POLYGON ((-99.14349968483091 19.35724145471904...  "
      ]
     },
     "execution_count": 43,
     "metadata": {},
     "output_type": "execute_result"
    }
   ],
   "source": [
    "gdf.head()"
   ]
  },
  {
   "cell_type": "code",
   "execution_count": 44,
   "metadata": {},
   "outputs": [
    {
     "data": {
      "text/plain": [
       "pandas.core.frame.DataFrame"
      ]
     },
     "execution_count": 44,
     "metadata": {},
     "output_type": "execute_result"
    }
   ],
   "source": [
    "v = pd.merge(u,gdf,how='inner',on=['NOM_MUN','CVE_ENT','CVE_MUN'])\n",
    "type(v)"
   ]
  },
  {
   "cell_type": "code",
   "execution_count": 45,
   "metadata": {},
   "outputs": [
    {
     "data": {
      "text/plain": [
       "geopandas.geodataframe.GeoDataFrame"
      ]
     },
     "execution_count": 45,
     "metadata": {},
     "output_type": "execute_result"
    }
   ],
   "source": [
    "v = pd.merge(gdf,u,how='inner',on=['NOM_MUN','CVE_ENT','CVE_MUN'])\n",
    "type(v)"
   ]
  },
  {
   "cell_type": "code",
   "execution_count": 49,
   "metadata": {},
   "outputs": [
    {
     "data": {
      "text/plain": [
       "<matplotlib.axes._subplots.AxesSubplot at 0x7f7306a12da0>"
      ]
     },
     "execution_count": 49,
     "metadata": {},
     "output_type": "execute_result"
    },
    {
     "data": {
      "image/png": "[encoded data removed]",
      "text/plain": [
       "<matplotlib.figure.Figure at 0x7f73068c2da0>"
      ]
     },
     "metadata": {},
     "output_type": "display_data"
    }
   ],
   "source": [
    "v.sort_values('densidad_probes',ascending=False).head(16)\\\n",
    "            .plot(column='densidad_probes',legend = True)"
   ]
  },
  {
   "cell_type": "code",
   "execution_count": 50,
   "metadata": {
    "collapsed": true
   },
   "outputs": [],
   "source": [
    "v = v.to_crs({'init': 'epsg:3395'})\n"
   ]
  },
  {
   "cell_type": "code",
   "execution_count": 52,
   "metadata": {},
   "outputs": [
    {
     "data": {
      "text/plain": [
       "<matplotlib.axes._subplots.AxesSubplot at 0x7f73069f4470>"
      ]
     },
     "execution_count": 52,
     "metadata": {},
     "output_type": "execute_result"
    },
    {
     "data": {
      "image/png": "[encoded data removed]",
      "text/plain": [
       "<matplotlib.figure.Figure at 0x7f7306ab9320>"
      ]
     },
     "metadata": {},
     "output_type": "display_data"
    }
   ],
   "source": [
    "v['AREA'] = v.area\n",
    "v.sort_values('AREA',ascending=False).plot(column='AREA',legend=True)"
   ]
  },
  {
   "cell_type": "markdown",
   "metadata": {},
   "source": [
    "### Otras columnas geometry"
   ]
  },
  {
   "cell_type": "code",
   "execution_count": 53,
   "metadata": {},
   "outputs": [
    {
     "data": {
      "text/html": [
       "<div>\n",
       "<style>\n",
       "    .dataframe thead tr:only-child th {\n",
       "        text-align: right;\n",
       "    }\n",
       "\n",
       "    .dataframe thead th {\n",
       "        text-align: left;\n",
       "    }\n",
       "\n",
       "    .dataframe tbody tr th {\n",
       "        vertical-align: top;\n",
       "    }\n",
       "</style>\n",
       "<table border=\"1\" class=\"dataframe\">\n",
       "  <thead>\n",
       "    <tr style=\"text-align: right;\">\n",
       "      <th></th>\n",
       "      <th>CVE_ENT</th>\n",
       "      <th>CVE_MUN</th>\n",
       "      <th>NOM_MUN</th>\n",
       "      <th>OID</th>\n",
       "      <th>geometry</th>\n",
       "      <th>index_right</th>\n",
       "      <th>Unnamed: 0</th>\n",
       "      <th>timestamp</th>\n",
       "      <th>x</th>\n",
       "      <th>y</th>\n",
       "      <th>speed</th>\n",
       "      <th>provider</th>\n",
       "      <th>AREA</th>\n",
       "    </tr>\n",
       "  </thead>\n",
       "  <tbody>\n",
       "    <tr>\n",
       "      <th>0</th>\n",
       "      <td>09</td>\n",
       "      <td>012</td>\n",
       "      <td>Tlalpan</td>\n",
       "      <td>1</td>\n",
       "      <td>POLYGON ((-11042527.36057705 2176454.42710185,...</td>\n",
       "      <td>618881</td>\n",
       "      <td>7589678</td>\n",
       "      <td>2017-03-30T16:57:33Z</td>\n",
       "      <td>-99.22595</td>\n",
       "      <td>19.29444</td>\n",
       "      <td>16.0934</td>\n",
       "      <td>5</td>\n",
       "      <td>3.523801e+08</td>\n",
       "    </tr>\n",
       "    <tr>\n",
       "      <th>0</th>\n",
       "      <td>09</td>\n",
       "      <td>012</td>\n",
       "      <td>Tlalpan</td>\n",
       "      <td>1</td>\n",
       "      <td>POLYGON ((-11042527.36057705 2176454.42710185,...</td>\n",
       "      <td>978918</td>\n",
       "      <td>503540</td>\n",
       "      <td>2017-03-30T00:46:49Z</td>\n",
       "      <td>-99.22090</td>\n",
       "      <td>19.31106</td>\n",
       "      <td>34.0000</td>\n",
       "      <td>2</td>\n",
       "      <td>3.523801e+08</td>\n",
       "    </tr>\n",
       "    <tr>\n",
       "      <th>0</th>\n",
       "      <td>09</td>\n",
       "      <td>012</td>\n",
       "      <td>Tlalpan</td>\n",
       "      <td>1</td>\n",
       "      <td>POLYGON ((-11042527.36057705 2176454.42710185,...</td>\n",
       "      <td>373454</td>\n",
       "      <td>10414987</td>\n",
       "      <td>2017-03-30T21:20:19Z</td>\n",
       "      <td>-99.15505</td>\n",
       "      <td>19.24834</td>\n",
       "      <td>66.0000</td>\n",
       "      <td>1</td>\n",
       "      <td>3.523801e+08</td>\n",
       "    </tr>\n",
       "    <tr>\n",
       "      <th>0</th>\n",
       "      <td>09</td>\n",
       "      <td>012</td>\n",
       "      <td>Tlalpan</td>\n",
       "      <td>1</td>\n",
       "      <td>POLYGON ((-11042527.36057705 2176454.42710185,...</td>\n",
       "      <td>79284</td>\n",
       "      <td>8147661</td>\n",
       "      <td>2017-03-30T17:50:08Z</td>\n",
       "      <td>-99.17398</td>\n",
       "      <td>19.24993</td>\n",
       "      <td>0.0000</td>\n",
       "      <td>2</td>\n",
       "      <td>3.523801e+08</td>\n",
       "    </tr>\n",
       "    <tr>\n",
       "      <th>0</th>\n",
       "      <td>09</td>\n",
       "      <td>012</td>\n",
       "      <td>Tlalpan</td>\n",
       "      <td>1</td>\n",
       "      <td>POLYGON ((-11042527.36057705 2176454.42710185,...</td>\n",
       "      <td>775157</td>\n",
       "      <td>2033682</td>\n",
       "      <td>2017-03-30T03:41:27Z</td>\n",
       "      <td>-99.16043</td>\n",
       "      <td>19.25671</td>\n",
       "      <td>0.0000</td>\n",
       "      <td>2</td>\n",
       "      <td>3.523801e+08</td>\n",
       "    </tr>\n",
       "  </tbody>\n",
       "</table>\n",
       "</div>"
      ],
      "text/plain": [
       "  CVE_ENT CVE_MUN  NOM_MUN  OID  \\\n",
       "0      09     012  Tlalpan    1   \n",
       "0      09     012  Tlalpan    1   \n",
       "0      09     012  Tlalpan    1   \n",
       "0      09     012  Tlalpan    1   \n",
       "0      09     012  Tlalpan    1   \n",
       "\n",
       "                                            geometry  index_right  Unnamed: 0  \\\n",
       "0  POLYGON ((-11042527.36057705 2176454.42710185,...       618881     7589678   \n",
       "0  POLYGON ((-11042527.36057705 2176454.42710185,...       978918      503540   \n",
       "0  POLYGON ((-11042527.36057705 2176454.42710185,...       373454    10414987   \n",
       "0  POLYGON ((-11042527.36057705 2176454.42710185,...        79284     8147661   \n",
       "0  POLYGON ((-11042527.36057705 2176454.42710185,...       775157     2033682   \n",
       "\n",
       "              timestamp         x         y    speed  provider          AREA  \n",
       "0  2017-03-30T16:57:33Z -99.22595  19.29444  16.0934         5  3.523801e+08  \n",
       "0  2017-03-30T00:46:49Z -99.22090  19.31106  34.0000         2  3.523801e+08  \n",
       "0  2017-03-30T21:20:19Z -99.15505  19.24834  66.0000         1  3.523801e+08  \n",
       "0  2017-03-30T17:50:08Z -99.17398  19.24993   0.0000         2  3.523801e+08  \n",
       "0  2017-03-30T03:41:27Z -99.16043  19.25671   0.0000         2  3.523801e+08  "
      ]
     },
     "execution_count": 53,
     "metadata": {},
     "output_type": "execute_result"
    }
   ],
   "source": [
    "df.head()\n"
   ]
  },
  {
   "cell_type": "code",
   "execution_count": 54,
   "metadata": {},
   "outputs": [
    {
     "data": {
      "text/plain": [
       "0    3.523801e+08\n",
       "0    3.523801e+08\n",
       "0    3.523801e+08\n",
       "0    3.523801e+08\n",
       "0    3.523801e+08\n",
       "dtype: float64"
      ]
     },
     "execution_count": 54,
     "metadata": {},
     "output_type": "execute_result"
    }
   ],
   "source": [
    "df.area.head()"
   ]
  },
  {
   "cell_type": "code",
   "execution_count": 55,
   "metadata": {
    "collapsed": true
   },
   "outputs": [],
   "source": [
    "df['geometry2']=df.centroid"
   ]
  },
  {
   "cell_type": "code",
   "execution_count": 56,
   "metadata": {
    "collapsed": true
   },
   "outputs": [],
   "source": [
    "df['geometry3']=df.geometry"
   ]
  },
  {
   "cell_type": "code",
   "execution_count": 57,
   "metadata": {},
   "outputs": [
    {
     "data": {
      "text/html": [
       "<div>\n",
       "<style>\n",
       "    .dataframe thead tr:only-child th {\n",
       "        text-align: right;\n",
       "    }\n",
       "\n",
       "    .dataframe thead th {\n",
       "        text-align: left;\n",
       "    }\n",
       "\n",
       "    .dataframe tbody tr th {\n",
       "        vertical-align: top;\n",
       "    }\n",
       "</style>\n",
       "<table border=\"1\" class=\"dataframe\">\n",
       "  <thead>\n",
       "    <tr style=\"text-align: right;\">\n",
       "      <th></th>\n",
       "      <th>CVE_ENT</th>\n",
       "      <th>CVE_MUN</th>\n",
       "      <th>NOM_MUN</th>\n",
       "      <th>OID</th>\n",
       "      <th>geometry</th>\n",
       "      <th>index_right</th>\n",
       "      <th>Unnamed: 0</th>\n",
       "      <th>timestamp</th>\n",
       "      <th>x</th>\n",
       "      <th>y</th>\n",
       "      <th>speed</th>\n",
       "      <th>provider</th>\n",
       "      <th>AREA</th>\n",
       "      <th>geometry2</th>\n",
       "      <th>geometry3</th>\n",
       "    </tr>\n",
       "  </thead>\n",
       "  <tbody>\n",
       "    <tr>\n",
       "      <th>0</th>\n",
       "      <td>09</td>\n",
       "      <td>012</td>\n",
       "      <td>Tlalpan</td>\n",
       "      <td>1</td>\n",
       "      <td>POINT (-11043585.68608504 2164260.573296153)</td>\n",
       "      <td>618881</td>\n",
       "      <td>7589678</td>\n",
       "      <td>2017-03-30T16:57:33Z</td>\n",
       "      <td>-99.22595</td>\n",
       "      <td>19.29444</td>\n",
       "      <td>16.0934</td>\n",
       "      <td>5</td>\n",
       "      <td>3.523801e+08</td>\n",
       "      <td>POINT (-11043585.68608504 2164260.573296153)</td>\n",
       "      <td>POLYGON ((-11042527.36057705 2176454.42710185,...</td>\n",
       "    </tr>\n",
       "    <tr>\n",
       "      <th>0</th>\n",
       "      <td>09</td>\n",
       "      <td>012</td>\n",
       "      <td>Tlalpan</td>\n",
       "      <td>1</td>\n",
       "      <td>POINT (-11043585.68608504 2164260.573296153)</td>\n",
       "      <td>978918</td>\n",
       "      <td>503540</td>\n",
       "      <td>2017-03-30T00:46:49Z</td>\n",
       "      <td>-99.22090</td>\n",
       "      <td>19.31106</td>\n",
       "      <td>34.0000</td>\n",
       "      <td>2</td>\n",
       "      <td>3.523801e+08</td>\n",
       "      <td>POINT (-11043585.68608504 2164260.573296153)</td>\n",
       "      <td>POLYGON ((-11042527.36057705 2176454.42710185,...</td>\n",
       "    </tr>\n",
       "    <tr>\n",
       "      <th>0</th>\n",
       "      <td>09</td>\n",
       "      <td>012</td>\n",
       "      <td>Tlalpan</td>\n",
       "      <td>1</td>\n",
       "      <td>POINT (-11043585.68608504 2164260.573296153)</td>\n",
       "      <td>373454</td>\n",
       "      <td>10414987</td>\n",
       "      <td>2017-03-30T21:20:19Z</td>\n",
       "      <td>-99.15505</td>\n",
       "      <td>19.24834</td>\n",
       "      <td>66.0000</td>\n",
       "      <td>1</td>\n",
       "      <td>3.523801e+08</td>\n",
       "      <td>POINT (-11043585.68608504 2164260.573296153)</td>\n",
       "      <td>POLYGON ((-11042527.36057705 2176454.42710185,...</td>\n",
       "    </tr>\n",
       "    <tr>\n",
       "      <th>0</th>\n",
       "      <td>09</td>\n",
       "      <td>012</td>\n",
       "      <td>Tlalpan</td>\n",
       "      <td>1</td>\n",
       "      <td>POINT (-11043585.68608504 2164260.573296153)</td>\n",
       "      <td>79284</td>\n",
       "      <td>8147661</td>\n",
       "      <td>2017-03-30T17:50:08Z</td>\n",
       "      <td>-99.17398</td>\n",
       "      <td>19.24993</td>\n",
       "      <td>0.0000</td>\n",
       "      <td>2</td>\n",
       "      <td>3.523801e+08</td>\n",
       "      <td>POINT (-11043585.68608504 2164260.573296153)</td>\n",
       "      <td>POLYGON ((-11042527.36057705 2176454.42710185,...</td>\n",
       "    </tr>\n",
       "    <tr>\n",
       "      <th>0</th>\n",
       "      <td>09</td>\n",
       "      <td>012</td>\n",
       "      <td>Tlalpan</td>\n",
       "      <td>1</td>\n",
       "      <td>POINT (-11043585.68608504 2164260.573296153)</td>\n",
       "      <td>775157</td>\n",
       "      <td>2033682</td>\n",
       "      <td>2017-03-30T03:41:27Z</td>\n",
       "      <td>-99.16043</td>\n",
       "      <td>19.25671</td>\n",
       "      <td>0.0000</td>\n",
       "      <td>2</td>\n",
       "      <td>3.523801e+08</td>\n",
       "      <td>POINT (-11043585.68608504 2164260.573296153)</td>\n",
       "      <td>POLYGON ((-11042527.36057705 2176454.42710185,...</td>\n",
       "    </tr>\n",
       "  </tbody>\n",
       "</table>\n",
       "</div>"
      ],
      "text/plain": [
       "  CVE_ENT CVE_MUN  NOM_MUN  OID                                      geometry  \\\n",
       "0      09     012  Tlalpan    1  POINT (-11043585.68608504 2164260.573296153)   \n",
       "0      09     012  Tlalpan    1  POINT (-11043585.68608504 2164260.573296153)   \n",
       "0      09     012  Tlalpan    1  POINT (-11043585.68608504 2164260.573296153)   \n",
       "0      09     012  Tlalpan    1  POINT (-11043585.68608504 2164260.573296153)   \n",
       "0      09     012  Tlalpan    1  POINT (-11043585.68608504 2164260.573296153)   \n",
       "\n",
       "   index_right  Unnamed: 0             timestamp         x         y    speed  \\\n",
       "0       618881     7589678  2017-03-30T16:57:33Z -99.22595  19.29444  16.0934   \n",
       "0       978918      503540  2017-03-30T00:46:49Z -99.22090  19.31106  34.0000   \n",
       "0       373454    10414987  2017-03-30T21:20:19Z -99.15505  19.24834  66.0000   \n",
       "0        79284     8147661  2017-03-30T17:50:08Z -99.17398  19.24993   0.0000   \n",
       "0       775157     2033682  2017-03-30T03:41:27Z -99.16043  19.25671   0.0000   \n",
       "\n",
       "   provider          AREA                                     geometry2  \\\n",
       "0         5  3.523801e+08  POINT (-11043585.68608504 2164260.573296153)   \n",
       "0         2  3.523801e+08  POINT (-11043585.68608504 2164260.573296153)   \n",
       "0         1  3.523801e+08  POINT (-11043585.68608504 2164260.573296153)   \n",
       "0         2  3.523801e+08  POINT (-11043585.68608504 2164260.573296153)   \n",
       "0         2  3.523801e+08  POINT (-11043585.68608504 2164260.573296153)   \n",
       "\n",
       "                                           geometry3  \n",
       "0  POLYGON ((-11042527.36057705 2176454.42710185,...  \n",
       "0  POLYGON ((-11042527.36057705 2176454.42710185,...  \n",
       "0  POLYGON ((-11042527.36057705 2176454.42710185,...  \n",
       "0  POLYGON ((-11042527.36057705 2176454.42710185,...  \n",
       "0  POLYGON ((-11042527.36057705 2176454.42710185,...  "
      ]
     },
     "execution_count": 57,
     "metadata": {},
     "output_type": "execute_result"
    }
   ],
   "source": [
    "df.geometry = df.geometry2\n",
    "df.head()"
   ]
  },
  {
   "cell_type": "code",
   "execution_count": 58,
   "metadata": {},
   "outputs": [
    {
     "data": {
      "text/plain": [
       "0    0.0\n",
       "0    0.0\n",
       "0    0.0\n",
       "0    0.0\n",
       "0    0.0\n",
       "dtype: float64"
      ]
     },
     "execution_count": 58,
     "metadata": {},
     "output_type": "execute_result"
    }
   ],
   "source": [
    "df.area.head()"
   ]
  },
  {
   "cell_type": "markdown",
   "metadata": {
    "collapsed": true
   },
   "source": [
    "\n",
    "## Operaciones booleanas\n"
   ]
  },
  {
   "cell_type": "code",
   "execution_count": 59,
   "metadata": {
    "collapsed": true
   },
   "outputs": [],
   "source": [
    "polys1 = gpd.GeoSeries([Polygon([(0,0), (2,0), (2,2), (0,2)]),Polygon([(2,2), (4,2), (4,4), (2,4)])])\n",
    "polys2 = gpd.GeoSeries([Polygon([(1,1), (3,1), (3,3), (1,3)]),Polygon([(3,3), (5,3), (5,5), (3,5)])])"
   ]
  },
  {
   "cell_type": "code",
   "execution_count": 60,
   "metadata": {
    "collapsed": true
   },
   "outputs": [],
   "source": [
    "df1 = gpd.GeoDataFrame({'geometry': polys1, 'df1':[1,2]})\n",
    "df2 = gpd.GeoDataFrame({'geometry': polys2, 'df2':[1,2]})"
   ]
  },
  {
   "cell_type": "code",
   "execution_count": 62,
   "metadata": {},
   "outputs": [
    {
     "data": {
      "text/plain": [
       "<matplotlib.axes._subplots.AxesSubplot at 0x7f7306b97588>"
      ]
     },
     "execution_count": 62,
     "metadata": {},
     "output_type": "execute_result"
    },
    {
     "data": {
      "image/png": "[encoded data removed]",
      "text/plain": [
       "<matplotlib.figure.Figure at 0x7f7306b8a438>"
      ]
     },
     "metadata": {},
     "output_type": "display_data"
    }
   ],
   "source": [
    "df1.plot()"
   ]
  },
  {
   "cell_type": "code",
   "execution_count": 63,
   "metadata": {},
   "outputs": [
    {
     "data": {
      "text/plain": [
       "<matplotlib.axes._subplots.AxesSubplot at 0x7f7306b70b38>"
      ]
     },
     "execution_count": 63,
     "metadata": {},
     "output_type": "execute_result"
    },
    {
     "data": {
      "image/png": "[encoded data removed]",
      "text/plain": [
       "<matplotlib.figure.Figure at 0x7f7306b80ba8>"
      ]
     },
     "metadata": {},
     "output_type": "display_data"
    }
   ],
   "source": [
    "df2.plot()"
   ]
  },
  {
   "cell_type": "code",
   "execution_count": 64,
   "metadata": {},
   "outputs": [
    {
     "data": {
      "text/plain": [
       "0    4.0\n",
       "1    4.0\n",
       "dtype: float64"
      ]
     },
     "execution_count": 64,
     "metadata": {},
     "output_type": "execute_result"
    }
   ],
   "source": [
    "df1.area"
   ]
  },
  {
   "cell_type": "code",
   "execution_count": 65,
   "metadata": {},
   "outputs": [
    {
     "data": {
      "image/png": "[encoded data removed]",
      "text/plain": [
       "<matplotlib.figure.Figure at 0x7f7306c97860>"
      ]
     },
     "metadata": {},
     "output_type": "display_data"
    }
   ],
   "source": [
    "ax = df1.plot(color='red');\n",
    "\n",
    "df2.plot(ax=ax, color='green', alpha=0.5);"
   ]
  },
  {
   "cell_type": "code",
   "execution_count": 66,
   "metadata": {
    "collapsed": true
   },
   "outputs": [],
   "source": [
    "res_union = gpd.overlay(df1, df2, how='union')"
   ]
  },
  {
   "cell_type": "code",
   "execution_count": 67,
   "metadata": {},
   "outputs": [
    {
     "data": {
      "text/html": [
       "<div>\n",
       "<style>\n",
       "    .dataframe thead tr:only-child th {\n",
       "        text-align: right;\n",
       "    }\n",
       "\n",
       "    .dataframe thead th {\n",
       "        text-align: left;\n",
       "    }\n",
       "\n",
       "    .dataframe tbody tr th {\n",
       "        vertical-align: top;\n",
       "    }\n",
       "</style>\n",
       "<table border=\"1\" class=\"dataframe\">\n",
       "  <thead>\n",
       "    <tr style=\"text-align: right;\">\n",
       "      <th></th>\n",
       "      <th>df1</th>\n",
       "      <th>df2</th>\n",
       "      <th>geometry</th>\n",
       "    </tr>\n",
       "  </thead>\n",
       "  <tbody>\n",
       "    <tr>\n",
       "      <th>0</th>\n",
       "      <td>1.0</td>\n",
       "      <td>NaN</td>\n",
       "      <td>POLYGON ((2 1, 2 0, 0 0, 0 2, 1 2, 1 1, 2 1))</td>\n",
       "    </tr>\n",
       "    <tr>\n",
       "      <th>1</th>\n",
       "      <td>1.0</td>\n",
       "      <td>1.0</td>\n",
       "      <td>POLYGON ((2 1, 1 1, 1 2, 2 2, 2 1))</td>\n",
       "    </tr>\n",
       "    <tr>\n",
       "      <th>2</th>\n",
       "      <td>NaN</td>\n",
       "      <td>1.0</td>\n",
       "      <td>POLYGON ((2 1, 2 2, 3 2, 3 1, 2 1))</td>\n",
       "    </tr>\n",
       "    <tr>\n",
       "      <th>3</th>\n",
       "      <td>NaN</td>\n",
       "      <td>1.0</td>\n",
       "      <td>POLYGON ((2 2, 1 2, 1 3, 2 3, 2 2))</td>\n",
       "    </tr>\n",
       "    <tr>\n",
       "      <th>4</th>\n",
       "      <td>2.0</td>\n",
       "      <td>NaN</td>\n",
       "      <td>POLYGON ((3 2, 3 3, 4 3, 4 2, 3 2))</td>\n",
       "    </tr>\n",
       "    <tr>\n",
       "      <th>5</th>\n",
       "      <td>2.0</td>\n",
       "      <td>1.0</td>\n",
       "      <td>POLYGON ((3 3, 3 2, 2 2, 2 3, 3 3))</td>\n",
       "    </tr>\n",
       "    <tr>\n",
       "      <th>6</th>\n",
       "      <td>2.0</td>\n",
       "      <td>NaN</td>\n",
       "      <td>POLYGON ((3 3, 2 3, 2 4, 3 4, 3 3))</td>\n",
       "    </tr>\n",
       "    <tr>\n",
       "      <th>7</th>\n",
       "      <td>NaN</td>\n",
       "      <td>2.0</td>\n",
       "      <td>POLYGON ((4 3, 4 4, 3 4, 3 5, 5 5, 5 3, 4 3))</td>\n",
       "    </tr>\n",
       "    <tr>\n",
       "      <th>8</th>\n",
       "      <td>2.0</td>\n",
       "      <td>2.0</td>\n",
       "      <td>POLYGON ((3 4, 4 4, 4 3, 3 3, 3 4))</td>\n",
       "    </tr>\n",
       "  </tbody>\n",
       "</table>\n",
       "</div>"
      ],
      "text/plain": [
       "   df1  df2                                       geometry\n",
       "0  1.0  NaN  POLYGON ((2 1, 2 0, 0 0, 0 2, 1 2, 1 1, 2 1))\n",
       "1  1.0  1.0            POLYGON ((2 1, 1 1, 1 2, 2 2, 2 1))\n",
       "2  NaN  1.0            POLYGON ((2 1, 2 2, 3 2, 3 1, 2 1))\n",
       "3  NaN  1.0            POLYGON ((2 2, 1 2, 1 3, 2 3, 2 2))\n",
       "4  2.0  NaN            POLYGON ((3 2, 3 3, 4 3, 4 2, 3 2))\n",
       "5  2.0  1.0            POLYGON ((3 3, 3 2, 2 2, 2 3, 3 3))\n",
       "6  2.0  NaN            POLYGON ((3 3, 2 3, 2 4, 3 4, 3 3))\n",
       "7  NaN  2.0  POLYGON ((4 3, 4 4, 3 4, 3 5, 5 5, 5 3, 4 3))\n",
       "8  2.0  2.0            POLYGON ((3 4, 4 4, 4 3, 3 3, 3 4))"
      ]
     },
     "execution_count": 67,
     "metadata": {},
     "output_type": "execute_result"
    }
   ],
   "source": [
    "res_union"
   ]
  },
  {
   "cell_type": "code",
   "execution_count": 68,
   "metadata": {},
   "outputs": [
    {
     "data": {
      "text/plain": [
       "<matplotlib.axes._subplots.AxesSubplot at 0x7f7306c962b0>"
      ]
     },
     "execution_count": 68,
     "metadata": {},
     "output_type": "execute_result"
    },
    {
     "data": {
      "image/png": "[encoded data removed]",
      "text/plain": [
       "<matplotlib.figure.Figure at 0x7f7306c9b710>"
      ]
     },
     "metadata": {},
     "output_type": "display_data"
    }
   ],
   "source": [
    "res_union = gpd.overlay(df1, df2, how='union')\n",
    "res_union['x']=list(range(len(res_union)))\n",
    "res_union.plot(column='x')\n"
   ]
  },
  {
   "cell_type": "code",
   "execution_count": 69,
   "metadata": {},
   "outputs": [
    {
     "data": {
      "image/png": "[encoded data removed]",
      "text/plain": [
       "<matplotlib.figure.Figure at 0x7f73023a8cc0>"
      ]
     },
     "metadata": {},
     "output_type": "display_data"
    }
   ],
   "source": [
    "res_intersection = gpd.overlay(df1, df2, how='intersection')\n",
    "res_intersection['x']=list(range(len(res_intersection)))\n",
    "\n",
    "ax = res_intersection.plot(cmap='tab10')\n",
    "\n",
    "df1.plot(ax=ax, facecolor='none', edgecolor='k');\n",
    "\n",
    "df2.plot(ax=ax, facecolor='none', edgecolor='k');"
   ]
  },
  {
   "cell_type": "code",
   "execution_count": 71,
   "metadata": {},
   "outputs": [
    {
     "data": {
      "text/plain": [
       "<matplotlib.axes._subplots.AxesSubplot at 0x7f7303579208>"
      ]
     },
     "execution_count": 71,
     "metadata": {},
     "output_type": "execute_result"
    },
    {
     "data": {
      "image/png": "[encoded data removed]",
      "text/plain": [
       "<matplotlib.figure.Figure at 0x7f73035be0b8>"
      ]
     },
     "metadata": {},
     "output_type": "display_data"
    }
   ],
   "source": [
    "res_symdiff = gpd.overlay(df2, df1, how='symmetric_difference')\n",
    "\n",
    "\n",
    "\n",
    "ax = res_symdiff.plot(cmap='tab10')\n",
    "\n",
    "df1.plot(ax=ax, facecolor='none', edgecolor='k')\n",
    "\n",
    "df2.plot(ax=ax, facecolor='none', edgecolor='k')"
   ]
  },
  {
   "cell_type": "code",
   "execution_count": 72,
   "metadata": {},
   "outputs": [
    {
     "data": {
      "text/plain": [
       "<matplotlib.axes._subplots.AxesSubplot at 0x7f73051b3828>"
      ]
     },
     "execution_count": 72,
     "metadata": {},
     "output_type": "execute_result"
    },
    {
     "data": {
      "image/png": "[encoded data removed]",
      "text/plain": [
       "<matplotlib.figure.Figure at 0x7f73025f14e0>"
      ]
     },
     "metadata": {},
     "output_type": "display_data"
    }
   ],
   "source": [
    "res_difference = gpd.overlay(df2, df1, how='difference')\n",
    "\n",
    "\n",
    "ax = res_difference.plot(cmap='tab10')\n",
    "df1.plot(ax=ax, facecolor='none', edgecolor='k')\n",
    "df2.plot(ax=ax, facecolor='none', edgecolor='k')"
   ]
  },
  {
   "cell_type": "code",
   "execution_count": 73,
   "metadata": {},
   "outputs": [
    {
     "data": {
      "text/plain": [
       "<matplotlib.axes._subplots.AxesSubplot at 0x7f73054cab38>"
      ]
     },
     "execution_count": 73,
     "metadata": {},
     "output_type": "execute_result"
    },
    {
     "data": {
      "image/png": "[encoded data removed]",
      "text/plain": [
       "<matplotlib.figure.Figure at 0x7f73069ac7b8>"
      ]
     },
     "metadata": {},
     "output_type": "display_data"
    }
   ],
   "source": [
    "res_identity = gpd.overlay(df1, df2, how='identity')\n",
    "\n",
    "\n",
    "ax = res_identity.plot(cmap='tab10')\n",
    "\n",
    "df1.plot(ax=ax, facecolor='none', edgecolor='k')\n",
    "\n",
    "df2.plot(ax=ax, facecolor='none', edgecolor='k')"
   ]
  },
  {
   "cell_type": "code",
   "execution_count": null,
   "metadata": {
    "collapsed": true
   },
   "outputs": [],
   "source": [
    "gdf.difference(other)\n",
    "\n",
    "gdf.intersection(other)\n",
    "\n",
    "gdf.symmetric_difference(other)\n",
    "\n",
    "gdf.union(other)"
   ]
  },
  {
   "cell_type": "markdown",
   "metadata": {},
   "source": [
    "### Geocoding y Geocoding inverso"
   ]
  },
  {
   "cell_type": "markdown",
   "metadata": {},
   "source": [
    "pip install geopy\n"
   ]
  },
  {
   "cell_type": "code",
   "execution_count": 74,
   "metadata": {},
   "outputs": [
    {
     "data": {
      "text/html": [
       "<div>\n",
       "<style>\n",
       "    .dataframe thead tr:only-child th {\n",
       "        text-align: right;\n",
       "    }\n",
       "\n",
       "    .dataframe thead th {\n",
       "        text-align: left;\n",
       "    }\n",
       "\n",
       "    .dataframe tbody tr th {\n",
       "        vertical-align: top;\n",
       "    }\n",
       "</style>\n",
       "<table border=\"1\" class=\"dataframe\">\n",
       "  <thead>\n",
       "    <tr style=\"text-align: right;\">\n",
       "      <th></th>\n",
       "      <th>Unnamed: 0</th>\n",
       "      <th>id</th>\n",
       "      <th>nom_estab</th>\n",
       "      <th>raz_social</th>\n",
       "      <th>codigo_act</th>\n",
       "      <th>nombre_act</th>\n",
       "      <th>per_ocu</th>\n",
       "      <th>tipo_vial</th>\n",
       "      <th>nom_vial</th>\n",
       "      <th>tipo_v_e_1</th>\n",
       "      <th>...</th>\n",
       "      <th>localidad</th>\n",
       "      <th>ageb</th>\n",
       "      <th>manzana</th>\n",
       "      <th>telefono</th>\n",
       "      <th>correoelec</th>\n",
       "      <th>www</th>\n",
       "      <th>tipoUniEco</th>\n",
       "      <th>latitud</th>\n",
       "      <th>longitud</th>\n",
       "      <th>fecha_alta</th>\n",
       "    </tr>\n",
       "  </thead>\n",
       "  <tbody>\n",
       "    <tr>\n",
       "      <th>952</th>\n",
       "      <td>953</td>\n",
       "      <td>6704526</td>\n",
       "      <td>COPPEL</td>\n",
       "      <td>COPPEL SA DE CV</td>\n",
       "      <td>462210</td>\n",
       "      <td>Comercio al por menor en tiendas departamentales</td>\n",
       "      <td>51 a 100 personas</td>\n",
       "      <td>AVENIDA</td>\n",
       "      <td>AQUILES SERDÁN</td>\n",
       "      <td>CALLE</td>\n",
       "      <td>...</td>\n",
       "      <td>Tierra Blanca</td>\n",
       "      <td>0231</td>\n",
       "      <td>30</td>\n",
       "      <td>NaN</td>\n",
       "      <td>FZAMUDIO@COPPEL.COM</td>\n",
       "      <td>WWW.COPPEL.COM</td>\n",
       "      <td>Fijo</td>\n",
       "      <td>18.450829</td>\n",
       "      <td>-96.352326</td>\n",
       "      <td>ENERO 2016</td>\n",
       "    </tr>\n",
       "    <tr>\n",
       "      <th>984</th>\n",
       "      <td>985</td>\n",
       "      <td>6407293</td>\n",
       "      <td>COPPEL CANADA ZAPATERÍA MIGUEL ALEMÁN 955</td>\n",
       "      <td>COPPEL SA DE CV</td>\n",
       "      <td>462210</td>\n",
       "      <td>Comercio al por menor en tiendas departamentales</td>\n",
       "      <td>11 a 30 personas</td>\n",
       "      <td>CALLE</td>\n",
       "      <td>MIGUEL ALEMÁN</td>\n",
       "      <td>CALLE</td>\n",
       "      <td>...</td>\n",
       "      <td>Alto Lucero</td>\n",
       "      <td>0168</td>\n",
       "      <td>1</td>\n",
       "      <td>2.798271e+09</td>\n",
       "      <td>FZAMUDIO@COPPEL.COM</td>\n",
       "      <td>WWW.COPPEL.COM</td>\n",
       "      <td>Fijo</td>\n",
       "      <td>19.622964</td>\n",
       "      <td>-96.733620</td>\n",
       "      <td>DICIEMBRE 2014</td>\n",
       "    </tr>\n",
       "    <tr>\n",
       "      <th>1071</th>\n",
       "      <td>1072</td>\n",
       "      <td>6282277</td>\n",
       "      <td>COPPEL CANADA ZAPATERÍA MERCADO TERÁN 525</td>\n",
       "      <td>COPPEL SA DE CV</td>\n",
       "      <td>463310</td>\n",
       "      <td>Comercio al por menor de calzado</td>\n",
       "      <td>11 a 30 personas</td>\n",
       "      <td>CALLE</td>\n",
       "      <td>ADOLFO TORRES</td>\n",
       "      <td>CALLE</td>\n",
       "      <td>...</td>\n",
       "      <td>Aguascalientes</td>\n",
       "      <td>0572</td>\n",
       "      <td>21</td>\n",
       "      <td>4.499150e+09</td>\n",
       "      <td>FZAMUDIO@COPPEL.COM</td>\n",
       "      <td>WWW.COPPEL.COM</td>\n",
       "      <td>Fijo</td>\n",
       "      <td>21.883677</td>\n",
       "      <td>-102.297821</td>\n",
       "      <td>JULIO 2010</td>\n",
       "    </tr>\n",
       "    <tr>\n",
       "      <th>647</th>\n",
       "      <td>648</td>\n",
       "      <td>6375480</td>\n",
       "      <td>COPPEL 2 DE ABRIL 450</td>\n",
       "      <td>COPPEL SA DE CV</td>\n",
       "      <td>462210</td>\n",
       "      <td>Comercio al por menor en tiendas departamentales</td>\n",
       "      <td>51 a 100 personas</td>\n",
       "      <td>CALLE</td>\n",
       "      <td>2 DE ABRIL</td>\n",
       "      <td>AVENIDA</td>\n",
       "      <td>...</td>\n",
       "      <td>Heroica Ciudad de Juchitán de Zaragoza</td>\n",
       "      <td>0363</td>\n",
       "      <td>2</td>\n",
       "      <td>9.712811e+09</td>\n",
       "      <td>FZAMUDIO@COPPEL.COM</td>\n",
       "      <td>WWW.COPPEL.COM</td>\n",
       "      <td>Fijo</td>\n",
       "      <td>16.433318</td>\n",
       "      <td>-95.021200</td>\n",
       "      <td>JULIO 2010</td>\n",
       "    </tr>\n",
       "    <tr>\n",
       "      <th>366</th>\n",
       "      <td>367</td>\n",
       "      <td>6391504</td>\n",
       "      <td>COPPEL CORONA 968</td>\n",
       "      <td>COPPEL SA DE CV</td>\n",
       "      <td>462210</td>\n",
       "      <td>Comercio al por menor en tiendas departamentales</td>\n",
       "      <td>51 a 100 personas</td>\n",
       "      <td>CALLE</td>\n",
       "      <td>CORONA ARAIZA</td>\n",
       "      <td>CALLE</td>\n",
       "      <td>...</td>\n",
       "      <td>Autlán de Navarro</td>\n",
       "      <td>0077</td>\n",
       "      <td>29</td>\n",
       "      <td>3.173826e+09</td>\n",
       "      <td>FZAMUDIO@COPPEL.COM</td>\n",
       "      <td>WWW.COPPEL.COM</td>\n",
       "      <td>Fijo</td>\n",
       "      <td>19.770626</td>\n",
       "      <td>-104.367616</td>\n",
       "      <td>DICIEMBRE 2014</td>\n",
       "    </tr>\n",
       "  </tbody>\n",
       "</table>\n",
       "<p>5 rows × 42 columns</p>\n",
       "</div>"
      ],
      "text/plain": [
       "      Unnamed: 0       id                                  nom_estab  \\\n",
       "952          953  6704526                                     COPPEL   \n",
       "984          985  6407293  COPPEL CANADA ZAPATERÍA MIGUEL ALEMÁN 955   \n",
       "1071        1072  6282277  COPPEL CANADA ZAPATERÍA MERCADO TERÁN 525   \n",
       "647          648  6375480                      COPPEL 2 DE ABRIL 450   \n",
       "366          367  6391504                          COPPEL CORONA 968   \n",
       "\n",
       "           raz_social  codigo_act  \\\n",
       "952   COPPEL SA DE CV      462210   \n",
       "984   COPPEL SA DE CV      462210   \n",
       "1071  COPPEL SA DE CV      463310   \n",
       "647   COPPEL SA DE CV      462210   \n",
       "366   COPPEL SA DE CV      462210   \n",
       "\n",
       "                                            nombre_act            per_ocu  \\\n",
       "952   Comercio al por menor en tiendas departamentales  51 a 100 personas   \n",
       "984   Comercio al por menor en tiendas departamentales   11 a 30 personas   \n",
       "1071                  Comercio al por menor de calzado   11 a 30 personas   \n",
       "647   Comercio al por menor en tiendas departamentales  51 a 100 personas   \n",
       "366   Comercio al por menor en tiendas departamentales  51 a 100 personas   \n",
       "\n",
       "     tipo_vial        nom_vial tipo_v_e_1       ...        \\\n",
       "952    AVENIDA  AQUILES SERDÁN      CALLE       ...         \n",
       "984      CALLE   MIGUEL ALEMÁN      CALLE       ...         \n",
       "1071     CALLE   ADOLFO TORRES      CALLE       ...         \n",
       "647      CALLE      2 DE ABRIL    AVENIDA       ...         \n",
       "366      CALLE   CORONA ARAIZA      CALLE       ...         \n",
       "\n",
       "                                   localidad  ageb manzana      telefono  \\\n",
       "952                            Tierra Blanca  0231      30           NaN   \n",
       "984                              Alto Lucero  0168       1  2.798271e+09   \n",
       "1071                          Aguascalientes  0572      21  4.499150e+09   \n",
       "647   Heroica Ciudad de Juchitán de Zaragoza  0363       2  9.712811e+09   \n",
       "366                        Autlán de Navarro  0077      29  3.173826e+09   \n",
       "\n",
       "               correoelec             www tipoUniEco    latitud    longitud  \\\n",
       "952   FZAMUDIO@COPPEL.COM  WWW.COPPEL.COM       Fijo  18.450829  -96.352326   \n",
       "984   FZAMUDIO@COPPEL.COM  WWW.COPPEL.COM       Fijo  19.622964  -96.733620   \n",
       "1071  FZAMUDIO@COPPEL.COM  WWW.COPPEL.COM       Fijo  21.883677 -102.297821   \n",
       "647   FZAMUDIO@COPPEL.COM  WWW.COPPEL.COM       Fijo  16.433318  -95.021200   \n",
       "366   FZAMUDIO@COPPEL.COM  WWW.COPPEL.COM       Fijo  19.770626 -104.367616   \n",
       "\n",
       "          fecha_alta  \n",
       "952       ENERO 2016  \n",
       "984   DICIEMBRE 2014  \n",
       "1071      JULIO 2010  \n",
       "647       JULIO 2010  \n",
       "366   DICIEMBRE 2014  \n",
       "\n",
       "[5 rows x 42 columns]"
      ]
     },
     "execution_count": 74,
     "metadata": {},
     "output_type": "execute_result"
    }
   ],
   "source": [
    "gdf = pd.read_csv('data/Coppel.csv').sample(10)\n",
    "gdf.head()"
   ]
  },
  {
   "cell_type": "code",
   "execution_count": 75,
   "metadata": {},
   "outputs": [
    {
     "data": {
      "text/plain": [
       "[<shapely.geometry.point.Point at 0x7f7306991eb8>,\n",
       " <shapely.geometry.point.Point at 0x7f73069917f0>,\n",
       " <shapely.geometry.point.Point at 0x7f7306991208>,\n",
       " <shapely.geometry.point.Point at 0x7f7306991d30>,\n",
       " <shapely.geometry.point.Point at 0x7f7306991ac8>]"
      ]
     },
     "execution_count": 75,
     "metadata": {},
     "output_type": "execute_result"
    }
   ],
   "source": [
    "from shapely.geometry import Point, Polygon, LineString\n",
    "l = [Point(xy) for xy in zip(gdf.latitud,gdf.longitud)]\n",
    "l[0:l5]"
   ]
  },
  {
   "cell_type": "code",
   "execution_count": 76,
   "metadata": {},
   "outputs": [
    {
     "data": {
      "text/html": [
       "<div>\n",
       "<style>\n",
       "    .dataframe thead tr:only-child th {\n",
       "        text-align: right;\n",
       "    }\n",
       "\n",
       "    .dataframe thead th {\n",
       "        text-align: left;\n",
       "    }\n",
       "\n",
       "    .dataframe tbody tr th {\n",
       "        vertical-align: top;\n",
       "    }\n",
       "</style>\n",
       "<table border=\"1\" class=\"dataframe\">\n",
       "  <thead>\n",
       "    <tr style=\"text-align: right;\">\n",
       "      <th></th>\n",
       "      <th>Unnamed: 0</th>\n",
       "      <th>id</th>\n",
       "      <th>nom_estab</th>\n",
       "      <th>raz_social</th>\n",
       "      <th>codigo_act</th>\n",
       "      <th>nombre_act</th>\n",
       "      <th>per_ocu</th>\n",
       "      <th>tipo_vial</th>\n",
       "      <th>nom_vial</th>\n",
       "      <th>tipo_v_e_1</th>\n",
       "      <th>...</th>\n",
       "      <th>ageb</th>\n",
       "      <th>manzana</th>\n",
       "      <th>telefono</th>\n",
       "      <th>correoelec</th>\n",
       "      <th>www</th>\n",
       "      <th>tipoUniEco</th>\n",
       "      <th>latitud</th>\n",
       "      <th>longitud</th>\n",
       "      <th>fecha_alta</th>\n",
       "      <th>geometry</th>\n",
       "    </tr>\n",
       "  </thead>\n",
       "  <tbody>\n",
       "    <tr>\n",
       "      <th>952</th>\n",
       "      <td>953</td>\n",
       "      <td>6704526</td>\n",
       "      <td>COPPEL</td>\n",
       "      <td>COPPEL SA DE CV</td>\n",
       "      <td>462210</td>\n",
       "      <td>Comercio al por menor en tiendas departamentales</td>\n",
       "      <td>51 a 100 personas</td>\n",
       "      <td>AVENIDA</td>\n",
       "      <td>AQUILES SERDÁN</td>\n",
       "      <td>CALLE</td>\n",
       "      <td>...</td>\n",
       "      <td>0231</td>\n",
       "      <td>30</td>\n",
       "      <td>NaN</td>\n",
       "      <td>FZAMUDIO@COPPEL.COM</td>\n",
       "      <td>WWW.COPPEL.COM</td>\n",
       "      <td>Fijo</td>\n",
       "      <td>18.450829</td>\n",
       "      <td>-96.352326</td>\n",
       "      <td>ENERO 2016</td>\n",
       "      <td>POINT (18.45082873 -96.35232557)</td>\n",
       "    </tr>\n",
       "    <tr>\n",
       "      <th>984</th>\n",
       "      <td>985</td>\n",
       "      <td>6407293</td>\n",
       "      <td>COPPEL CANADA ZAPATERÍA MIGUEL ALEMÁN 955</td>\n",
       "      <td>COPPEL SA DE CV</td>\n",
       "      <td>462210</td>\n",
       "      <td>Comercio al por menor en tiendas departamentales</td>\n",
       "      <td>11 a 30 personas</td>\n",
       "      <td>CALLE</td>\n",
       "      <td>MIGUEL ALEMÁN</td>\n",
       "      <td>CALLE</td>\n",
       "      <td>...</td>\n",
       "      <td>0168</td>\n",
       "      <td>1</td>\n",
       "      <td>2.798271e+09</td>\n",
       "      <td>FZAMUDIO@COPPEL.COM</td>\n",
       "      <td>WWW.COPPEL.COM</td>\n",
       "      <td>Fijo</td>\n",
       "      <td>19.622964</td>\n",
       "      <td>-96.733620</td>\n",
       "      <td>DICIEMBRE 2014</td>\n",
       "      <td>POINT (19.62296423 -96.73362021)</td>\n",
       "    </tr>\n",
       "    <tr>\n",
       "      <th>1071</th>\n",
       "      <td>1072</td>\n",
       "      <td>6282277</td>\n",
       "      <td>COPPEL CANADA ZAPATERÍA MERCADO TERÁN 525</td>\n",
       "      <td>COPPEL SA DE CV</td>\n",
       "      <td>463310</td>\n",
       "      <td>Comercio al por menor de calzado</td>\n",
       "      <td>11 a 30 personas</td>\n",
       "      <td>CALLE</td>\n",
       "      <td>ADOLFO TORRES</td>\n",
       "      <td>CALLE</td>\n",
       "      <td>...</td>\n",
       "      <td>0572</td>\n",
       "      <td>21</td>\n",
       "      <td>4.499150e+09</td>\n",
       "      <td>FZAMUDIO@COPPEL.COM</td>\n",
       "      <td>WWW.COPPEL.COM</td>\n",
       "      <td>Fijo</td>\n",
       "      <td>21.883677</td>\n",
       "      <td>-102.297821</td>\n",
       "      <td>JULIO 2010</td>\n",
       "      <td>POINT (21.88367662 -102.29782133)</td>\n",
       "    </tr>\n",
       "    <tr>\n",
       "      <th>647</th>\n",
       "      <td>648</td>\n",
       "      <td>6375480</td>\n",
       "      <td>COPPEL 2 DE ABRIL 450</td>\n",
       "      <td>COPPEL SA DE CV</td>\n",
       "      <td>462210</td>\n",
       "      <td>Comercio al por menor en tiendas departamentales</td>\n",
       "      <td>51 a 100 personas</td>\n",
       "      <td>CALLE</td>\n",
       "      <td>2 DE ABRIL</td>\n",
       "      <td>AVENIDA</td>\n",
       "      <td>...</td>\n",
       "      <td>0363</td>\n",
       "      <td>2</td>\n",
       "      <td>9.712811e+09</td>\n",
       "      <td>FZAMUDIO@COPPEL.COM</td>\n",
       "      <td>WWW.COPPEL.COM</td>\n",
       "      <td>Fijo</td>\n",
       "      <td>16.433318</td>\n",
       "      <td>-95.021200</td>\n",
       "      <td>JULIO 2010</td>\n",
       "      <td>POINT (16.43331829 -95.02119989000001)</td>\n",
       "    </tr>\n",
       "    <tr>\n",
       "      <th>366</th>\n",
       "      <td>367</td>\n",
       "      <td>6391504</td>\n",
       "      <td>COPPEL CORONA 968</td>\n",
       "      <td>COPPEL SA DE CV</td>\n",
       "      <td>462210</td>\n",
       "      <td>Comercio al por menor en tiendas departamentales</td>\n",
       "      <td>51 a 100 personas</td>\n",
       "      <td>CALLE</td>\n",
       "      <td>CORONA ARAIZA</td>\n",
       "      <td>CALLE</td>\n",
       "      <td>...</td>\n",
       "      <td>0077</td>\n",
       "      <td>29</td>\n",
       "      <td>3.173826e+09</td>\n",
       "      <td>FZAMUDIO@COPPEL.COM</td>\n",
       "      <td>WWW.COPPEL.COM</td>\n",
       "      <td>Fijo</td>\n",
       "      <td>19.770626</td>\n",
       "      <td>-104.367616</td>\n",
       "      <td>DICIEMBRE 2014</td>\n",
       "      <td>POINT (19.77062641 -104.36761641)</td>\n",
       "    </tr>\n",
       "  </tbody>\n",
       "</table>\n",
       "<p>5 rows × 43 columns</p>\n",
       "</div>"
      ],
      "text/plain": [
       "      Unnamed: 0       id                                  nom_estab  \\\n",
       "952          953  6704526                                     COPPEL   \n",
       "984          985  6407293  COPPEL CANADA ZAPATERÍA MIGUEL ALEMÁN 955   \n",
       "1071        1072  6282277  COPPEL CANADA ZAPATERÍA MERCADO TERÁN 525   \n",
       "647          648  6375480                      COPPEL 2 DE ABRIL 450   \n",
       "366          367  6391504                          COPPEL CORONA 968   \n",
       "\n",
       "           raz_social  codigo_act  \\\n",
       "952   COPPEL SA DE CV      462210   \n",
       "984   COPPEL SA DE CV      462210   \n",
       "1071  COPPEL SA DE CV      463310   \n",
       "647   COPPEL SA DE CV      462210   \n",
       "366   COPPEL SA DE CV      462210   \n",
       "\n",
       "                                            nombre_act            per_ocu  \\\n",
       "952   Comercio al por menor en tiendas departamentales  51 a 100 personas   \n",
       "984   Comercio al por menor en tiendas departamentales   11 a 30 personas   \n",
       "1071                  Comercio al por menor de calzado   11 a 30 personas   \n",
       "647   Comercio al por menor en tiendas departamentales  51 a 100 personas   \n",
       "366   Comercio al por menor en tiendas departamentales  51 a 100 personas   \n",
       "\n",
       "     tipo_vial        nom_vial tipo_v_e_1  \\\n",
       "952    AVENIDA  AQUILES SERDÁN      CALLE   \n",
       "984      CALLE   MIGUEL ALEMÁN      CALLE   \n",
       "1071     CALLE   ADOLFO TORRES      CALLE   \n",
       "647      CALLE      2 DE ABRIL    AVENIDA   \n",
       "366      CALLE   CORONA ARAIZA      CALLE   \n",
       "\n",
       "                       ...                    ageb manzana      telefono  \\\n",
       "952                    ...                    0231      30           NaN   \n",
       "984                    ...                    0168       1  2.798271e+09   \n",
       "1071                   ...                    0572      21  4.499150e+09   \n",
       "647                    ...                    0363       2  9.712811e+09   \n",
       "366                    ...                    0077      29  3.173826e+09   \n",
       "\n",
       "               correoelec             www  tipoUniEco    latitud    longitud  \\\n",
       "952   FZAMUDIO@COPPEL.COM  WWW.COPPEL.COM        Fijo  18.450829  -96.352326   \n",
       "984   FZAMUDIO@COPPEL.COM  WWW.COPPEL.COM        Fijo  19.622964  -96.733620   \n",
       "1071  FZAMUDIO@COPPEL.COM  WWW.COPPEL.COM        Fijo  21.883677 -102.297821   \n",
       "647   FZAMUDIO@COPPEL.COM  WWW.COPPEL.COM        Fijo  16.433318  -95.021200   \n",
       "366   FZAMUDIO@COPPEL.COM  WWW.COPPEL.COM        Fijo  19.770626 -104.367616   \n",
       "\n",
       "          fecha_alta                                geometry  \n",
       "952       ENERO 2016        POINT (18.45082873 -96.35232557)  \n",
       "984   DICIEMBRE 2014        POINT (19.62296423 -96.73362021)  \n",
       "1071      JULIO 2010       POINT (21.88367662 -102.29782133)  \n",
       "647       JULIO 2010  POINT (16.43331829 -95.02119989000001)  \n",
       "366   DICIEMBRE 2014       POINT (19.77062641 -104.36761641)  \n",
       "\n",
       "[5 rows x 43 columns]"
      ]
     },
     "execution_count": 76,
     "metadata": {},
     "output_type": "execute_result"
    }
   ],
   "source": [
    "gdf = gpd.GeoDataFrame(gdf,geometry=l)\n",
    "gdf.head()"
   ]
  },
  {
   "cell_type": "code",
   "execution_count": 77,
   "metadata": {},
   "outputs": [
    {
     "data": {
      "text/html": [
       "<div>\n",
       "<style>\n",
       "    .dataframe thead tr:only-child th {\n",
       "        text-align: right;\n",
       "    }\n",
       "\n",
       "    .dataframe thead th {\n",
       "        text-align: left;\n",
       "    }\n",
       "\n",
       "    .dataframe tbody tr th {\n",
       "        vertical-align: top;\n",
       "    }\n",
       "</style>\n",
       "<table border=\"1\" class=\"dataframe\">\n",
       "  <thead>\n",
       "    <tr style=\"text-align: right;\">\n",
       "      <th></th>\n",
       "      <th>direccion</th>\n",
       "      <th>geometry</th>\n",
       "    </tr>\n",
       "  </thead>\n",
       "  <tbody>\n",
       "    <tr>\n",
       "      <th>952</th>\n",
       "      <td>AQUILES SERDÁN 1400, 95150, Tierra Blanca</td>\n",
       "      <td>POINT (18.45082873 -96.35232557)</td>\n",
       "    </tr>\n",
       "    <tr>\n",
       "      <th>984</th>\n",
       "      <td>MIGUEL ALEMÁN 410, 91460, Alto Lucero de Gutié...</td>\n",
       "      <td>POINT (19.62296423 -96.73362021)</td>\n",
       "    </tr>\n",
       "    <tr>\n",
       "      <th>1071</th>\n",
       "      <td>ADOLFO TORRES 328, 20000, Aguascalientes</td>\n",
       "      <td>POINT (21.88367662 -102.29782133)</td>\n",
       "    </tr>\n",
       "    <tr>\n",
       "      <th>647</th>\n",
       "      <td>2 DE ABRIL 79, 70000, Heroica Ciudad de Juchit...</td>\n",
       "      <td>POINT (16.43331829 -95.02119989000001)</td>\n",
       "    </tr>\n",
       "    <tr>\n",
       "      <th>366</th>\n",
       "      <td>CORONA ARAIZA 32, 48900, Autlán de Navarro</td>\n",
       "      <td>POINT (19.77062641 -104.36761641)</td>\n",
       "    </tr>\n",
       "  </tbody>\n",
       "</table>\n",
       "</div>"
      ],
      "text/plain": [
       "                                              direccion  \\\n",
       "952           AQUILES SERDÁN 1400, 95150, Tierra Blanca   \n",
       "984   MIGUEL ALEMÁN 410, 91460, Alto Lucero de Gutié...   \n",
       "1071           ADOLFO TORRES 328, 20000, Aguascalientes   \n",
       "647   2 DE ABRIL 79, 70000, Heroica Ciudad de Juchit...   \n",
       "366          CORONA ARAIZA 32, 48900, Autlán de Navarro   \n",
       "\n",
       "                                    geometry  \n",
       "952         POINT (18.45082873 -96.35232557)  \n",
       "984         POINT (19.62296423 -96.73362021)  \n",
       "1071       POINT (21.88367662 -102.29782133)  \n",
       "647   POINT (16.43331829 -95.02119989000001)  \n",
       "366        POINT (19.77062641 -104.36761641)  "
      ]
     },
     "execution_count": 77,
     "metadata": {},
     "output_type": "execute_result"
    }
   ],
   "source": [
    "gdf = gdf.fillna(0)\n",
    "gdf['direccion'] = gdf.nom_vial+' '+\\\n",
    "                    gdf.numero_ext.astype(int).astype(str)\\\n",
    "                    +', '+gdf.cod_postal.astype(int).astype(str)\\\n",
    "                    +', '+gdf.municipio\n",
    "gdf[['direccion','geometry']].head()"
   ]
  },
  {
   "cell_type": "code",
   "execution_count": 78,
   "metadata": {},
   "outputs": [
    {
     "data": {
      "text/plain": [
       "Location(Flatiron Building, 175, 5th Avenue, Flatiron Building, Manhattan Community Board 5, New York County, NYC, New York, 10010, United States of America, (40.7410861, -73.9896298241625, 0.0))"
      ]
     },
     "execution_count": 78,
     "metadata": {},
     "output_type": "execute_result"
    }
   ],
   "source": [
    "from geopy.geocoders import Nominatim\n",
    "geolocator = Nominatim()\n",
    "location = geolocator.geocode(\"175 5th Avenue NYC\")\n",
    "location"
   ]
  },
  {
   "cell_type": "code",
   "execution_count": 80,
   "metadata": {
    "collapsed": true
   },
   "outputs": [],
   "source": [
    "gdf['coordenadas'] = gdf.head(5).direccion.apply(geolocator.geocode)"
   ]
  },
  {
   "cell_type": "code",
   "execution_count": 81,
   "metadata": {},
   "outputs": [
    {
     "data": {
      "text/plain": [
       "952     (Aquiles Serdán, Obrera, Tierra Blanca, Veracr...\n",
       "984                                                  None\n",
       "1071    (Adolfo Torres, Macro Espacio para la Cultura ...\n",
       "647                                                  None\n",
       "366     (Corona Araiza, Autlán de Navarro, Jalisco, 48...\n",
       "873                                                   NaN\n",
       "874                                                   NaN\n",
       "920                                                   NaN\n",
       "503                                                   NaN\n",
       "723                                                   NaN\n",
       "Name: coordenadas, dtype: object"
      ]
     },
     "execution_count": 81,
     "metadata": {},
     "output_type": "execute_result"
    }
   ],
   "source": [
    "gdf['coordenadas']"
   ]
  },
  {
   "cell_type": "code",
   "execution_count": 82,
   "metadata": {},
   "outputs": [
    {
     "data": {
      "text/plain": [
       "Location(Adolfo Torres, Macro Espacio para la Cultura y las Artes - MECA, Aguascalientes, 20000, México, (21.8838055, -102.2978529, 0.0))"
      ]
     },
     "execution_count": 82,
     "metadata": {},
     "output_type": "execute_result"
    }
   ],
   "source": [
    "gdf.iloc[2,:].coordenadas\n",
    "\n"
   ]
  },
  {
   "cell_type": "code",
   "execution_count": 83,
   "metadata": {},
   "outputs": [
    {
     "data": {
      "text/plain": [
       "'Coppel, Avenida Morelos, Ganaderia, Rincón de Romos, Aguascalientes, 20408, México'"
      ]
     },
     "execution_count": 83,
     "metadata": {},
     "output_type": "execute_result"
    }
   ],
   "source": [
    "location = geolocator.reverse(\"22.23051478,-102.32095893\")\n",
    "location.address"
   ]
  },
  {
   "cell_type": "markdown",
   "metadata": {},
   "source": [
    "## Datos"
   ]
  },
  {
   "cell_type": "markdown",
   "metadata": {},
   "source": [
    "### Descargando los datos diréctamente"
   ]
  },
  {
   "cell_type": "markdown",
   "metadata": {},
   "source": [
    "http://www.conabio.gob.mx/informacion/gis/\n",
    "\n",
    "http://geo.datos.gob.mx/geoserver/web/wicket/bookmarkable/org.geoserver.web.demo.MapPreviewPage?1\n",
    "\n",
    "http://www.inegi.org.mx/geo/contenidos/geoestadistica/m_geoestadistico.aspx"
   ]
  },
  {
   "cell_type": "code",
   "execution_count": 85,
   "metadata": {},
   "outputs": [
    {
     "data": {
      "text/plain": [
       "<matplotlib.axes._subplots.AxesSubplot at 0x7f730243bc88>"
      ]
     },
     "execution_count": 85,
     "metadata": {},
     "output_type": "execute_result"
    },
    {
     "data": {
      "image/png": "[encoded data removed]",
      "text/plain": [
       "<matplotlib.figure.Figure at 0x7f730243bb38>"
      ]
     },
     "metadata": {},
     "output_type": "display_data"
    }
   ],
   "source": [
    "hidro_lotica = gpd.read_file('hidrolingw/')\n",
    "hidro_lotica.plot()"
   ]
  },
  {
   "cell_type": "code",
   "execution_count": 86,
   "metadata": {},
   "outputs": [
    {
     "data": {
      "text/html": [
       "<div>\n",
       "<style>\n",
       "    .dataframe thead tr:only-child th {\n",
       "        text-align: right;\n",
       "    }\n",
       "\n",
       "    .dataframe thead th {\n",
       "        text-align: left;\n",
       "    }\n",
       "\n",
       "    .dataframe tbody tr th {\n",
       "        vertical-align: top;\n",
       "    }\n",
       "</style>\n",
       "<table border=\"1\" class=\"dataframe\">\n",
       "  <thead>\n",
       "    <tr style=\"text-align: right;\">\n",
       "      <th></th>\n",
       "      <th>FNODE_</th>\n",
       "      <th>TNODE_</th>\n",
       "      <th>LPOLY_</th>\n",
       "      <th>RPOLY_</th>\n",
       "      <th>LENGTH</th>\n",
       "      <th>COV_</th>\n",
       "      <th>COV_ID</th>\n",
       "      <th>CLAVE</th>\n",
       "      <th>DESCRIPCIO</th>\n",
       "      <th>geometry</th>\n",
       "    </tr>\n",
       "  </thead>\n",
       "  <tbody>\n",
       "    <tr>\n",
       "      <th>0</th>\n",
       "      <td>33</td>\n",
       "      <td>22</td>\n",
       "      <td>0</td>\n",
       "      <td>0</td>\n",
       "      <td>0.001955</td>\n",
       "      <td>1</td>\n",
       "      <td>300</td>\n",
       "      <td>300</td>\n",
       "      <td>Corriente perenne</td>\n",
       "      <td>LINESTRING (-99.97987072466347 19.061237923737...</td>\n",
       "    </tr>\n",
       "    <tr>\n",
       "      <th>1</th>\n",
       "      <td>3</td>\n",
       "      <td>35</td>\n",
       "      <td>0</td>\n",
       "      <td>0</td>\n",
       "      <td>0.003592</td>\n",
       "      <td>2</td>\n",
       "      <td>300</td>\n",
       "      <td>300</td>\n",
       "      <td>Corriente perenne</td>\n",
       "      <td>LINESTRING (-99.90912671381362 19.063515884832...</td>\n",
       "    </tr>\n",
       "    <tr>\n",
       "      <th>2</th>\n",
       "      <td>37</td>\n",
       "      <td>27</td>\n",
       "      <td>0</td>\n",
       "      <td>0</td>\n",
       "      <td>0.000780</td>\n",
       "      <td>3</td>\n",
       "      <td>310</td>\n",
       "      <td>310</td>\n",
       "      <td>Corriente intermitente</td>\n",
       "      <td>LINESTRING (-99.48174837533675 19.062813397942...</td>\n",
       "    </tr>\n",
       "    <tr>\n",
       "      <th>3</th>\n",
       "      <td>2</td>\n",
       "      <td>38</td>\n",
       "      <td>0</td>\n",
       "      <td>0</td>\n",
       "      <td>0.005037</td>\n",
       "      <td>4</td>\n",
       "      <td>300</td>\n",
       "      <td>300</td>\n",
       "      <td>Corriente perenne</td>\n",
       "      <td>LINESTRING (-99.77364114578728 19.064206107756...</td>\n",
       "    </tr>\n",
       "    <tr>\n",
       "      <th>4</th>\n",
       "      <td>38</td>\n",
       "      <td>44</td>\n",
       "      <td>0</td>\n",
       "      <td>0</td>\n",
       "      <td>0.002245</td>\n",
       "      <td>5</td>\n",
       "      <td>300</td>\n",
       "      <td>300</td>\n",
       "      <td>Corriente perenne</td>\n",
       "      <td>LINESTRING (-99.77777412678614 19.061685471564...</td>\n",
       "    </tr>\n",
       "  </tbody>\n",
       "</table>\n",
       "</div>"
      ],
      "text/plain": [
       "   FNODE_  TNODE_  LPOLY_  RPOLY_    LENGTH  COV_  COV_ID  CLAVE  \\\n",
       "0      33      22       0       0  0.001955     1     300    300   \n",
       "1       3      35       0       0  0.003592     2     300    300   \n",
       "2      37      27       0       0  0.000780     3     310    310   \n",
       "3       2      38       0       0  0.005037     4     300    300   \n",
       "4      38      44       0       0  0.002245     5     300    300   \n",
       "\n",
       "               DESCRIPCIO                                           geometry  \n",
       "0       Corriente perenne  LINESTRING (-99.97987072466347 19.061237923737...  \n",
       "1       Corriente perenne  LINESTRING (-99.90912671381362 19.063515884832...  \n",
       "2  Corriente intermitente  LINESTRING (-99.48174837533675 19.062813397942...  \n",
       "3       Corriente perenne  LINESTRING (-99.77364114578728 19.064206107756...  \n",
       "4       Corriente perenne  LINESTRING (-99.77777412678614 19.061685471564...  "
      ]
     },
     "execution_count": 86,
     "metadata": {},
     "output_type": "execute_result"
    }
   ],
   "source": [
    "hidro_lotica.head()"
   ]
  },
  {
   "cell_type": "code",
   "execution_count": 87,
   "metadata": {},
   "outputs": [
    {
     "data": {
      "text/plain": [
       "DESCRIPCIO\n",
       "Acueductos                  570\n",
       "Canales                    2035\n",
       "Corriente intermitente    20792\n",
       "Corriente perenne          4510\n",
       "L¡mite estatal               19\n",
       "dtype: int64"
      ]
     },
     "execution_count": 87,
     "metadata": {},
     "output_type": "execute_result"
    }
   ],
   "source": [
    "hidro_lotica.groupby('DESCRIPCIO').size()\n",
    "\n"
   ]
  },
  {
   "cell_type": "markdown",
   "metadata": {
    "collapsed": true
   },
   "source": [
    "\n",
    "\n"
   ]
  },
  {
   "cell_type": "markdown",
   "metadata": {
    "collapsed": true
   },
   "source": [
    "## Conectándose a un api"
   ]
  },
  {
   "cell_type": "code",
   "execution_count": 99,
   "metadata": {},
   "outputs": [
    {
     "data": {
      "image/svg+xml": [
       "<svg xmlns=\"http://www.w3.org/2000/svg\" xmlns:xlink=\"http://www.w3.org/1999/xlink\" width=\"100.0\" height=\"100.0\" viewBox=\"13.38752804 52.516537039999996 0.0105989200000014 0.01339092000000619\" preserveAspectRatio=\"xMinYMin meet\"><g transform=\"matrix(1,0,0,-1,0,105.046465)\"><polyline fill=\"none\" stroke=\"#66cc99\" stroke-width=\"0.0002678184000001238\" points=\"13.3888,52.517033 13.388625,52.518883 13.388024,52.52175 13.388898,52.521997 13.391643,52.522074 13.391718,52.522858 13.393549,52.526228 13.392425,52.528233 13.397631,52.529432\" opacity=\"0.8\" /></g></svg>"
      ],
      "text/plain": [
       "<shapely.geometry.linestring.LineString at 0x7f73037647b8>"
      ]
     },
     "execution_count": 99,
     "metadata": {},
     "output_type": "execute_result"
    }
   ],
   "source": [
    "import requests\n",
    "params={'geometries':'geojson'}\n",
    "p1 = '19.3711, -99.5639'\n",
    "p2 = '19.2862, -99.5859'\n",
    "ruta=requests.get('http://router.project-osrm.org/route/v1/driving/13.388860,52.517037;13.397634,52.529407',params=params)\n",
    "\n",
    "r = ruta.json()['routes']\n",
    "\n",
    "distancia = r[0]['distance']\n",
    "duration = r[0]['duration']\n",
    "ruta=LineString(r[0]['geometry']['coordinates'])\n",
    "ruta"
   ]
  },
  {
   "cell_type": "code",
   "execution_count": 98,
   "metadata": {},
   "outputs": [
    {
     "data": {
      "text/plain": [
       "[[13.3888, 52.517033],\n",
       " [13.388625, 52.518883],\n",
       " [13.388024, 52.52175],\n",
       " [13.388898, 52.521997],\n",
       " [13.391643, 52.522074],\n",
       " [13.391718, 52.522858],\n",
       " [13.393549, 52.526228],\n",
       " [13.392425, 52.528233],\n",
       " [13.397631, 52.529432]]"
      ]
     },
     "execution_count": 98,
     "metadata": {},
     "output_type": "execute_result"
    }
   ],
   "source": [
    "ruta.json()['routes'][0]['geometry']['coordinates']"
   ]
  },
  {
   "cell_type": "code",
   "execution_count": null,
   "metadata": {
    "collapsed": true
   },
   "outputs": [],
   "source": [
    "df.to_file('geoDF.geojson', driver=\"GeoJSON\")"
   ]
  },
  {
   "cell_type": "code",
   "execution_count": null,
   "metadata": {
    "collapsed": true
   },
   "outputs": [],
   "source": [
    "gdf.to_file('CDMX')"
   ]
  },
  {
   "cell_type": "markdown",
   "metadata": {},
   "source": [
    "# Hora de jugar"
   ]
  },
  {
   "cell_type": "markdown",
   "metadata": {},
   "source": [
    "** Quiz ** Modifica el código para obtener la columna coordenadas como una geometria a partir de una dirección. ** Hint **Usa funciones apply\n",
    "\n",
    "** Quiz ** Crea una función apply que te devuelva la dirección si le envias un objeto Point()"
   ]
  },
  {
   "cell_type": "markdown",
   "metadata": {},
   "source": [
    "**Quiz** Crea una función apply en la que le envías dos puntos y te devuelve la distancia del api osrm"
   ]
  },
  {
   "cell_type": "markdown",
   "metadata": {},
   "source": [
    "** Quiz ** Crea un dataframe en el que obtengas una matriz con las distancias entre los centroides de las delegaciones de la CDMX, use el api de osrm\n"
   ]
  },
  {
   "cell_type": "markdown",
   "metadata": {},
   "source": [
    "** Quiz ** Para los datos en probe.probe encuentra la delegación o municipio, la colonia (si tenemos los datos) y el distrito geoelectoral al que pertenecen"
   ]
  },
  {
   "cell_type": "markdown",
   "metadata": {},
   "source": [
    "** Quiz ** Considerando un radio de 1km, encuentra el COPPEL que tiene una mayor  densidad de probes. **Hint**: Cambia el crs a mercator"
   ]
  },
  {
   "cell_type": "markdown",
   "metadata": {},
   "source": [
    " **Quiz** Calcula los km de rio por municipio en el Edo de México"
   ]
  },
  {
   "cell_type": "markdown",
   "metadata": {},
   "source": [
    "** Quiz ** Calcula el número de puntos en los polígonos de los municipios."
   ]
  },
  {
   "cell_type": "code",
   "execution_count": 1,
   "metadata": {},
   "outputs": [
    {
     "name": "stdout",
     "output_type": "stream",
     "text": [
      "Populating the interactive namespace from numpy and matplotlib\n"
     ]
    }
   ],
   "source": [
    "%pylab inline"
   ]
  },
  {
   "cell_type": "code",
   "execution_count": 2,
   "metadata": {},
   "outputs": [
    {
     "data": {
      "text/plain": [
       "([], <a list of 0 Text yticklabel objects>)"
      ]
     },
     "execution_count": 2,
     "metadata": {},
     "output_type": "execute_result"
    },
    {
     "data": {
      "image/png": "[encoded data removed]",
      "text/plain": [
       "<Figure size 432x288 with 3 Axes>"
      ]
     },
     "metadata": {},
     "output_type": "display_data"
    }
   ],
   "source": [
    "# Fixing random state for reproducibility\n",
    "random.seed(19680801)\n",
    "\n",
    "\n",
    "# create some data to use for the plot\n",
    "dt = 0.001\n",
    "t = arange(0.0, 10.0, dt)\n",
    "r = exp(-t[:1000] / 0.05)  # impulse response\n",
    "x = random.randn(len(t))\n",
    "s = convolve(x, r)[:len(x)] * dt  # colored noise\n",
    "\n",
    "# the main axes is subplot(111) by default\n",
    "plot(t, s)\n",
    "axis([0, 1, 1.1 * np.min(s), 2 * np.max(s)])\n",
    "xlabel('time (s)')\n",
    "ylabel('current (nA)')\n",
    "title('Gaussian colored noise')\n",
    "\n",
    "# this is an inset axes over the main axes\n",
    "a = axes([.65, .6, .2, .2], facecolor='k')\n",
    "n, bins, patches = hist(s, 400, density=True)\n",
    "title('Probability')\n",
    "xticks([])\n",
    "yticks([])\n",
    "\n",
    "# this is another inset axes over the main axes\n",
    "a = axes([0.2, 0.6, .2, .2], facecolor='k')\n",
    "plot(t[:len(r)], r)\n",
    "title('Impulse response')\n",
    "xlim(0, 0.2)\n",
    "xticks([])\n",
    "yticks([])"
   ]
  },
  {
   "cell_type": "code",
   "execution_count": null,
   "metadata": {
    "collapsed": true
   },
   "outputs": [],
   "source": []
  },
  {
   "cell_type": "markdown",
   "metadata": {},
   "source": [
    "¿Qué sigue?\n",
    "\n",
    "Vale la pena echarle un ojo a algunas de las siguientes librerías dependiendo de sus intereses, entender para que sirve y en que les podría beneficiar aprender a utilizarlas\n",
    "\n",
    "- sci-py: Cómputo científico, tiene un módulo para análisis espacial (scipy.spatial)\n",
    "- scikit-learn: Machine Learning\n",
    "- bokeh: Gráficas dinámicas\n",
    "- pyspark: Cómputo de altas prestaciones\n",
    "- osmnx: módulo para conectarse a osm de forma \"sencilla\"\n",
    "- rasterio: datos raster\n",
    "- pysal: análisis espacial\n",
    "- folium: mapas Leaflet.js \n",
    "- cartopy: Herramientas cartográficas para python\n",
    "- rasterstats:  \n",
    "- geodjango: Framework para aplicaciones web geográficas (Advertencia: podría ser necesario saber Django\n",
    "- geoplot: como seaborn pero espacial\n"
   ]
  }
 ],
 "metadata": {
  "kernelspec": {
   "display_name": "Python 2",
   "language": "python",
   "name": "python2"
  },
  "language_info": {
   "codemirror_mode": {
    "name": "ipython",
    "version": 2
   },
   "file_extension": ".py",
   "mimetype": "text/x-python",
   "name": "python",
   "nbconvert_exporter": "python",
   "pygments_lexer": "ipython2",
   "version": "2.7.12"
  }
 },
 "nbformat": 4,
 "nbformat_minor": 2
}
